{
 "cells": [
  {
   "cell_type": "markdown",
   "id": "126831ef-b335-4b23-9fc5-a76d8fc0509d",
   "metadata": {},
   "source": [
    "# 関数とは\n",
    "\n",
    "関数とはあるデータを受け取り、定められた独自の処理を実行し、その結果を返す命令のことです。\n",
    "\r\n",
    "関数には2種類あり、1つ目は独自関数、2つ目は標準関数（組み込み関数）です\n",
    "。\r\n",
    "独自関数は、プログラマーが変数を作るのと同じように自由に名前と処理を考え、プログラマーが作ることもできま\n",
    "す。\r\n",
    "関数を組み合わせることで、プログラムを効率的に作ることができ\n",
    "ます。\r\n",
    "標準関数は、Pythonが最初から用意してある関\n",
    "数です。\r\n",
    "標準関数は、print()やlen()、input()などを\n",
    "指します。\r\n",
    "プログラミングの世界では、自由に関数を定義し、作った関数を何度も呼び出して使うことができるという特徴\n",
    "があります。\r\n",
    "この章では主に独自関数の文法に重点を置き、説明します。"
   ]
  },
  {
   "cell_type": "markdown",
   "id": "36c97a0d-f5ca-4895-9095-32c34ee0a951",
   "metadata": {},
   "source": [
    "* * *"
   ]
  },
  {
   "cell_type": "markdown",
   "id": "6c854b59-be3e-43fb-89df-c2e3e2b4a711",
   "metadata": {},
   "source": [
    "## 関数を使うメリット・デメリット\n",
    "\n",
    "まず、メリットから説明します。\n",
    "\r\n",
    "ここでは大きく2つ紹介しますの幅も広がります。"
   ]
  },
  {
   "cell_type": "markdown",
   "id": "5afff2a9-d198-4587-adda-9fcb6e09f90d",
   "metadata": {},
   "source": [
    "### １）コードがわかりやすくなる\n",
    "\n",
    "関数を使うことのメリットとして、まずコードがわかりやすくなります。\n",
    "\n",
    "各機能をまとめておくことで見やすくなるだけではなく、デバッグ作業も効率良くなります。"
   ]
  },
  {
   "cell_type": "markdown",
   "id": "528a50bc-a375-4af2-8733-3b7bf0b575b0",
   "metadata": {},
   "source": [
    "### ２）関数でコードの重複を減らすことができる。\n",
    "\n",
    "コードの保守性が上がります。\n",
    "\n",
    "次は、デメリットですが、細かい説明をするといくつかピックアップできますが、\n",
    "\n",
    "そこまで**デメリット**というデメリットはあまりあげられません。\n",
    "\n",
    "ですので、積極的に関数を作って使う習慣を作って頂けるとプログラミングの幅も広がります。"
   ]
  },
  {
   "cell_type": "markdown",
   "id": "dfec9469-05b5-46c9-9937-52b1bf27855d",
   "metadata": {},
   "source": [
    "* * *"
   ]
  },
  {
   "cell_type": "markdown",
   "id": "fead8621-d4e9-4b0f-878f-ef3bdbfcaa2f",
   "metadata": {},
   "source": [
    "## 関数の定義\n",
    "\n",
    "独自関数の説明として、実際に関数を作っていきます。\n",
    "\r\n",
    "（※関数を作ることを関数を定義するなどと言います。ます。"
   ]
  },
  {
   "cell_type": "markdown",
   "id": "d4cc916a-ccd5-4aa2-b8a0-1e8c6c32bbd2",
   "metadata": {},
   "source": [
    "関数を定義するためには、defというキーワードを使います。"
   ]
  },
  {
   "cell_type": "markdown",
   "id": "57808513-da43-4990-afdd-25cf87f71a62",
   "metadata": {},
   "source": [
    "~~~\n",
    "# 注) このコードは構文のため動作しませんので注意してください。\n",
    "def 関数名():\n",
    "    # インデント(字下げ）をしっかりするように！\n",
    "    # 処理 \n",
    "~~~"
   ]
  },
  {
   "cell_type": "markdown",
   "id": "86d4cf6c-3a6b-4c9a-8118-fdd5dd008cbb",
   "metadata": {},
   "source": [
    "それでは上記基本構文をベースに、hello!と出力するだけの関数hello関数を作って見ましょう。\n",
    "\n",
    "helloが関数名で、インデントした行からが、hello関数の処理の定義を記述しています。"
   ]
  },
  {
   "cell_type": "code",
   "execution_count": 4,
   "id": "995e7d91-1e74-4706-8546-ee2c72925708",
   "metadata": {},
   "outputs": [],
   "source": [
    "# インデントは半角スペース4つ分のことです。\n",
    "# 以下、hello()関数を定義したサンプルです。\n",
    "\n",
    "def hello():\n",
    "    print(\"hello!\")"
   ]
  },
  {
   "cell_type": "markdown",
   "id": "32fe6c72-9707-4031-a523-5c09fb125f7b",
   "metadata": {},
   "source": [
    "関数名は変数名と同様に、「予約語」を使わない限り、好きな名前で定義できます。\n",
    "\n",
    "先ほどのプログラムでは、hello関数を定義しただけですので、呼び出しはしていません。\n",
    "\n",
    "関数は定義しただけでは実行されず、実際に呼び出すことで使うことができます。\n",
    "\n",
    "関数を実行（呼び出す）には次のように関数名()とすることで呼び出せます。下記の例では、独自関数hello()を定義し、呼び出す(実行する)にはhello()とします。"
   ]
  },
  {
   "cell_type": "code",
   "execution_count": 5,
   "id": "72411157-41e0-4e7f-8e8e-dc29c2356e0a",
   "metadata": {},
   "outputs": [
    {
     "name": "stdout",
     "output_type": "stream",
     "text": [
      "hello!\n"
     ]
    }
   ],
   "source": [
    "# hello関数の定義\n",
    "def hello():\n",
    "    print(\"hello!\")\n",
    "\n",
    "# 関数の呼び出し(実行)\n",
    "hello() # hello! が出力される"
   ]
  },
  {
   "cell_type": "markdown",
   "id": "d78d0228-c7f3-4755-86ab-cf39607f028c",
   "metadata": {},
   "source": [
    "関数の定義では、あくまでも関数を定義しただけですので、処理は行われておりません。\n",
    "\n",
    "実行するには、関数名()とある行で呼び出し処理が行われています。"
   ]
  },
  {
   "cell_type": "markdown",
   "id": "5887ac0e-3f7a-44f4-82cc-6dd1b72853c4",
   "metadata": {},
   "source": [
    "## 関数名\n",
    "関数名は、開発者が自由に名前をつけることが出来ますが、いくつか注意点があります。\n",
    "\n",
    "注意点として関数名を定義する際に、予約語などで関数名をつけないことです。\n",
    "\n",
    "また、Pythonで関数名を独自で定義する際に2単語以上の関数名にする場合は、以下のように、小文字で下線(_)を挟むスタイルが推奨されています。"
   ]
  },
  {
   "cell_type": "markdown",
   "id": "fe4b7da9-2bb5-4f97-8899-d769e12b5d48",
   "metadata": {},
   "source": [
    "~~~\n",
    "def lowercase_underscore:\n",
    "    print(\"lowercase_underscore\")\n",
    "~~~"
   ]
  },
  {
   "cell_type": "markdown",
   "id": "fd6b8030-252d-4a1c-886f-f8d245103156",
   "metadata": {},
   "source": [
    "* * *"
   ]
  },
  {
   "cell_type": "markdown",
   "id": "0e0cc051-ec4b-4aa5-8da9-73902d55abc9",
   "metadata": {},
   "source": [
    "## pass\n",
    "また、関数は、空のリスト型や、空の辞書型を定義するときのように、中身の処理のない関数を定義することができます。\n",
    "\n",
    "とりあえず関数を宣言しておいて、関数の処理としては何もしない時は、「pass」を使います。"
   ]
  },
  {
   "cell_type": "code",
   "execution_count": 6,
   "id": "f67317dd-e26d-41cb-9019-5598ff1553fe",
   "metadata": {},
   "outputs": [],
   "source": [
    "# 何も処理のないtest関数を定義\n",
    "def test():\n",
    "    pass"
   ]
  },
  {
   "cell_type": "markdown",
   "id": "6203373c-893d-43db-81c2-d048eecbfc6b",
   "metadata": {},
   "source": [
    "* * *"
   ]
  },
  {
   "cell_type": "markdown",
   "id": "a69da387-3c82-4789-955d-80c73549b14e",
   "metadata": {},
   "source": [
    "## 引数\n",
    "引数とは、関数を呼び出す際に関数に与える値のことです。\n",
    "\n",
    "大きく2種類に分けることが出来ます。"
   ]
  },
  {
   "cell_type": "markdown",
   "id": "e3b32739-321d-44f8-b944-0f1e85387cbb",
   "metadata": {},
   "source": [
    "### 1) 仮引数（関数の定義側で受け取る値）"
   ]
  },
  {
   "cell_type": "markdown",
   "id": "22c7040a-df0e-42d3-a7a5-607ec5a76622",
   "metadata": {},
   "source": [
    "### 2) 実引数（関数の呼び出し側で与える値）"
   ]
  },
  {
   "cell_type": "markdown",
   "id": "146a6d5a-3018-4519-8d83-008bf2029022",
   "metadata": {},
   "source": [
    "以下、引数を用いた関数のサンプルプログラムです。"
   ]
  },
  {
   "cell_type": "code",
   "execution_count": 9,
   "id": "e4f5d713-1521-4182-be42-18b4cc7c7b39",
   "metadata": {},
   "outputs": [
    {
     "name": "stdout",
     "output_type": "stream",
     "text": [
      "こんにちは山田さん\n"
     ]
    }
   ],
   "source": [
    "def say_hello(name):\n",
    "    print(\"こんにちは\" + str(name) + \"さん\")\n",
    "\n",
    "say_hello(\"山田\") # こんにちは山田さん"
   ]
  },
  {
   "cell_type": "markdown",
   "id": "dd1fffb0-e803-4d81-bb8d-454fee6d94ab",
   "metadata": {},
   "source": [
    "## 返り値(戻り値)\n",
    "\n",
    "![戻り値](https://camo.qiitausercontent.com/591f54b285d24b3b59e7d6aa40049b6e485622b5/68747470733a2f2f71696974612d696d6167652d73746f72652e73332e616d617a6f6e6177732e636f6d2f302f3130353838372f31356365303534612d636536632d633364372d656532652d3366383339353033373435332e706e67)\n",
    "\n",
    "関数で処理されたデータを呼び出し元に返します。\n",
    "\r\n",
    "後ほど、「引数とreturn」にて詳しく見ていきます。"
   ]
  },
  {
   "cell_type": "markdown",
   "id": "0647df0f-1b98-4f53-8db2-fae478cd11d2",
   "metadata": {},
   "source": [
    "## 引数とreturn\n",
    "\n",
    "先ほど、返り値(戻り値)について説明しましたが、return文を実行すると、関数を終了し呼び出し元に戻ります。\n",
    "\n",
    "### return 【返り値(戻り値)】\n",
    "\n",
    "引数と返り値(戻り値)がある場合の関数の書式を紹介します。\n",
    "\n",
    "戻り値を省略した場合は、Noneが返り値(戻り値)となります。\n",
    "\n",
    "また、関数内で戻り値がないreturnが実行された場合も、戻り値はNoneになります。"
   ]
  },
  {
   "cell_type": "code",
   "execution_count": 11,
   "id": "01d685e5-9ac7-4b5c-8aca-e4cf542d959f",
   "metadata": {},
   "outputs": [
    {
     "name": "stdout",
     "output_type": "stream",
     "text": [
      "5\n"
     ]
    }
   ],
   "source": [
    "# def 関数名(引数):\n",
    "#     処理\n",
    "#    return 返り値\n",
    "\n",
    "def adder(a, b):\n",
    "    return a+b\n",
    "\n",
    "# 関数内部の処理を変数に保持しておきたい時にreturnは便利です。\n",
    "value = adder(5,10) # 変数valueに15が代入される\n",
    "\n",
    "\n",
    "\n",
    "# 先ほどのlen()を用いて返り値（戻り値）に関して説明します。\n",
    "# 変数dataは、1〜5の5つの要素を持ったリストです。\n",
    "data = [1,2,3,4,5]\n",
    "\n",
    "# 関数len()を実行することで、リストであるdataの要素5が返り値になります。\n",
    "# その返り値5が変数valueに代入されます。\n",
    "\n",
    "value = len(data)\n",
    "\n",
    "print(value)"
   ]
  },
  {
   "attachments": {
    "f41ab602-9f1b-4207-b077-b4cd394ffd0b.png": {
     "image/png": "[encoded data removed]"
    }
   },
   "cell_type": "markdown",
   "id": "0519b31c-f5a1-459b-a1fe-68ce891a7806",
   "metadata": {},
   "source": [
    "上記len()を図にすると以下のような流れになります。\n",
    "\n",
    "![イメージ図![return.png](attachment:f41ab602-9f1b-4207-b077-b4cd394ffd0b.png)]"
   ]
  },
  {
   "cell_type": "markdown",
   "id": "1cfe8ae2-f31b-4492-a536-189e48d7c243",
   "metadata": {},
   "source": [
    "まず変数dataに[1,2,3,4,5]が代入され、リストとして定義されます。\n",
    "\n",
    "次に、len()関数によってリストであるdataの要素の数を取得します。\n",
    "\n",
    "その取得した結果がreturnによって返されており、この返された値が返り値になります。その後、返り値5が変数valueに代入されています。"
   ]
  },
  {
   "cell_type": "markdown",
   "id": "4bac9322-98dd-4292-ae64-615f520bf929",
   "metadata": {},
   "source": [
    "## なぜreturnを使うのか\n",
    "なぜprint()ではなく、returnを使うのかという点がいまいちピンと来ないことがあります。\n",
    "\n",
    "この節では、多くのプログラミング初心者がつまずきやすい\n",
    "\n",
    "なぜ関数内で、print()ではなくreturnを使うのかという違いに説明します。\n",
    "\n",
    "大前提として、print()とreturnは全くの別物なため、しっかり使い分けが出来るようにする必要があります。\n",
    "\n",
    "まず、2つの違いとしては次の通りです。\n",
    "\n",
    "returnは値を返すことが目的\n",
    "\n",
    "print()は値を出力すること目的\n",
    "\n",
    "つまり、returnを使うということは値を返す必要がある時に使用するということになります。\n",
    "\n",
    "具体的にreturnを使った正しい例に関して説明します。\n",
    "\n",
    "では、まず以下のプログラムを見てください。"
   ]
  },
  {
   "cell_type": "code",
   "execution_count": 12,
   "id": "73c91915-16f8-49fa-b494-9dc47ab320d0",
   "metadata": {},
   "outputs": [
    {
     "name": "stdout",
     "output_type": "stream",
     "text": [
      "6\n",
      "6\n"
     ]
    }
   ],
   "source": [
    "def adder1(a, b):\n",
    "    print(a+b)\n",
    "\n",
    "def adder2(a, b):\n",
    "    return a + b\n",
    "\n",
    "adder1(2, 4)\n",
    "sum = adder2(2, 4)\n",
    "print(sum)"
   ]
  },
  {
   "cell_type": "markdown",
   "id": "7faeedbb-30cb-4660-907e-33bc8ef6c584",
   "metadata": {},
   "source": [
    "このプログラムでは、returnの良さが伝わりにくく、メリットが感じられないと思います。\n",
    "\n",
    "というのも、adder1のほうが関数の呼び出しが早く出力も関数内部で行うためです。\n",
    "\n",
    "ですが一般的に使われる関数の使い方の1つに、ある計算結果をreturnで受け取り再度別の関数にその値を渡すといったことを行います。\n",
    "\n",
    "上記方法ではreturnの良さが伝わりません。\n",
    "\n",
    "では、イメージとしてreturnの使い方として正しいプログラムを説明しましょう。\n",
    "\n",
    "以下のサンプルプログラムを読んでください。"
   ]
  },
  {
   "cell_type": "code",
   "execution_count": 13,
   "id": "87f0f122-f89e-46db-8cc6-cbc977a13819",
   "metadata": {},
   "outputs": [
    {
     "name": "stdout",
     "output_type": "stream",
     "text": [
      "16\n"
     ]
    }
   ],
   "source": [
    "def a(a,b):\n",
    "    return a + b\n",
    "\n",
    "def b(a,b):\n",
    "    return a * b\n",
    "\n",
    "x = a(2,2) # xに4が代入\n",
    "y = b(x, x)  # 4 * 4\n",
    "\n",
    "print(y) # 16が出力される"
   ]
  },
  {
   "cell_type": "markdown",
   "id": "d94daaaf-77d8-423c-9089-88fc16641ab6",
   "metadata": {},
   "source": [
    "関数bのように前の処理結果xをまた関数bの引数で渡しています。\n",
    "\n",
    "このように、returnを行うことで計算結果を一旦変数に格納することができ、\n",
    "\n",
    "さらにその値を別の関数に渡して違う処理に繋げることが出来ます。\n",
    "\n",
    "また、関数に渡すというのはreturnを使う一例ですが、関数に渡さないでも返り値(戻り値)に対して更に何かしらの処理を行うことが出来るということがポイントになります。\n",
    "\n",
    "関数内部で出力（print）するだけであればprint()で出力すれば良いですが、内部にprint関数が無い関数は、処理した結果をreturn(返り値/戻り値)で受け取り、\n",
    "\n",
    "その値を変数に代入し、また他の関数にその返り値を渡すことで再度別の処理につなげる事が出来るようになります。\n",
    "\n",
    "前述の通り、returnは値を返すことが目的であるため、関数内部の処理を、関数内部の処理以降のプログラムでも、\n",
    "\n",
    "戻り値として受け取った値を使用することが前提となっています。"
   ]
  },
  {
   "cell_type": "markdown",
   "id": "140f91c4-f79e-4c13-b92a-5852c004a284",
   "metadata": {},
   "source": [
    "## returnを利用した関数のサンプル\n",
    "\n",
    "それでは、関数内部にprint()を使わずreturnを使った関数をサンプルとしてみていきましょう。"
   ]
  },
  {
   "cell_type": "code",
   "execution_count": 16,
   "id": "583e0743-4977-4963-9d4d-2f7ffca88334",
   "metadata": {},
   "outputs": [
    {
     "name": "stdout",
     "output_type": "stream",
     "text": [
      "100\n",
      "10\n"
     ]
    }
   ],
   "source": [
    "def power(x):\n",
    "    return x*x\n",
    "\n",
    "def absolute(x):\n",
    "    if (x < 0):\n",
    "        return -x\n",
    "    else:\n",
    "        return x\n",
    "\n",
    "print(power(10)) # 100\n",
    "print(absolute(-10)) # 10"
   ]
  },
  {
   "cell_type": "markdown",
   "id": "9414b4a9-8f58-4d6e-bb99-d7cb261aa934",
   "metadata": {},
   "source": [
    "## 引数のデフォルト値\n",
    "\n",
    "関数では、引数を指定しなかった場合に引数を設定できます。"
   ]
  },
  {
   "cell_type": "code",
   "execution_count": 18,
   "id": "c62abb6b-2230-4d2e-91b1-5e67c373954b",
   "metadata": {},
   "outputs": [
    {
     "name": "stdout",
     "output_type": "stream",
     "text": [
      "10\n",
      "15\n",
      "3\n",
      "5\n"
     ]
    }
   ],
   "source": [
    "def func(a, b=5):\n",
    "    print(a)\n",
    "    print(b)\n",
    "\n",
    "func(10,15) # 10と15が出力される\n",
    "func(3) # 3と5が出力される"
   ]
  },
  {
   "cell_type": "markdown",
   "id": "e0d8363c-8c9e-4983-99c8-b303f1e65845",
   "metadata": {},
   "source": [
    "ここで、上記プログラムで、b=5となっておりますが、これが引数のデフォルト値です。\n",
    "\n",
    "引数にはデフォルト値を指定することが出来ます。\n",
    "\n",
    "この関数は整数値の引数を2つ与えることで、その2つを出力するだけの関数ですが、\n",
    "\n",
    "もし引数を1つしか渡さなかった場合は、2つ目の値はデフォルト値bが5となっているために、5が出力されます。\n",
    "\n",
    "さて、下記プログラムに関して考えてみてください。\n",
    "\n",
    "下記のプログラムを実行すると、['python', 'Python']が最後の関数呼び出しで出力されます。"
   ]
  },
  {
   "cell_type": "code",
   "execution_count": 19,
   "id": "3d843db5-7f7c-40af-be99-14534a7282dc",
   "metadata": {},
   "outputs": [
    {
     "name": "stdout",
     "output_type": "stream",
     "text": [
      "['python']\n",
      "['python', 'Python']\n"
     ]
    }
   ],
   "source": [
    "def sample(arg, arg_list=[]):\n",
    "    arg_list.append(arg)\n",
    "    print(arg_list)\n",
    "\n",
    "sample('python')\n",
    "sample('Python')\n"
   ]
  },
  {
   "cell_type": "markdown",
   "id": "1ec159d4-c65b-452b-a603-0dccfb07a2b3",
   "metadata": {},
   "source": [
    "Q. この関数を実行する際に、毎回引数に渡した要素だけを返すようにしたい。\n",
    "\n",
    "実際に修正するにはどうすれば良いでしょうか？？\n",
    "\n",
    "A. この場合は、次のように修正する必要があります。"
   ]
  },
  {
   "cell_type": "code",
   "execution_count": 20,
   "id": "b350023b-8b1a-4887-91e3-136f4c542939",
   "metadata": {},
   "outputs": [
    {
     "name": "stdout",
     "output_type": "stream",
     "text": [
      "['python']\n",
      "['Python']\n"
     ]
    }
   ],
   "source": [
    "def sample(arg):\n",
    "    arg_list = [] # リストの初期化\n",
    "    arg_list.append(arg)\n",
    "    print(arg_list)\n",
    "\n",
    "sample('python') # ['python']\n",
    "sample('Python') # ['Python']"
   ]
  },
  {
   "cell_type": "markdown",
   "id": "a13b55bc-f9c2-4e08-869d-9802330960c3",
   "metadata": {},
   "source": [
    "上記は、毎回リストを初期化しています。\n",
    "\n",
    "その後に、引数で渡されたargを初期化した空のリストにappendしています。"
   ]
  },
  {
   "cell_type": "markdown",
   "id": "884f8a44-3d11-47f2-b677-70db641cf3ed",
   "metadata": {},
   "source": [
    "## 関数 変数のスコープ\n",
    "\n",
    "スコープはかなり重要な部分になります。\n",
    "\n",
    "今後、プログラミングをしていく上で、大事な考えになりますので、しっかり押さえていきましょう。\n",
    "\n",
    "ポイントは、変数はどこで作成したかによってスコープ（有効範囲）が違ってきます。\n",
    "\n",
    "まずは、通常の関数の例を見てみましょう。"
   ]
  },
  {
   "cell_type": "code",
   "execution_count": 21,
   "id": "96b0f1c2-4359-4f3e-9e82-6f70baf7dce9",
   "metadata": {},
   "outputs": [
    {
     "name": "stdout",
     "output_type": "stream",
     "text": [
      "15\n"
     ]
    }
   ],
   "source": [
    "def add(x1):\n",
    "    x2 = 10 # 関数内で変数を作成(ローカル変数)\n",
    "    result = x1 + x2\n",
    "    print(result)\n",
    "\n",
    "add(5) # 5 + 10で15が出力"
   ]
  },
  {
   "cell_type": "markdown",
   "id": "d9c1d34e-3737-497f-b9e6-278c48008318",
   "metadata": {},
   "source": [
    "次に、変数のスコープ(有効範囲)に関するプログラムです。"
   ]
  },
  {
   "cell_type": "code",
   "execution_count": 22,
   "id": "a5c89f8b-d6f9-49e4-b0db-a52639427837",
   "metadata": {},
   "outputs": [
    {
     "name": "stdout",
     "output_type": "stream",
     "text": [
      "15\n"
     ]
    },
    {
     "ename": "NameError",
     "evalue": "name 'x2' is not defined",
     "output_type": "error",
     "traceback": [
      "\u001b[1;31m---------------------------------------------------------------------------\u001b[0m",
      "\u001b[1;31mNameError\u001b[0m                                 Traceback (most recent call last)",
      "Cell \u001b[1;32mIn[22], line 7\u001b[0m\n\u001b[0;32m      4\u001b[0m     \u001b[38;5;28mprint\u001b[39m(result)\n\u001b[0;32m      6\u001b[0m add(\u001b[38;5;241m5\u001b[39m) \u001b[38;5;66;03m# 5 + 10で15が出力\u001b[39;00m\n\u001b[1;32m----> 7\u001b[0m \u001b[38;5;28mprint\u001b[39m(\u001b[43mx2\u001b[49m) \u001b[38;5;66;03m# ここでエラーが発生\u001b[39;00m\n",
      "\u001b[1;31mNameError\u001b[0m: name 'x2' is not defined"
     ]
    }
   ],
   "source": [
    "def add(x1):\n",
    "    x2 = 10 # 関数内で変数を作成(ローカル変数)\n",
    "    result = x1 + x2\n",
    "    print(result)\n",
    "\n",
    "add(5) # 5 + 10で15が出力\n",
    "print(x2) # ここでエラーが発生"
   ]
  },
  {
   "cell_type": "markdown",
   "id": "5f3b5d2e-1c1d-4db2-9119-23fd4eda650c",
   "metadata": {},
   "source": [
    "上記のコードを実行すると、NameError: name 'x2' is not definedというエラーが発生します。\n",
    "\n",
    "これは関数内で定義した変数x2はローカル変数であり、ローカル変数か関数内部だけしか有効ではないため、関数の外側でx2を呼び出すとエラーになってしまいます。\n",
    "\n",
    "有効な解決手段として関数の外にx2を定義することです。\n",
    "\n",
    "(※変数のスコープ以外にも、関数内部処理などもわかりやすいよう、修正しています。)"
   ]
  },
  {
   "cell_type": "code",
   "execution_count": 24,
   "id": "d898f1b9-f5c3-4c56-a2d5-608a475e1acc",
   "metadata": {},
   "outputs": [
    {
     "name": "stdout",
     "output_type": "stream",
     "text": [
      "15\n"
     ]
    }
   ],
   "source": [
    "def add(x1,x2):\n",
    "    result = x1 + x2\n",
    "    return result\n",
    "\n",
    "x1 = 5\n",
    "x2 = 10\n",
    "result = add(x1, x2) # 5 + 10で15が出力\n",
    "print(result)"
   ]
  },
  {
   "cell_type": "markdown",
   "id": "c2a7c559-6835-46b9-a69b-0ff0209a86a9",
   "metadata": {},
   "source": [
    "他にも、globalを利用して関数内でグローバル変数を利用することもできます。"
   ]
  },
  {
   "cell_type": "markdown",
   "id": "2513423a-334d-4839-977d-1261767e52cf",
   "metadata": {},
   "source": [
    "## グローバル(global)宣言・グローバル変数\n",
    "\n",
    "関数内でグローバル変数にアクセスするための宣言です。\n",
    "\n",
    "ローカル変数（関数定義の内部で定義した関数）とグローバル変数（関数定義の外側で定義した変数）があります。"
   ]
  },
  {
   "cell_type": "code",
   "execution_count": 25,
   "id": "ed13db7b-b972-4b95-9a09-1d87308e0a1c",
   "metadata": {},
   "outputs": [
    {
     "name": "stdout",
     "output_type": "stream",
     "text": [
      "0\n",
      "0\n",
      "5\n"
     ]
    }
   ],
   "source": [
    "glb = 0\n",
    "\n",
    "def func1():\n",
    "    glb = 1\n",
    "\n",
    "def func2():\n",
    "    global glb\n",
    "    glb = 5\n",
    "\n",
    "print(glb) # 0が出力される\n",
    "func1()\n",
    "print(glb) # 0が出力される\n",
    "func2()\n",
    "print(glb) # 5が出力される"
   ]
  },
  {
   "cell_type": "markdown",
   "id": "4070ce0a-eef2-4bc1-a4b7-de96b07fb6a9",
   "metadata": {},
   "source": [
    "もう一つ例題を見てみましょう。"
   ]
  },
  {
   "cell_type": "code",
   "execution_count": 26,
   "id": "5be2d40b-fc41-4784-9490-d4e0005834b5",
   "metadata": {},
   "outputs": [
    {
     "name": "stdout",
     "output_type": "stream",
     "text": [
      "('グローバル変数', 'ローカル変数')\n"
     ]
    }
   ],
   "source": [
    "var1 = 'グローバル変数'\n",
    "\n",
    "def sample():\n",
    "    var2 = 'ローカル変数'\n",
    "    return (var1, var2)\n",
    "\n",
    "print(sample())"
   ]
  },
  {
   "cell_type": "markdown",
   "id": "fb8448f8-e0a7-45f7-8c5c-c6998a9263f3",
   "metadata": {},
   "source": [
    "上記の例は、グローバル変数とローカル変数をそれぞれ宣言しています。\n",
    "\n",
    "次のサンプルは、関数内からグローバル変数を変更するプログラムです。"
   ]
  },
  {
   "cell_type": "code",
   "execution_count": 27,
   "id": "b454f662-1fa1-4f86-8ab4-f5f310f31357",
   "metadata": {},
   "outputs": [
    {
     "name": "stdout",
     "output_type": "stream",
     "text": [
      "ローカルに変更されました\n"
     ]
    }
   ],
   "source": [
    "var1 = 'グローバル'\n",
    "\n",
    "def sample():\n",
    "    global var1\n",
    "\n",
    "    var1 = 'ローカルに変更されました'\n",
    "\n",
    "sample()    # グローバル変数var1を関数内部で変更\n",
    "print(var1) # ローカルに変更されました"
   ]
  },
  {
   "cell_type": "code",
   "execution_count": null,
   "id": "7ac88773-9edb-42fc-b500-f3a08ba9a2dc",
   "metadata": {},
   "outputs": [],
   "source": []
  }
 ],
 "metadata": {
  "kernelspec": {
   "display_name": "Python 3 (ipykernel)",
   "language": "python",
   "name": "python3"
  },
  "language_info": {
   "codemirror_mode": {
    "name": "ipython",
    "version": 3
   },
   "file_extension": ".py",
   "mimetype": "text/x-python",
   "name": "python",
   "nbconvert_exporter": "python",
   "pygments_lexer": "ipython3",
   "version": "3.11.5"
  }
 },
 "nbformat": 4,
 "nbformat_minor": 5
}
