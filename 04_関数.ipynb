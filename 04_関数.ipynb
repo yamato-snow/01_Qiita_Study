{
 "cells": [
  {
   "cell_type": "code",
   "execution_count": 1,
   "id": "6e315940-4b5c-4b59-b887-889478ec5a32",
   "metadata": {},
   "outputs": [],
   "source": [
    "# 関数\n",
    "# あるデータを受け取り、定められた独自の処理を実行し、その結果を返す命令のこと\n",
    "# 独自関数：プログラマーが変数を作るのと同じように自由に名前と処理を考え、プログラマーが作ることもできる\n",
    "#         →コードが見やすくなって分かりやすくなる、コードの重複を減らすことができる\n",
    "# 標準関数：Pythonが最初から用意してある関数=print()やlen()、input()など"
   ]
  },
  {
   "cell_type": "code",
   "execution_count": 5,
   "id": "4030cb8f-8d4c-470a-875d-15a28e965ed3",
   "metadata": {},
   "outputs": [
    {
     "name": "stdout",
     "output_type": "stream",
     "text": [
      "hello!\n"
     ]
    }
   ],
   "source": [
    "# def 関数名():\n",
    "#     インデントしたここの行からが関数の処理の定義\n",
    "# 関数を呼び出す時は「関数()」とする\n",
    "def hello():\n",
    "    print(\"hello!\")\n",
    "    \n",
    "hello()"
   ]
  },
  {
   "cell_type": "code",
   "execution_count": 7,
   "id": "47e741e6-36c7-4b56-8f44-54c1d4e09002",
   "metadata": {},
   "outputs": [],
   "source": [
    "# 関数名は変数名と同様に、「予約語」を使わない限り、好きな名前で定義できる\n",
    "# 2単語以上の関数名、小文字でアンダーバーを挟むスタイルが推奨されている\n",
    "def lowercase_underscore():\n",
    "    print(\"lowercase_underscore\")"
   ]
  },
  {
   "cell_type": "code",
   "execution_count": 8,
   "id": "c5c09562-dcb8-4426-9dc2-141f0ef673f4",
   "metadata": {},
   "outputs": [],
   "source": [
    "# とりあえず関数を宣言しておいて、関数の処理としては何もしない時は「pass」を使う\n",
    "# →空のリスト型や、空の辞書型を定義するように、中身の処理のない関数を定義することができる\n",
    "def test():\n",
    "    pass"
   ]
  },
  {
   "cell_type": "code",
   "execution_count": 11,
   "id": "bffd20f5-5e12-49d4-99c7-ed2fc790b084",
   "metadata": {},
   "outputs": [
    {
     "name": "stdout",
     "output_type": "stream",
     "text": [
      "こんにちは山田さん\n"
     ]
    }
   ],
   "source": [
    "# 引数：関数を呼び出す際に関数に与える値のこと\n",
    "# 仮引数:関数の定義側で受け取る値\n",
    "# 実引数:関数の呼び出し側で与える値\n",
    "def say_hello(name):\n",
    "    print(\"こんにちは\" + str(name) + \"さん\")\n",
    "\n",
    "say_hello(\"山田\")"
   ]
  },
  {
   "cell_type": "code",
   "execution_count": 22,
   "id": "df2d6189-cebc-43c8-b4b4-ce160ceca2b3",
   "metadata": {},
   "outputs": [
    {
     "name": "stdout",
     "output_type": "stream",
     "text": [
      "3\n"
     ]
    }
   ],
   "source": [
    "# 返り値(戻り値)\n",
    "# 関数で処理されたデータを呼び出し元に返す\n",
    "# 下記は「3」が返り値\n",
    "lenght = len([1, 2, 3])\n",
    "print(lenght)"
   ]
  },
  {
   "cell_type": "code",
   "execution_count": 20,
   "id": "c938f793-8ba4-4a1c-9166-6547f6ed69d1",
   "metadata": {},
   "outputs": [
    {
     "name": "stdout",
     "output_type": "stream",
     "text": [
      "15\n"
     ]
    }
   ],
   "source": [
    "# 引数とreturn\n",
    "# return文を実行すると、関数を終了し呼び出し元に戻る\n",
    "# 返り値を省略した場合や、関数内で返り値がないreturnが実行された場合、返り値はNoneになる\n",
    "def adder(a, b):\n",
    "    return a + b\n",
    "\n",
    "# 関数内部の処理を変数に保持しておきたい時にreturnは便利\n",
    "value = adder(5, 10)\n",
    "print(value)"
   ]
  },
  {
   "cell_type": "code",
   "execution_count": 21,
   "id": "96b7fb8a-2d52-45ba-9b4e-d5a128a62189",
   "metadata": {},
   "outputs": [
    {
     "name": "stdout",
     "output_type": "stream",
     "text": [
      "5\n"
     ]
    }
   ],
   "source": [
    "# 関数len()を実行することで、リストであるdataの要素5が返り値になる\n",
    "data = [1, 2, 3, 4, 5] # 変数dataに[1,2,3,4,5]が代入され、リストとして定義される\n",
    "value = len(data) # リストであるdataの要素の数を取得(この取得した結果がreturnによって返され、この値が返り値となる)\n",
    "print(value) # 返り値(今回は5)が変数valueに代入される"
   ]
  },
  {
   "cell_type": "code",
   "execution_count": 25,
   "id": "6f611dce-dd38-4325-9952-d825027a0f84",
   "metadata": {},
   "outputs": [
    {
     "name": "stdout",
     "output_type": "stream",
     "text": [
      "5\n",
      "6\n"
     ]
    }
   ],
   "source": [
    "# なぜ関数内で、print()ではなくreturnを使うのか\n",
    "# print()は値を出力すること目的\n",
    "# returnは値を返すことが目的\n",
    "# 下記の場合はreturnの良さが伝わらない(adder1の方が関数の呼び出しが早く、出力も関数内部で行われている)\n",
    "def adder1(a, b):\n",
    "    print(a + b)\n",
    "\n",
    "def adder2(a, b):\n",
    "    return a + b\n",
    "\n",
    "adder1(2, 3)\n",
    "value = adder2(2 ,4)\n",
    "print(value)"
   ]
  },
  {
   "cell_type": "code",
   "execution_count": 28,
   "id": "883e431f-f174-43e2-934d-b0c80532c396",
   "metadata": {},
   "outputs": [
    {
     "name": "stdout",
     "output_type": "stream",
     "text": [
      "16\n"
     ]
    }
   ],
   "source": [
    "# 一般的に使われる関数の使い方の1つに、「ある計算結果をreturnで受け取り、再度別の関数にその値を渡す」というものがある\n",
    "def a(a, b):\n",
    "    return a + b\n",
    "\n",
    "def b(a, b):\n",
    "    return a * b\n",
    "\n",
    "x = a(2, 2) # xに4が代入される\n",
    "y = b(x, x) # 4 * 4\n",
    "\n",
    "print(y)"
   ]
  },
  {
   "cell_type": "code",
   "execution_count": 29,
   "id": "4445df20-a02e-47f0-8a2b-d09706e3de50",
   "metadata": {},
   "outputs": [],
   "source": [
    "# 関数に渡さないでも、返り値に対して更に何かしらの処理を行うことが出来るのがメリット\n",
    "# 関数内部で出力（print）するだけであればprint()で出力すればOK\n",
    "# 内部にprint関数が無い関数は、処理結果をreturnで受け取り、その値を変数に代入し、また他の関数にその返り値を渡すことで再度別の処理に繋げられる"
   ]
  },
  {
   "cell_type": "code",
   "execution_count": 31,
   "id": "8d08252c-7318-43e6-9da7-307603e17bce",
   "metadata": {},
   "outputs": [
    {
     "name": "stdout",
     "output_type": "stream",
     "text": [
      "100\n",
      "10\n"
     ]
    }
   ],
   "source": [
    "# 関数内部にprint()を使わずreturnを使った関数のサンプル\n",
    "def power(x):\n",
    "    return x * x\n",
    "\n",
    "def absolute(x):\n",
    "    if (x < 0):\n",
    "        return - x\n",
    "    else:\n",
    "        return x\n",
    "\n",
    "print(power(10))\n",
    "print(absolute(-10))"
   ]
  },
  {
   "cell_type": "code",
   "execution_count": 33,
   "id": "4c75afeb-a89f-4f6e-82d6-fa810d8fc8d8",
   "metadata": {},
   "outputs": [
    {
     "name": "stdout",
     "output_type": "stream",
     "text": [
      "10\n",
      "15\n",
      "3\n",
      "5\n"
     ]
    }
   ],
   "source": [
    "# 引数のデフォルト値\n",
    "# 関数では、引数を指定しなかった場合のデフォルト値を設定できる\n",
    "def func(a, b = 5):\n",
    "    print(a)\n",
    "    print(b)\n",
    "\n",
    "func(10, 15) # 引数を2つ与えた場合、その2つを出力\n",
    "func(3) # 引数を1つしか渡さなかった場合、2つ目の値はデフォルト値bの5を出力"
   ]
  },
  {
   "cell_type": "code",
   "execution_count": 36,
   "id": "52828063-6cbf-4c78-b35e-7854e57fb79f",
   "metadata": {},
   "outputs": [
    {
     "name": "stdout",
     "output_type": "stream",
     "text": [
      "['python']\n",
      "['python', 'Python']\n"
     ]
    }
   ],
   "source": [
    "# 下記は最後に['python', 'Python']が返るが、毎回引数に渡した要素だけを返すようにするにはどう修正するか？\n",
    "def sample(arg, arg_list=[]):\n",
    "    arg_list.append(arg)\n",
    "    print(arg_list)\n",
    "\n",
    "sample(\"python\")\n",
    "sample(\"Python\")"
   ]
  },
  {
   "cell_type": "code",
   "execution_count": 40,
   "id": "8e93b517-d61f-4d80-96a3-4bbfbd46042e",
   "metadata": {},
   "outputs": [
    {
     "name": "stdout",
     "output_type": "stream",
     "text": [
      "['python']\n",
      "['Python']\n"
     ]
    }
   ],
   "source": [
    "# 答え\n",
    "def sample(arg):\n",
    "    arg_list = [] # リストの初期化\n",
    "    arg_list.append(arg) # 空のリストにappendしている\n",
    "    print(arg_list)\n",
    "\n",
    "sample(\"python\")\n",
    "sample(\"Python\")"
   ]
  },
  {
   "cell_type": "code",
   "execution_count": 41,
   "id": "4353f9d5-34da-4e6a-8e34-caff36bad6a4",
   "metadata": {},
   "outputs": [],
   "source": [
    "# 関数_変数のスコープ\n",
    "# ポイント：変数は、どこで作成したかによってスコープ（有効範囲）が違ってくる"
   ]
  },
  {
   "cell_type": "code",
   "execution_count": 44,
   "id": "ea703616-c049-45aa-b82e-7d591a96c242",
   "metadata": {},
   "outputs": [
    {
     "name": "stdout",
     "output_type": "stream",
     "text": [
      "15\n"
     ]
    }
   ],
   "source": [
    "# 通常の関数\n",
    "def add(x1):\n",
    "    x2 = 10 # 関数内で変数を作成(ローカル変数)\n",
    "    result = x1 + x2\n",
    "    print(result)\n",
    "\n",
    "add(5) # 5 + 10"
   ]
  },
  {
   "cell_type": "code",
   "execution_count": 46,
   "id": "7bf57910-c1e8-4deb-829e-79ea598ce2e5",
   "metadata": {},
   "outputs": [
    {
     "name": "stdout",
     "output_type": "stream",
     "text": [
      "15\n"
     ]
    },
    {
     "ename": "NameError",
     "evalue": "name 'x2' is not defined",
     "output_type": "error",
     "traceback": [
      "\u001b[0;31m---------------------------------------------------------------------------\u001b[0m",
      "\u001b[0;31mNameError\u001b[0m                                 Traceback (most recent call last)",
      "Cell \u001b[0;32mIn[46], line 9\u001b[0m\n\u001b[1;32m      6\u001b[0m     \u001b[38;5;28mprint\u001b[39m(result)\n\u001b[1;32m      8\u001b[0m add(\u001b[38;5;241m5\u001b[39m)\n\u001b[0;32m----> 9\u001b[0m \u001b[38;5;28mprint\u001b[39m(\u001b[43mx2\u001b[49m)\n",
      "\u001b[0;31mNameError\u001b[0m: name 'x2' is not defined"
     ]
    }
   ],
   "source": [
    "# 変数のスコープ(有効範囲)に関するプログラム\n",
    "# 下記は、変数x2がローカル変数=関数内部だけしか有効ではない為、関数の外側でx2を呼び出そうとしてエラーになっている\n",
    "def add(x1):\n",
    "    x2 = 10 # 関数内で変数を作成(ローカル変数)\n",
    "    result = x1 + x2\n",
    "    print(result)\n",
    "\n",
    "add(5)\n",
    "print(x2)"
   ]
  },
  {
   "cell_type": "code",
   "execution_count": 50,
   "id": "ffec57f7-5dc3-46fe-9a59-c77745c75578",
   "metadata": {},
   "outputs": [
    {
     "name": "stdout",
     "output_type": "stream",
     "text": [
      "15\n"
     ]
    }
   ],
   "source": [
    "# 上記の解決方法としては、x2を関数外に定義する(関数内部処理なども、分かりやすいよう修正している)\n",
    "def add(x1, x2):\n",
    "    result = x1 + x2\n",
    "    return result\n",
    "\n",
    "x1 = 5\n",
    "x2 = 10\n",
    "result = add(x1, x2)\n",
    "print(result)\n",
    "\n",
    "# もしくは、関数内でグローバル変数を利用"
   ]
  },
  {
   "cell_type": "code",
   "execution_count": 51,
   "id": "17582bcf-6954-4559-b4f4-9a976f1e25e8",
   "metadata": {},
   "outputs": [
    {
     "name": "stdout",
     "output_type": "stream",
     "text": [
      "0\n",
      "0\n",
      "5\n"
     ]
    }
   ],
   "source": [
    "# グローバル(global)宣言・グローバル変数\n",
    "# ローカル変数：関数定義の内部で定義した関数\n",
    "# グローバル変数：関数定義の外側で定義した変数\n",
    "glb = 0\n",
    "\n",
    "def func1():\n",
    "    glb = 1\n",
    "\n",
    "def func2():\n",
    "    global glb\n",
    "    glb = 5\n",
    "\n",
    "print(glb)\n",
    "func1()\n",
    "print(glb)\n",
    "func2()\n",
    "print(glb)"
   ]
  },
  {
   "cell_type": "code",
   "execution_count": 54,
   "id": "909f9a10-25e4-4cd3-81d8-68bccbd3de8e",
   "metadata": {},
   "outputs": [
    {
     "name": "stdout",
     "output_type": "stream",
     "text": [
      "('グローバル変数', 'ローカル変数')\n"
     ]
    }
   ],
   "source": [
    "# 下記は、グローバル変数とローカル変数をそれぞれ宣言\n",
    "var1 = \"グローバル変数\"\n",
    "\n",
    "def sample():\n",
    "    var2 = \"ローカル変数\"\n",
    "    return (var1, var2)\n",
    "\n",
    "print(sample())"
   ]
  },
  {
   "cell_type": "code",
   "execution_count": 56,
   "id": "12025e7f-cea1-4cfe-9737-c8b331ecf565",
   "metadata": {},
   "outputs": [
    {
     "name": "stdout",
     "output_type": "stream",
     "text": [
      "ローカルに変更されました\n"
     ]
    }
   ],
   "source": [
    "# 関数内からグローバル変数を変更するプログラム\n",
    "var1 = \"グローバル\"\n",
    "\n",
    "def sample():\n",
    "    global var1\n",
    "\n",
    "    var1 = \"ローカルに変更されました\"\n",
    "\n",
    "sample() # グローバル変数var1を関数内部で変更\n",
    "print(var1)"
   ]
  },
  {
   "cell_type": "code",
   "execution_count": null,
   "id": "9f1ddad3-2150-4d52-97f9-71a5789dea72",
   "metadata": {},
   "outputs": [],
   "source": []
  }
 ],
 "metadata": {
  "kernelspec": {
   "display_name": "Python 3 (ipykernel)",
   "language": "python",
   "name": "python3"
  },
  "language_info": {
   "codemirror_mode": {
    "name": "ipython",
    "version": 3
   },
   "file_extension": ".py",
   "mimetype": "text/x-python",
   "name": "python",
   "nbconvert_exporter": "python",
   "pygments_lexer": "ipython3",
   "version": "3.11.5"
  }
 },
 "nbformat": 4,
 "nbformat_minor": 5
}
