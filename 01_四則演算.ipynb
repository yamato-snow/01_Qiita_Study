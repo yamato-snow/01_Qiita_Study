{
 "cells": [
  {
   "cell_type": "code",
   "execution_count": 3,
   "id": "9b121cda-6e76-4e70-9b9a-352453c98198",
   "metadata": {},
   "outputs": [
    {
     "name": "stdout",
     "output_type": "stream",
     "text": [
      "\n",
      "https://qiita.com/AI_Academy/items/b97b2178b4d10abe0adb\n",
      "\n",
      "https://qiita.com/AI_Academy/items/b97b2178b4d10abe0adb#%E6%96%87%E5%AD%97%E5%88%97%E3%81%A8%E3%81%AF\n",
      "\n",
      "https://qiita.com/AI_Academy/items/b97b2178b4d10abe0adb#%E5%85%A8%E4%BD%93%E5%83%8F\n",
      "\n",
      "まで\n",
      "\n",
      "コードの中にはコメントを書くことが出来ます。\n",
      "\n",
      "行頭に「#」を書くことで行末までコメントとみなされます。\n",
      "\n",
      "コメントを書くことで、コードが実行される時に全て無視されるので、コードに関するメモなどとして使うことが出来ます。\n",
      "\n",
      "業務では、複数人でアプリケーションを作ることがほとんどです。\n",
      "\n",
      "そのため、常日頃から他人がコードを読むときに読みやすいようにコメントを残しておくことは大事です。\n",
      "\n",
      "なるべく、プログラム内には他人が読みやすいように、コメントを書く習慣をつけることをオススメ致します。\n",
      "\n",
      "\n"
     ]
    }
   ],
   "source": [
    "# コメント\n",
    "print(\"\"\"\n",
    "https://qiita.com/AI_Academy/items/b97b2178b4d10abe0adb\\n\n",
    "https://qiita.com/AI_Academy/items/b97b2178b4d10abe0adb#%E6%96%87%E5%AD%97%E5%88%97%E3%81%A8%E3%81%AF\\n\n",
    "https://qiita.com/AI_Academy/items/b97b2178b4d10abe0adb#%E5%85%A8%E4%BD%93%E5%83%8F\\n\n",
    "まで\\n\n",
    "コードの中にはコメントを書くことが出来ます。\\n\n",
    "行頭に「#」を書くことで行末までコメントとみなされます。\\n\n",
    "コメントを書くことで、コードが実行される時に全て無視されるので、コードに関するメモなどとして使うことが出来ます。\\n\n",
    "業務では、複数人でアプリケーションを作ることがほとんどです。\\n\n",
    "そのため、常日頃から他人がコードを読むときに読みやすいようにコメントを残しておくことは大事です。\\n\n",
    "なるべく、プログラム内には他人が読みやすいように、コメントを書く習慣をつけることをオススメ致します。\\n\n",
    "\"\"\")"
   ]
  },
  {
   "cell_type": "code",
   "execution_count": 4,
   "id": "f718e591-f209-43ff-be0a-a464ec7ac743",
   "metadata": {},
   "outputs": [
    {
     "name": "stdout",
     "output_type": "stream",
     "text": [
      "Hello, Python\n"
     ]
    }
   ],
   "source": [
    "# この行はコメントです。この行は実行されません。\n",
    "print(\"Hello, Python\") "
   ]
  },
  {
   "cell_type": "code",
   "execution_count": 10,
   "id": "e61e9a8c-8bc1-4466-a4e9-f59d8a34f12b",
   "metadata": {},
   "outputs": [
    {
     "name": "stdout",
     "output_type": "stream",
     "text": [
      "10\n",
      "15\n",
      "3\n",
      "5.0\n",
      "5\n",
      "20\n",
      "100\n",
      "0\n",
      "5\n"
     ]
    }
   ],
   "source": [
    "# 数値\n",
    "print(10) # 数値はクォーテーションで囲む必要はありません。\n",
    "print(10 + 5) # 足している\n",
    "print(5 - 2)  # 引いている\n",
    "print(10 / 2)   # 割っているfloatになる\n",
    "print(10 // 2)   # 割っている(切り捨て)intになる\n",
    "print(10 * 2)   # 掛けている\n",
    "print(10 ** 2)   # 2乗\n",
    "print(10 % 5)   # あまりを求めている\n",
    "\n",
    "# 優先順位の変更\n",
    "# 通常は +と-よりも*や/の方が優先度が高いですが、()で囲むことで優先度を変えることができます。\n",
    "print((20 - 5) // 3)  # 5 "
   ]
  },
  {
   "cell_type": "code",
   "execution_count": 11,
   "id": "91c13389-eb14-408d-a105-afeac1d5c813",
   "metadata": {},
   "outputs": [
    {
     "name": "stdout",
     "output_type": "stream",
     "text": [
      "15\n",
      "10 + 5\n"
     ]
    }
   ],
   "source": [
    "# 文字列と数値の違い\n",
    "\n",
    "print(10 + 5) # 足し算できる\n",
    "print('10 + 5') # 文字列として出力する"
   ]
  },
  {
   "cell_type": "code",
   "execution_count": 12,
   "id": "0a7a8578-ce18-43cc-b961-b7784387bebf",
   "metadata": {},
   "outputs": [
    {
     "data": {
      "text/plain": [
       "'Python'"
      ]
     },
     "execution_count": 12,
     "metadata": {},
     "output_type": "execute_result"
    }
   ],
   "source": [
    "# 変数\n",
    "lang = \"Python\" # 変数langに文字列Pythonを代入 \n",
    "lang"
   ]
  },
  {
   "cell_type": "code",
   "execution_count": 14,
   "id": "1b9d63f3-bb4c-4ced-9b8a-cf8153108a0a",
   "metadata": {},
   "outputs": [
    {
     "name": "stdout",
     "output_type": "stream",
     "text": [
      "var\n",
      "Var\n",
      "lowercase_underscore\n",
      "lowercase_underscore\n",
      "Hello, World\n",
      "Hello, World\n"
     ]
    }
   ],
   "source": [
    "var = \"var\"\n",
    "Var = \"Var\"\n",
    "print(var) # varと出力される\n",
    "print(Var) # Varと出力される\n",
    "\n",
    "# Pythonで変数名をつける際に２単語続ける場合\n",
    "lowercase_underscore = \"lowercase_underscore\" # 推奨\n",
    "lowercaseunderscore = \"lowercase_underscore\"  # 非推奨\n",
    "\n",
    "print(lowercase_underscore)\n",
    "print(lowercaseunderscore)\n",
    "\n",
    "hello_world = \"Hello, World\" # 推奨\n",
    "helloworld  = \"Hello, World\" # 非推奨\n",
    "\n",
    "print(hello_world)\n",
    "print(helloworld)\n",
    "\n",
    "\n",
    "# 上記のように変数名はすべて小文字で2つ以上の単語をつなげる場合は下線(_)を使うようにすることが推奨されています。\n",
    "# また非推奨の書き方で、変数を定義することもできます。しかしプログラムにはエラーは出ませんが、推奨されている方法を使いましょう。"
   ]
  },
  {
   "cell_type": "code",
   "execution_count": 17,
   "id": "ee2a3f71-48b8-4c91-9225-6b3ebb74e350",
   "metadata": {},
   "outputs": [
    {
     "name": "stdout",
     "output_type": "stream",
     "text": [
      "16\n",
      "13\n",
      "45\n",
      "3375\n",
      "3.75\n",
      "3\n",
      "0\n"
     ]
    }
   ],
   "source": [
    "# 変数を使わないプログラムと使ったプログラムの比較\n",
    "print(15 + 1)\n",
    "print(15 - 2)\n",
    "print(15 * 3)\n",
    "print(15 ** 3)\n",
    "print(15 / 4)\n",
    "print(15 // 4)\n",
    "print(15 % 5)"
   ]
  },
  {
   "cell_type": "code",
   "execution_count": 19,
   "id": "da89829c-e5fa-4c2d-909c-926268005abe",
   "metadata": {},
   "outputs": [
    {
     "name": "stdout",
     "output_type": "stream",
     "text": [
      "221\n",
      "218\n",
      "660\n",
      "10648000\n",
      "55.0\n",
      "55\n",
      "0\n"
     ]
    }
   ],
   "source": [
    "x = 220\n",
    "print(x + 1)\n",
    "print(x - 2)\n",
    "print(x * 3)\n",
    "print(x ** 3)\n",
    "print(x / 4)\n",
    "print(x // 4)\n",
    "print(x % 5)"
   ]
  },
  {
   "cell_type": "code",
   "execution_count": null,
   "id": "db36eaf3-5247-4fd3-9aea-c597ad0fd597",
   "metadata": {},
   "outputs": [],
   "source": []
  }
 ],
 "metadata": {
  "kernelspec": {
   "display_name": "Python 3 (ipykernel)",
   "language": "python",
   "name": "python3"
  },
  "language_info": {
   "codemirror_mode": {
    "name": "ipython",
    "version": 3
   },
   "file_extension": ".py",
   "mimetype": "text/x-python",
   "name": "python",
   "nbconvert_exporter": "python",
   "pygments_lexer": "ipython3",
   "version": "3.11.5"
  }
 },
 "nbformat": 4,
 "nbformat_minor": 5
}
