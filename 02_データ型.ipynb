{
 "cells": [
  {
   "cell_type": "code",
   "execution_count": 1,
   "id": "176a5ab1-70cd-416f-ad94-2e3b73e2d34f",
   "metadata": {},
   "outputs": [
    {
     "name": "stdout",
     "output_type": "stream",
     "text": [
      "5\n",
      "Python\n"
     ]
    }
   ],
   "source": [
    "# 変数と型\n",
    "# Pythonの変数には型宣言不要\n",
    "x = 5\n",
    "y = \"Python\"\n",
    "print(x)\n",
    "print(y)"
   ]
  },
  {
   "cell_type": "code",
   "execution_count": 16,
   "id": "db3e935a-79fc-4558-9079-5d9d39f03618",
   "metadata": {},
   "outputs": [],
   "source": [
    "# データ型\n",
    "# 数値型:整数(int)、小数,実数(float)、複素数の3つがある"
   ]
  },
  {
   "cell_type": "code",
   "execution_count": 17,
   "id": "895035c2-1f77-4cc1-ba9d-91fdff94fc4f",
   "metadata": {},
   "outputs": [
    {
     "name": "stdout",
     "output_type": "stream",
     "text": [
      "Hello World\n",
      "Hello World\n",
      "Hello World\n",
      "Hello Python\n"
     ]
    }
   ],
   "source": [
    "# 文字列型\n",
    "# シングルorダブルクォーテーションで囲うと文字列になる(どちらを使用してもOK)\n",
    "str1 = 'Hello World'\n",
    "str2 = \"Hello World\"\n",
    "str3 = \"\"\"Hello World\n",
    "Hello Python\"\"\" # クォーテーションを3つ重ねると改行も反映される(シングルorダブルクォーテーションのどちらでもOK)\n",
    "\n",
    "print(str1)\n",
    "print(str2)\n",
    "print(str3)"
   ]
  },
  {
   "cell_type": "code",
   "execution_count": 15,
   "id": "99e3eaea-b448-410e-bebc-cacc00b0f867",
   "metadata": {},
   "outputs": [
    {
     "name": "stdout",
     "output_type": "stream",
     "text": [
      "hello World\n",
      "hello hello hello \n"
     ]
    }
   ],
   "source": [
    "# 文字列の結合と反復\n",
    "a = \"hello \"\n",
    "b = \"World\"\n",
    "print(a + b) # 結合\n",
    "print(a * 3) # 反復"
   ]
  },
  {
   "cell_type": "code",
   "execution_count": 18,
   "id": "6a55fc26-eda8-43a9-b74b-c7681f41f455",
   "metadata": {},
   "outputs": [
    {
     "name": "stdout",
     "output_type": "stream",
     "text": [
      "HelloWorld\n",
      "My name is Tom\n"
     ]
    },
    {
     "ename": "TypeError",
     "evalue": "can only concatenate str (not \"int\") to str",
     "output_type": "error",
     "traceback": [
      "\u001b[0;31m---------------------------------------------------------------------------\u001b[0m",
      "\u001b[0;31mTypeError\u001b[0m                                 Traceback (most recent call last)",
      "Cell \u001b[0;32mIn[18], line 8\u001b[0m\n\u001b[1;32m      4\u001b[0m \u001b[38;5;28mprint\u001b[39m(\u001b[38;5;124m\"\u001b[39m\u001b[38;5;124mMy name is \u001b[39m\u001b[38;5;124m\"\u001b[39m \u001b[38;5;241m+\u001b[39m name)\n\u001b[1;32m      6\u001b[0m age \u001b[38;5;241m=\u001b[39m \u001b[38;5;241m24\u001b[39m\n\u001b[0;32m----> 8\u001b[0m \u001b[38;5;28mprint\u001b[39m(\u001b[38;5;124;43m\"\u001b[39;49m\u001b[38;5;124;43mMy name is \u001b[39;49m\u001b[38;5;124;43m\"\u001b[39;49m\u001b[43m \u001b[49m\u001b[38;5;241;43m+\u001b[39;49m\u001b[43m \u001b[49m\u001b[43mname\u001b[49m\u001b[43m \u001b[49m\u001b[38;5;241;43m+\u001b[39;49m\u001b[43m \u001b[49m\u001b[38;5;124;43m\"\u001b[39;49m\u001b[38;5;124;43mMy age is \u001b[39;49m\u001b[38;5;124;43m\"\u001b[39;49m\u001b[43m \u001b[49m\u001b[38;5;241;43m+\u001b[39;49m\u001b[43m \u001b[49m\u001b[43mage\u001b[49m) \u001b[38;5;66;03m# データ型が異なる連結はエラーになる\u001b[39;00m\n",
      "\u001b[0;31mTypeError\u001b[0m: can only concatenate str (not \"int\") to str"
     ]
    }
   ],
   "source": [
    "# 型変換(キャスト)\n",
    "print(\"Hello\" + \"World\")\n",
    "name = \"Tom\"\n",
    "print(\"My name is \" + name)\n",
    "\n",
    "age = 24\n",
    "\n",
    "print(\"My name is \" + name + \"My age is \" + age) # データ型が異なる連結はエラーになる"
   ]
  },
  {
   "cell_type": "code",
   "execution_count": 20,
   "id": "7d2ab328-a9a0-4574-bb43-43cc415b2380",
   "metadata": {},
   "outputs": [
    {
     "name": "stdout",
     "output_type": "stream",
     "text": [
      "My name is TomMy age is 24\n",
      "1500\n"
     ]
    }
   ],
   "source": [
    "# 型変換(キャスト)=データ型を変えること\n",
    "# 数値型を文字列型に変換するにはstr()を使用\n",
    "name = \"Tom\"\n",
    "age = 24\n",
    "print(\"My name is \" + name + \"My age is \" + str(age))\n",
    "\n",
    "# 文字列型を数値型に変換するにはint()を使用\n",
    "string_price = \"1000\"\n",
    "price = 500\n",
    "total_price = int(string_price) + price\n",
    "print(total_price)"
   ]
  },
  {
   "cell_type": "code",
   "execution_count": 21,
   "id": "ec495ceb-f87b-4aa2-9796-d5c421913a66",
   "metadata": {},
   "outputs": [],
   "source": [
    "# リスト型\n",
    "# Pythonのlistは格納する型の定義なし\n",
    "# リストの中身は左から数え始め、最初は1ではなく0から数える\n",
    "# 中身につけられた番号を添え字やインデックス等と呼ぶ"
   ]
  },
  {
   "cell_type": "code",
   "execution_count": 24,
   "id": "08fd4ec6-9249-4393-ad15-f7c5784bb821",
   "metadata": {},
   "outputs": [
    {
     "name": "stdout",
     "output_type": "stream",
     "text": [
      "['python']\n",
      "['python', 'php']\n"
     ]
    }
   ],
   "source": [
    "# リストの追加\n",
    "# append()でlistの末尾に要素を追加\n",
    "li = []\n",
    "li.append(\"python\")\n",
    "print(li)\n",
    "li.append(\"php\")\n",
    "print(li)"
   ]
  },
  {
   "cell_type": "code",
   "execution_count": 26,
   "id": "4d86d7e2-5c6e-4a2d-8e01-aca82e912918",
   "metadata": {},
   "outputs": [
    {
     "name": "stdout",
     "output_type": "stream",
     "text": [
      "tani\n",
      "{'name': 'tani', 'email': 'kazunori-t@cyberbra.in', 'gender': 'male'}\n"
     ]
    }
   ],
   "source": [
    "# 辞書型(ディクショナリー型)\n",
    "# KeyとValueのペアを保持するデータ型\n",
    "# 構文「辞書名 = {\"キー\" : \"値\", ...}」\n",
    "# リストはインデックス番号で値にアクセスできるのに対し、辞書型では任意のキー文字列で値にアクセスできる\n",
    "profile = {\"name\": \"tani\", \"email\": \"kazunori-t@cyberbra.in\" }\n",
    "print(profile[\"name\"])\n",
    "\n",
    "profile[\"gender\"] = \"male\" #新しく要素を追加\n",
    "print(profile)"
   ]
  },
  {
   "cell_type": "code",
   "execution_count": 27,
   "id": "0f2cc94d-ad8d-43df-8684-9554b4fe1be2",
   "metadata": {},
   "outputs": [],
   "source": [
    "# リスト型と辞書型の違い\n",
    "# 1.要素のアクセスの仕方が異なること:リストはインデックス番号、辞書型は任意のキー文字列で値にアクセスする\n",
    "# 2.リスト型は[]を使い、辞書型は{}を使う"
   ]
  },
  {
   "cell_type": "code",
   "execution_count": 28,
   "id": "f33332a7-cdd8-4c47-ba30-f0e14e22cd73",
   "metadata": {},
   "outputs": [],
   "source": [
    "# リスト型と辞書型の共通するところ\n",
    "# 1.異なるデータ型(intやstr)などの要素の格納が可能\n",
    "# 2.要素の書き換えが可能"
   ]
  },
  {
   "cell_type": "code",
   "execution_count": null,
   "id": "95f790c2-aaae-4e61-8e4b-456e68094cef",
   "metadata": {},
   "outputs": [],
   "source": []
  }
 ],
 "metadata": {
  "kernelspec": {
   "display_name": "Python 3 (ipykernel)",
   "language": "python",
   "name": "python3"
  },
  "language_info": {
   "codemirror_mode": {
    "name": "ipython",
    "version": 3
   },
   "file_extension": ".py",
   "mimetype": "text/x-python",
   "name": "python",
   "nbconvert_exporter": "python",
   "pygments_lexer": "ipython3",
   "version": "3.11.5"
  }
 },
 "nbformat": 4,
 "nbformat_minor": 5
}
