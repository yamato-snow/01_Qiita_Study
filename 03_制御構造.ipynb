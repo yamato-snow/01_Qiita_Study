{
 "cells": [
  {
   "cell_type": "markdown",
   "id": "d2a61cee-608d-47b4-ae96-826ce310c435",
   "metadata": {},
   "source": [
    "# 全体像\n",
    "\n",
    "https://onl.la/9kbt3ag　// 制御構文\n",
    "\n",
    "https://onl.la/qHwH3D6  // 標準入力\n",
    "\n",
    "## 制御構造\n",
    "プログラムは、上から下に順に処理が実行されます。\n",
    "\n",
    "決められた文法で処理方法を記述します。\n",
    "\n",
    "この章では、if文やLoop文などを習い、プログラムの流れを制御する方法を学びます。\n",
    "\n",
    "## プログラム処理の流れ\n",
    "\n",
    "プログラムの基本的な流れは上から下の順に流れていきます。\n",
    "\n",
    "![プログラム処理の流れ](https://camo.qiitausercontent.com/cf98ae393995cad9dabfbbc2e606fdf9534a4585/68747470733a2f2f71696974612d696d6167652d73746f72652e73332e616d617a6f6e6177732e636f6d2f302f3130353838372f35323833646230312d346530352d313034652d333931352d3562366337323662336263332e706e67) \n",
    "\n",
    "上の図をPythonのプログラムで記述すると、例えば下記のようになります。\n"
   ]
  },
  {
   "cell_type": "code",
   "execution_count": 1,
   "id": "adc6d55c-fa4c-4fbd-af86-d6a837c95149",
   "metadata": {},
   "outputs": [
    {
     "name": "stdout",
     "output_type": "stream",
     "text": [
      "最初の処理\n",
      "次の処理\n",
      "最後の処理\n"
     ]
    }
   ],
   "source": [
    "step_1 = \"最初の処理\"\n",
    "print(step_1)\n",
    "\n",
    "step_2 = \"次の処理\"\n",
    "print(step_2)\n",
    "\n",
    "step_3 = \"最後の処理\"\n",
    "print(step_3)"
   ]
  },
  {
   "cell_type": "markdown",
   "id": "cfb54552-649a-4ca9-b4ce-137df95755d0",
   "metadata": {},
   "source": [
    "つまり、基本的にプログラムは記述した順に上から下へと流れて処理されます。"
   ]
  },
  {
   "cell_type": "markdown",
   "id": "4af6d42b-8e57-420a-95ce-ed46ba3976c1",
   "metadata": {},
   "source": [
    "## コードブロックとインデント\n",
    "Pythonでは、インデント(字下げ）で処理をまとめます。\n",
    "               \n",
    "このインデントはPythonの大きな特徴になります。\n",
    "               \n",
    "基本的には、半角スペース4つ（もしくはタブキー）がインデントの役割になりますが、Pythonの文法では、\n",
    "\n",
    "末尾にコロン「:」がつく構文が多いです。\n",
    "\n",
    "（条件分岐文（if, elif, else)、for文、while文、関数、クラスの定義）\n",
    "\n",
    "\n",
    "末尾に:が出てきたら、インデントをする必要があるというのがPythonの決まりになっています。\n",
    "\n",
    "例えば、:があるサンプルプログラムとして次を見てください。\n",
    "\n",
    "この章では、これからif文及びfor文などを説明して行きますので、今の段階では下記のプログラムの意味が理解できなくて構いません。\n",
    "\n",
    "一旦は:が出てきたらインデントが必要だということを理解してください。"
   ]
  },
  {
   "cell_type": "code",
   "execution_count": 3,
   "id": "af5c5fd0-c068-4479-bd91-e61f22c6d60a",
   "metadata": {},
   "outputs": [
    {
     "name": "stdout",
     "output_type": "stream",
     "text": [
      "0 is even.\n",
      "1 is odd.\n",
      "2 is even.\n",
      "3 is odd.\n",
      "4 is even.\n",
      "5 is odd.\n",
      "6 is even.\n",
      "7 is odd.\n",
      "8 is even.\n",
      "9 is odd.\n"
     ]
    }
   ],
   "source": [
    "for i in range(10):\n",
    "    if i % 2 == 0:\n",
    "        print(\"{} is even.\".format(i))\n",
    "    else:\n",
    "        print(\"{} is odd.\".format(i))"
   ]
  },
  {
   "cell_type": "markdown",
   "id": "2c22e3f0-e74a-4e54-a981-c37ca7dceb86",
   "metadata": {},
   "source": [
    "## 条件分岐 (if文)\n",
    "\n",
    "プログラミングでは、ある条件に当てはまるかどうかによって処理を分けます。\n",
    "\n",
    "例えば「テストの点数（条件）によって成績（処理）を変える」というのも条件分岐で表すことが可能です。\n",
    "\n",
    "構文としては次のようになります。\n",
    "\n",
    "# 注) このコードは動作しないので注意です。実行"
   ]
  },
  {
   "cell_type": "markdown",
   "id": "fdb3b8c8-214c-4c82-9c22-1e5457b54358",
   "metadata": {},
   "source": [
    "~~~python: if.py\n",
    "if 条件A:\n",
    "    条件AがTrueなら実行\n",
    "elif 条件B:\n",
    "    条件AがFalseかつ条件BがTrueなら実行\n",
    "else:\n",
    "    条件AもBもFalseなら実行\n",
    "~~~"
   ]
  },
  {
   "cell_type": "markdown",
   "id": "6592ed9c-4ec4-47b0-9dfe-0a3eed279d2f",
   "metadata": {},
   "source": [
    "if文を用いると「もし○○ならば☓☓を行う」という処理を、条件分岐によって表現できますので、\n",
    "\n",
    "例えば、テストの点数がが78点以上であれば、合格と出力するプログラムは次のように記述できます。"
   ]
  },
  {
   "cell_type": "code",
   "execution_count": 4,
   "id": "d6d2b029-8733-42a6-bf5d-2bbcc81db27e",
   "metadata": {},
   "outputs": [
    {
     "name": "stdout",
     "output_type": "stream",
     "text": [
      "合格です\n"
     ]
    }
   ],
   "source": [
    "# ifの後に条件式を指定し、その条件が成り立つときに実行する処理を次の行に書きます。\n",
    "\n",
    "score = 80\n",
    "if score > 78: # 比較演算子 > を使っています。比較演算子はこの後に説明します。\n",
    "    print(\"合格です\")"
   ]
  },
  {
   "cell_type": "markdown",
   "id": "11794528-d11f-4393-ae64-c2ccb05e7fd6",
   "metadata": {},
   "source": [
    "## 条件式の作り方\n",
    "条件式の中では、２つの値を比較するための記号「比較演算子」がよく使われます。\n",
    "\n",
    "比較演算子には下記の画像のような演算子があります。\n",
    "\n",
    "右辺と左辺が等しいかどうかを表すには == を使います。\n",
    "\n",
    "また、右辺と左辺が等しくないかどうかを表すには != を使います。\n",
    "\n",
    "![比較演算子](https://camo.qiitausercontent.com/750038a97ce8ebafe5c31350efa8e0a79290f7d2/68747470733a2f2f71696974612d696d6167652d73746f72652e73332e616d617a6f6e6177732e636f6d2f302f3130353838372f33663239363737302d313634322d386662362d656666302d6632663661666563343032342e706e67) "
   ]
  },
  {
   "cell_type": "markdown",
   "id": "6c1f31fe-d091-43af-8b93-66dd11c90dad",
   "metadata": {},
   "source": [
    "条件部分は、**「if 条件式 :」**のように書きます。\n",
    "\n",
    "行末のコロンをつけ忘れるとエラーになってしまいますので注意が必要です。"
   ]
  },
  {
   "cell_type": "code",
   "execution_count": 6,
   "id": "d42bc8ab-ffb8-4474-a1e8-a98f7ed3e847",
   "metadata": {},
   "outputs": [
    {
     "name": "stdout",
     "output_type": "stream",
     "text": [
      "合格です。おめでとう！\n",
      "満点\n"
     ]
    }
   ],
   "source": [
    "score = 80\n",
    "if score > 78: # 比較演算子 > を使っています。\n",
    "    print(\"合格です。おめでとう！\")\n",
    "else:\n",
    "    print(\"不合格。次回頑張りましょう。\")\n",
    "\n",
    "score = 100\n",
    "if score == 100:\n",
    "    print(\"満点\")\n",
    "elif score > 85:\n",
    "    print(\"合格！\")\n",
    "else:\n",
    "    print(\"不合格。次回頑張りましょう。\")"
   ]
  },
  {
   "cell_type": "markdown",
   "id": "16d0b97f-7222-423c-bf38-e7d5002c287c",
   "metadata": {},
   "source": [
    "Pythonではコードの字下げ（インデント/半角スペース4つもしくは2つ）がそのままプログラムの動作に影響しますので、字下げ（インデント）に気をつけましょう。"
   ]
  },
  {
   "cell_type": "markdown",
   "id": "b4ce14b4-3f8e-49e7-a9aa-61c807a3c6ce",
   "metadata": {},
   "source": [
    "## ループ\n",
    "\n",
    "ほとんどのプログラミング言語で制御構文の基本はループです。\n",
    "\n",
    "ループは複数回同じコードを実行するための制御構文です。\n",
    "\n",
    "リストの各要素に同じ処理をしたいときなどに，よく使います。"
   ]
  },
  {
   "cell_type": "markdown",
   "id": "8c5cf054-ac8a-4e5a-8ffa-719d6a2c7ccb",
   "metadata": {},
   "source": [
    "## for文\n",
    "\n",
    "for文によるループ処理を見ていきます。\n",
    "\n",
    "for文の書式は次の通りです。"
   ]
  },
  {
   "cell_type": "code",
   "execution_count": 9,
   "id": "a72ae59f-930e-41e9-bb79-532d54f785d4",
   "metadata": {},
   "outputs": [
    {
     "name": "stdout",
     "output_type": "stream",
     "text": [
      "apple\n",
      "banana\n",
      "melon\n"
     ]
    }
   ],
   "source": [
    "# for ループ内変数 in リスト名:\n",
    "#     実行する処理\n",
    "\n",
    "for i in [\"apple\", \"banana\", \"melon\"]:\n",
    "    print(i)"
   ]
  },
  {
   "cell_type": "markdown",
   "id": "3066c8e5-9ead-46ab-83fb-423e64f38ce2",
   "metadata": {},
   "source": [
    "リストがループ内変数のiに格納され、それが出力(print)されています。\n",
    "\n",
    "詳しく説明します。\n",
    "\n",
    "まず、先頭のapple(添え字0番目)という要素が変数iに代入され、print(i)で出力されます。\n",
    "\n",
    "次に、bananaが取り出され、iに代入、最後のmelonも同様にiに代入され出力されます。\n",
    "\n",
    "リストの要素を全て取り出したため、このfor文の処理はその時点で終了します。"
   ]
  },
  {
   "cell_type": "markdown",
   "id": "c4d77d69-6dfd-416f-9973-510de8872352",
   "metadata": {},
   "source": [
    "* * *"
   ]
  },
  {
   "cell_type": "markdown",
   "id": "1e007772-ad50-4a83-8caa-bb360148a45a",
   "metadata": {},
   "source": [
    "for文で一定回数の繰り返し処理を行うには**range()関数**を用いることが多いです。\n",
    "\n",
    "range()関数は次のような役割を持ちます。\n",
    "\n",
    ">range(x): 0からx-1までの連番のリストを返す\n",
    ">range(x,y): xからy-1までの連番のリストを返す\n",
    "\n",
    "例えば、range()を用いて、0~9までの計10回繰り返すプログラムは次のようになります。"
   ]
  },
  {
   "cell_type": "code",
   "execution_count": 12,
   "id": "e33d9dc4-4a1b-4983-ab0e-28b2dde7560f",
   "metadata": {},
   "outputs": [
    {
     "name": "stdout",
     "output_type": "stream",
     "text": [
      "0\n",
      "1\n",
      "2\n",
      "3\n",
      "4\n",
      "5\n",
      "6\n",
      "7\n",
      "8\n",
      "9\n"
     ]
    }
   ],
   "source": [
    "for i in range(10):\n",
    "    print(i)"
   ]
  },
  {
   "cell_type": "markdown",
   "id": "8ab3c6c8-5da6-4ad8-b980-2a0e769a9753",
   "metadata": {},
   "source": [
    "他の繰り返し処理の例も見てみましょう。\n",
    "\n",
    "少し長いですが、じっくり読んでみてください。"
   ]
  },
  {
   "cell_type": "code",
   "execution_count": 13,
   "id": "8a1af78c-c443-4c9f-b0bb-d0b3a66918a7",
   "metadata": {},
   "outputs": [
    {
     "name": "stdout",
     "output_type": "stream",
     "text": [
      "20\n",
      "40\n",
      "60\n",
      "88\n"
     ]
    }
   ],
   "source": [
    "data = [20, 40, 60, 88]\n",
    "for d in data:\n",
    "    print(d)"
   ]
  },
  {
   "cell_type": "code",
   "execution_count": 14,
   "id": "e56b8392-ef80-4851-8b2d-349e4654747e",
   "metadata": {},
   "outputs": [
    {
     "name": "stdout",
     "output_type": "stream",
     "text": [
      "208\n"
     ]
    }
   ],
   "source": [
    "# (1)\n",
    "sum_d = 0\n",
    "for d in data:\n",
    "    # *=で、かけわせることもできます。\n",
    "    sum_d += d # sum_d = sum_d + dを省略した書き方です。\n",
    "\n",
    "print(sum_d) # 208が出力される。20 + 40 + 60 + 88を足し合わせた数。"
   ]
  },
  {
   "cell_type": "code",
   "execution_count": 15,
   "id": "e0f4df8b-e764-4853-afdc-e188c249753d",
   "metadata": {},
   "outputs": [
    {
     "name": "stdout",
     "output_type": "stream",
     "text": [
      "208\n"
     ]
    }
   ],
   "source": [
    "# for文はelseを使用することができる。\n",
    "\n",
    "sum_d = 0\n",
    "\n",
    "# (2)\n",
    "for d in data:\n",
    "    sum_d += d\n",
    "# ループが終わったら1回処理したいものが処理できる。\n",
    "else:\n",
    "    print(sum_d)"
   ]
  },
  {
   "cell_type": "code",
   "execution_count": 16,
   "id": "9177cc07-6f16-41e6-bffa-a8f8bb6abfb7",
   "metadata": {},
   "outputs": [
    {
     "name": "stdout",
     "output_type": "stream",
     "text": [
      "0\n",
      "1\n",
      "2\n",
      "4\n",
      "5\n",
      "6\n",
      "7\n",
      "8\n",
      "9\n"
     ]
    }
   ],
   "source": [
    "# Pythonでは、ここで見たfor文、後から見るWhile文のループでelseを使うことが出来ます。\n",
    "# elseを記述すると、ループが終了するときにelseの中が処理されます。\n",
    "\n",
    "# 上の(1)と(2)はelseを使っているかどうかの違いですが、出力結果は同じです。\n",
    "\n",
    "\n",
    "## breakとcontinue\n",
    "\n",
    "# cotinue 1回スキップ\n",
    "for i in range(10):\n",
    "    if i == 3:\n",
    "        continue\n",
    "    print(i)"
   ]
  },
  {
   "cell_type": "code",
   "execution_count": 17,
   "id": "55a7598a-3c06-4e58-a1e1-726666540e44",
   "metadata": {},
   "outputs": [
    {
     "name": "stdout",
     "output_type": "stream",
     "text": [
      "0\n",
      "1\n",
      "2\n"
     ]
    }
   ],
   "source": [
    "# break 処理を終了\n",
    "for i in range(10):\n",
    "    if i == 3:\n",
    "        break\n",
    "    print(i) # 0 1 2を出力"
   ]
  },
  {
   "cell_type": "code",
   "execution_count": 19,
   "id": "b2655209-f228-470c-95f1-2bd269e26f87",
   "metadata": {},
   "outputs": [
    {
     "name": "stdout",
     "output_type": "stream",
     "text": [
      "found\n"
     ]
    }
   ],
   "source": [
    "# 先ほど見たelseをfor文と使う際に、「break」を使うと、elseの中の処理は実行されないので注意が必要です。\n",
    "# この場合ですと、リスト内に\"f\"があるので、foundが出力されますが、\n",
    "# else内のnot foundは出力されません。\n",
    "\n",
    "data = [1, 2, 3, 4, 5, \"f\"]\n",
    "for x in data:\n",
    "    if x == 'f':\n",
    "        print('found')\n",
    "        break\n",
    "else:\n",
    "    print('not found') # このサンプルの場合elseの処理は実行されない！"
   ]
  },
  {
   "cell_type": "markdown",
   "id": "f31775b8-6c31-46bd-876f-2089a6cd527c",
   "metadata": {},
   "source": [
    "pythonのforはiterator（イテレータ)と呼ばれる仕組みで、\n",
    "\n",
    "タプルや、文字列、辞書などもkeyとして使えます。"
   ]
  },
  {
   "cell_type": "code",
   "execution_count": 1,
   "id": "c57b32a0-1e67-4c23-a046-82fdc0e1c5a8",
   "metadata": {},
   "outputs": [
    {
     "name": "stdout",
     "output_type": "stream",
     "text": [
      "h\n",
      "e\n",
      "l\n",
      "l\n",
      "o\n"
     ]
    }
   ],
   "source": [
    "for char in \"hello\":\n",
    "    print(char)"
   ]
  },
  {
   "cell_type": "markdown",
   "id": "667bce93-5888-4f7b-9c30-bacb0fc1475a",
   "metadata": {},
   "source": [
    "リストの要素を順に処理しつつ、インデックス番号も知りたい場合があるかと思います。\n",
    "\n",
    "その場合、enumerate()を使います。"
   ]
  },
  {
   "cell_type": "code",
   "execution_count": 2,
   "id": "2c7cef14-4bce-4581-bae6-43324b03c226",
   "metadata": {},
   "outputs": [
    {
     "name": "stdout",
     "output_type": "stream",
     "text": [
      "0 apple\n",
      "1 banana\n",
      "2 melon\n"
     ]
    }
   ],
   "source": [
    "for index, name in enumerate([\"apple\", \"banana\", \"melon\"]):\n",
    "    print(index, name)"
   ]
  },
  {
   "cell_type": "markdown",
   "id": "9453908e-0a1c-4f1f-bf57-f7351ae2a746",
   "metadata": {},
   "source": [
    "またlist()とrange()を組み合わせると、次のような1~100までの要素を持ったリストを簡潔に記述することも出来ます。"
   ]
  },
  {
   "cell_type": "code",
   "execution_count": 3,
   "id": "1d95650f-5412-457a-93af-a6ab5830e32b",
   "metadata": {},
   "outputs": [
    {
     "name": "stdout",
     "output_type": "stream",
     "text": [
      "[0, 1, 2, 3, 4, 5, 6, 7, 8, 9, 10, 11, 12, 13, 14, 15, 16, 17, 18, 19, 20, 21, 22, 23, 24, 25, 26, 27, 28, 29, 30, 31, 32, 33, 34, 35, 36, 37, 38, 39, 40, 41, 42, 43, 44, 45, 46, 47, 48, 49, 50, 51, 52, 53, 54, 55, 56, 57, 58, 59, 60, 61, 62, 63, 64, 65, 66, 67, 68, 69, 70, 71, 72, 73, 74, 75, 76, 77, 78, 79, 80, 81, 82, 83, 84, 85, 86, 87, 88, 89, 90, 91, 92, 93, 94, 95, 96, 97, 98, 99, 100]\n"
     ]
    }
   ],
   "source": [
    "print(list(range(101)))"
   ]
  },
  {
   "cell_type": "markdown",
   "id": "9a12b032-9b3f-46a6-805c-b6d59403a7e2",
   "metadata": {},
   "source": [
    "## 辞書型のデータをループする\n",
    "\n",
    "辞書型のデータをループするには次のように記述します。"
   ]
  },
  {
   "cell_type": "code",
   "execution_count": 4,
   "id": "48b82f7b-18ae-4338-b4e2-bbd3daaa1cbb",
   "metadata": {},
   "outputs": [
    {
     "name": "stdout",
     "output_type": "stream",
     "text": [
      "key: tani value: 21\n",
      "key: kazu value: 22\n",
      "key: python value: 100\n"
     ]
    }
   ],
   "source": [
    "data = {\"tani\": 21, \"kazu\": 22, \"python\": 100}\n",
    "for key, value in data.items():\n",
    "     print(\"key: {} value: {}\".format(key, value))"
   ]
  },
  {
   "cell_type": "markdown",
   "id": "e0f393aa-4990-4820-aa1a-01707ea0b119",
   "metadata": {},
   "source": [
    "## while文\n",
    "\n",
    "while文は、特定条件を満たすまでループを繰り返します。\n",
    "\r\n",
    "〜の間はずっとループといったイメージで、forほど使う頻度は少ないですが、\r\n",
    "明示的に無限ループを行いたい場合は、whileでのループ処理を記述します。"
   ]
  },
  {
   "cell_type": "code",
   "execution_count": 5,
   "id": "b8c2c126-38a2-4c74-bfe8-44213e90a9f8",
   "metadata": {},
   "outputs": [
    {
     "name": "stdout",
     "output_type": "stream",
     "text": [
      "0\n",
      "1\n",
      "2\n",
      "3\n",
      "4\n",
      "5\n",
      "6\n",
      "7\n",
      "8\n",
      "9\n"
     ]
    }
   ],
   "source": [
    "# nが10になるまで繰り返し\n",
    "n = 0\n",
    "while n < 10:\n",
    "    print(n)\n",
    "    n += 1 # +1するのを忘れずに。"
   ]
  },
  {
   "cell_type": "markdown",
   "id": "59bb5621-da6f-49eb-837f-94233a30fcd8",
   "metadata": {},
   "source": [
    "n += 1もしくは、n = n + 1を記述しない場合、無限ループになってしまいます。\n",
    "\n",
    "無限ループに入ったら、Ctrl + cで終了しましょう。\n",
    "\n",
    "無限ループにならないように注意が必要です。"
   ]
  },
  {
   "cell_type": "markdown",
   "id": "51d7c4b6-a078-4363-bcae-bc7d9a345ef7",
   "metadata": {},
   "source": [
    "## 無限ループ\n",
    "\n",
    "ちなみに、故意に無限ループにする場合には、次のように書きます。"
   ]
  },
  {
   "cell_type": "markdown",
   "id": "e9d59ddd-b3af-46be-8ac3-b48ee9880fde",
   "metadata": {},
   "source": [
    "無限ループですので、下記プログラムを実行する場合は、Ctrl + cで終了してください。\n",
    "\n",
    "もしくはターミナル/コマンドプロンプトを強制的に終了して（閉じて）ください。\n",
    "\n",
    "~~~\n",
    "while True:\n",
    "    print(\"無限ループ\")\n",
    "~~~"
   ]
  },
  {
   "cell_type": "markdown",
   "id": "848780b9-5313-4d4a-bccd-d4368197a8e5",
   "metadata": {},
   "source": [
    "## リスト内包表記\n",
    "\n",
    "リスト内包表記(List Comprehensions)は既存のリストやジェネレータから新しいリストを作るものです。\n",
    "\n",
    "例えば、以下は1から10までの数値をそれぞれ2乗した数値のリストを作る場合のプログラムを、リスト内包表記で記述したサンプルです。"
   ]
  },
  {
   "cell_type": "code",
   "execution_count": 8,
   "id": "53b7ac6f-f45c-4c23-9045-d0aa69585dfb",
   "metadata": {},
   "outputs": [
    {
     "name": "stdout",
     "output_type": "stream",
     "text": [
      "[1, 4, 9, 16, 25, 36, 49, 64, 81, 100]\n",
      "[1, 4, 9, 16, 25, 36, 49, 64, 81, 100]\n"
     ]
    }
   ],
   "source": [
    "result = [x**2 for x in range(1,11)]\n",
    "print(result) # [1, 4, 9, 16, 25, 36, 49, 64, 81, 100]\n",
    "\n",
    "# 通常のループでは次のようになります。\n",
    "result = []\n",
    "for i in range(1,11):\n",
    "    result.append(i**2)\n",
    "\n",
    "print(result) # [1, 4, 9, 16, 25, 36, 49, 64, 81, 100]"
   ]
  },
  {
   "cell_type": "markdown",
   "id": "16ce7321-d97e-4ef2-baf7-68a48af3488a",
   "metadata": {},
   "source": [
    "リスト内包表記は、既存のリストから取り出した要素に対し処理をするだけでなく、条件に応じた場合にだけ新しいリストに追加したい場合にも使えます。\n",
    "\n",
    "内包表記のメリットは、処理を簡潔に書け、新しいリストなどへの追加メソッドの呼び出しにかかるコストを軽減できます。"
   ]
  },
  {
   "cell_type": "markdown",
   "id": "0822a900-9f10-4819-81ec-c9c250526bbc",
   "metadata": {},
   "source": [
    "* * *"
   ]
  },
  {
   "cell_type": "markdown",
   "id": "8e3e0d5f-9f74-41e7-9b18-864016ffed58",
   "metadata": {},
   "source": [
    "## その他内包表記\n",
    "\n",
    "リスト内包表記以外にも、セットと辞書を生成する内包表記もあります。\n",
    "\n",
    "セットと辞書内包表記の場合、生成する値によっては出力される値の順番が保持されない場合もありますので、利用の際にはご注意ください。"
   ]
  },
  {
   "cell_type": "code",
   "execution_count": 10,
   "id": "d0dec2c2-58a9-4aaf-ad88-55dafd5ed911",
   "metadata": {},
   "outputs": [
    {
     "name": "stdout",
     "output_type": "stream",
     "text": [
      "{1, 4, 9, 16, 25}\n"
     ]
    }
   ],
   "source": [
    "s = {x**2 for x in range(1,6)}\n",
    "print(s) # {1, 4, 9, 16, 25}"
   ]
  },
  {
   "cell_type": "markdown",
   "id": "02d296a9-eb9b-4d03-a3ee-8fe6657bc7d5",
   "metadata": {},
   "source": [
    "辞書内包表記の書き方は、キーと値をコロン「:」で区切り、\n",
    "\n",
    "セット内包表記と同様に{}を使います。"
   ]
  },
  {
   "cell_type": "code",
   "execution_count": 11,
   "id": "afc54345-68fb-4799-ba3c-99c1566c21fb",
   "metadata": {},
   "outputs": [
    {
     "name": "stdout",
     "output_type": "stream",
     "text": [
      "{2: 1, 4: 4, 6: 9, 8: 16, 10: 25, 12: 36, 14: 49, 16: 64, 18: 81, 20: 100}\n"
     ]
    }
   ],
   "source": [
    "d = {x*2:x**2 for x in range(1,11)}\n",
    "print(d) "
   ]
  },
  {
   "cell_type": "markdown",
   "id": "ef4617c8-6f0e-4954-9b98-f8a31fd1f232",
   "metadata": {},
   "source": [
    "また、tuple内包表記に関してですが、下記のように記述するとgenerator（ジェネレータ）になります。\n",
    "\n",
    "()で定義すると、タプル内包表記にはなりませんので注意が必要です。\n",
    "\n",
    "返ってくるのは要素を生成するgeneratorです。\n",
    "\n",
    "※generatorという言葉の意味は今のところは理解しなくて構いません。\n",
    "\n",
    "tupleの時はセット型と辞書型とは違いgeneratorが返ってきて、list()でキャストすると内包表記を実現できるというのを知っていれば問題ありません。\n",
    "\n",
    "**tupleにする際には、tuple()でキャストする必要があります。**"
   ]
  },
  {
   "cell_type": "code",
   "execution_count": 13,
   "id": "fc34bf7f-ce3b-4535-95d5-0142dbb22400",
   "metadata": {},
   "outputs": [
    {
     "name": "stdout",
     "output_type": "stream",
     "text": [
      "<generator object <genexpr> at 0x000002297ACC8EE0>\n",
      "(0, 1, 2, 3, 4)\n"
     ]
    }
   ],
   "source": [
    "t = (x for x in range(5))\n",
    "print(t)\n",
    "# <generator object <genexpr> at 0x1095c8eb8>\n",
    "\n",
    "t = tuple([x for x in range(5)])\n",
    "print(t) # (0, 1, 2, 3, 4)"
   ]
  },
  {
   "cell_type": "markdown",
   "id": "87aac3b4-981c-4b1d-856e-7b6cd52dad13",
   "metadata": {},
   "source": [
    "## 標準入力\n",
    "\n",
    "input()を用いることで、ユーザからの入力を受け取ることが可能です。\n",
    "\n",
    "※Python バージョン2系では、raw_input()でしたが、Python3系では、raw_input()は使えず、input()を使います。\n",
    "\n",
    "以下のプログラムを実行すると、コンソール(Macの方は、ターミナル、WIndowsの方はコマンドプロンプト)の入力が待ち状態になり、\n",
    "\n",
    "何かをコンソールに入力するとinput()で入力値を受け取ります。"
   ]
  },
  {
   "cell_type": "code",
   "execution_count": 14,
   "id": "e736a4dd-ed34-48dd-8916-32789aadcb54",
   "metadata": {},
   "outputs": [
    {
     "name": "stdout",
     "output_type": "stream",
     "text": [
      "名前を入力してください\n"
     ]
    },
    {
     "name": "stdin",
     "output_type": "stream",
     "text": [
      " yamato\n"
     ]
    },
    {
     "name": "stdout",
     "output_type": "stream",
     "text": [
      "あなたの名前はyamatoです\n"
     ]
    }
   ],
   "source": [
    "print(\"名前を入力してください\")\n",
    "name = input()\n",
    "print(\"あなたの名前は\"+name+\"です\")"
   ]
  },
  {
   "cell_type": "markdown",
   "id": "987de0fc-a34a-4235-8c9a-20981ee9bbd1",
   "metadata": {},
   "source": [
    "ここで1つ注意ですが、input()を使って受け取った値は、**文字列型**になります。\n",
    "\n",
    "数値を入力した場合、文字列型にキャストされてしまいますので、その後の数値処理には気をつけてください。\n",
    "\n",
    "（一旦int()等でキャストを行ってください。）\n",
    "\n",
    "以下は無限にユーザが入力した内容を出力するプログラムです。\n",
    "\n",
    "**受け取った値を変数iに代入し、print()でiを出力します。**"
   ]
  },
  {
   "cell_type": "code",
   "execution_count": null,
   "id": "9cefa239-fb67-4e97-95e2-05f70664cb52",
   "metadata": {},
   "outputs": [],
   "source": [
    "# Ctr-Cで終了します。\n",
    "while True:\n",
    "    print(\"Please Input!\")\n",
    "    i = input()\n",
    "    print(i)"
   ]
  },
  {
   "cell_type": "code",
   "execution_count": null,
   "id": "ce34fedd-1360-416d-b517-d9d4ad0e4cb6",
   "metadata": {},
   "outputs": [],
   "source": []
  }
 ],
 "metadata": {
  "kernelspec": {
   "display_name": "Python 3 (ipykernel)",
   "language": "python",
   "name": "python3"
  },
  "language_info": {
   "codemirror_mode": {
    "name": "ipython",
    "version": 3
   },
   "file_extension": ".py",
   "mimetype": "text/x-python",
   "name": "python",
   "nbconvert_exporter": "python",
   "pygments_lexer": "ipython3",
   "version": "3.11.5"
  }
 },
 "nbformat": 4,
 "nbformat_minor": 5
}
