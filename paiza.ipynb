{
 "cells": [
  {
   "cell_type": "code",
   "execution_count": 2,
   "id": "f115ee93-3c0c-4a90-bc37-f2fbfed4dbdd",
   "metadata": {},
   "outputs": [
    {
     "name": "stdout",
     "output_type": "stream",
     "text": [
      "[1, 2, 3, 4, 5, 6, 7, 8, 9, 10]\n"
     ]
    }
   ],
   "source": [
    "# rangeを1から開始する\n",
    "lst = list(range(1, 11))\n",
    "print(lst)"
   ]
  },
  {
   "cell_type": "code",
   "execution_count": 4,
   "id": "6bb37bb2-08ba-4764-90a2-f15345d347d2",
   "metadata": {},
   "outputs": [
    {
     "name": "stdout",
     "output_type": "stream",
     "text": [
      "1 2 3 4 5 6 7 8 9 10\n"
     ]
    }
   ],
   "source": [
    "# 半角スペース区切りの出力(100個の数値を出力)\n",
    "# !=は等しくないという意味\n",
    "for i in range(10):\n",
    "    if i != 9:\n",
    "        print(i + 1, end=\" \")\n",
    "    else:\n",
    "        print(i + 1)"
   ]
  },
  {
   "cell_type": "code",
   "execution_count": 6,
   "id": "ab3b858b-a8eb-451b-b9e8-ab92299ae269",
   "metadata": {},
   "outputs": [
    {
     "name": "stdin",
     "output_type": "stream",
     "text": [
      " 1111111\n"
     ]
    },
    {
     "name": "stdout",
     "output_type": "stream",
     "text": [
      "1,111,111\n"
     ]
    }
   ],
   "source": [
    "# 入力数値を3桁ごとにカンマ区切り\n",
    "n = int(input())\n",
    "print(format(n, ','))"
   ]
  },
  {
   "cell_type": "code",
   "execution_count": 7,
   "id": "fb6f2801-ce63-48a6-9cc0-24e80f2c9594",
   "metadata": {},
   "outputs": [
    {
     "name": "stdin",
     "output_type": "stream",
     "text": [
      " 3\n"
     ]
    },
    {
     "name": "stdout",
     "output_type": "stream",
     "text": [
      "1 2 3\n",
      "2 4 6\n",
      "3 6 9\n"
     ]
    }
   ],
   "source": [
    "# 九九表を作成\n",
    "N = int(input())\n",
    "\n",
    "for i in range(1, N + 1):\n",
    "    for j in range(1, N + 1):\n",
    "        if j == N:\n",
    "            print(i * j)\n",
    "        else:\n",
    "            print(i * j, end=\" \")"
   ]
  },
  {
   "cell_type": "code",
   "execution_count": 8,
   "id": "b2e2244c-7a9f-4231-813d-02e73a3f1be7",
   "metadata": {},
   "outputs": [
    {
     "name": "stdin",
     "output_type": "stream",
     "text": [
      " 3 4\n"
     ]
    }
   ],
   "source": [
    "# 半角スペースで値を区切って取得\n",
    "n, m = map(int, input().split())"
   ]
  },
  {
   "cell_type": "code",
   "execution_count": 10,
   "id": "7e8e3ff5-1e5d-4d11-83fc-95f00fe90e88",
   "metadata": {},
   "outputs": [
    {
     "name": "stdin",
     "output_type": "stream",
     "text": [
      " 4\n",
      " 2 6 1 1\n"
     ]
    }
   ],
   "source": [
    "# リスト内包表記\n",
    "A = [int(x) for x in input().split()]\n",
    "\n",
    "# 上記と同様の結果が得られる\n",
    "A = [0] * N\n",
    "values = input().split()\n",
    "for i in range(N):\n",
    "    A[i] = int(values[i])"
   ]
  },
  {
   "cell_type": "code",
   "execution_count": 11,
   "id": "6909db17-326d-456c-b71a-aeedb83fbd78",
   "metadata": {},
   "outputs": [
    {
     "name": "stdin",
     "output_type": "stream",
     "text": [
      " 4\n",
      " 0.185 1\n"
     ]
    },
    {
     "name": "stdout",
     "output_type": "stream",
     "text": [
      "0.2\n"
     ]
    },
    {
     "name": "stdin",
     "output_type": "stream",
     "text": [
      " 0.185 2\n"
     ]
    },
    {
     "name": "stdout",
     "output_type": "stream",
     "text": [
      "0.18\n"
     ]
    },
    {
     "name": "stdin",
     "output_type": "stream",
     "text": [
      " 0.185 3\n"
     ]
    },
    {
     "name": "stdout",
     "output_type": "stream",
     "text": [
      "0.185\n"
     ]
    },
    {
     "name": "stdin",
     "output_type": "stream",
     "text": [
      " 0.185 4\n"
     ]
    },
    {
     "name": "stdout",
     "output_type": "stream",
     "text": [
      "0.1850\n"
     ]
    }
   ],
   "source": [
    "# 入力として受け取った複数の実数を、小数点以下の出力するけた数を指定して出力\n",
    "Q = int(input())\n",
    "\n",
    "for i in range(Q):\n",
    "    values = input().split()\n",
    "    N = float(values[0])\n",
    "    M = int(values[1])\n",
    "    \n",
    "    print(f'{N:.{int(M)}f}')\n",
    "#   上記は『print(\"{:.{}f}\".format(n, m))』と同じ"
   ]
  },
  {
   "cell_type": "code",
   "execution_count": 12,
   "id": "77a03db8-d363-46b8-8cb2-1ec3b60a68dd",
   "metadata": {},
   "outputs": [
    {
     "name": "stdin",
     "output_type": "stream",
     "text": [
      " 4 3\n",
      " 0\n"
     ]
    },
    {
     "name": "stdout",
     "output_type": "stream",
     "text": [
      "  0\n"
     ]
    },
    {
     "name": "stdin",
     "output_type": "stream",
     "text": [
      " 8\n"
     ]
    },
    {
     "name": "stdout",
     "output_type": "stream",
     "text": [
      "  8\n"
     ]
    },
    {
     "name": "stdin",
     "output_type": "stream",
     "text": [
      " 1\n"
     ]
    },
    {
     "name": "stdout",
     "output_type": "stream",
     "text": [
      "  1\n"
     ]
    },
    {
     "name": "stdin",
     "output_type": "stream",
     "text": [
      " 823\n"
     ]
    },
    {
     "name": "stdout",
     "output_type": "stream",
     "text": [
      "823\n"
     ]
    }
   ],
   "source": [
    "# N 個の数値を M けた半角スペース埋めで出力\n",
    "N, M = map(int, input().split())\n",
    "\n",
    "for i in range(N):\n",
    "    A = int(input())\n",
    "    print(\"{: >{}}\".format(A, M))"
   ]
  },
  {
   "cell_type": "code",
   "execution_count": null,
   "id": "0704a35f-780e-45db-af9b-aa896b876286",
   "metadata": {},
   "outputs": [],
   "source": [
    "# formatメソッドは、『文字列.format()』のように使うと、文字列中の{}に引数の前から順に置換を行う\n",
    "values = input().split()\n",
    "N = float(values[0])\n",
    "M = int(values[1])\n",
    "\n",
    "print(\"{:.{}f}\".format(N, M))"
   ]
  },
  {
   "cell_type": "code",
   "execution_count": 1,
   "id": "c388c8a5-3e85-4e48-a1e9-b120cf0650c4",
   "metadata": {},
   "outputs": [
    {
     "name": "stdout",
     "output_type": "stream",
     "text": [
      "abc , def\n",
      "abc,def\n"
     ]
    }
   ],
   "source": [
    "A = 'abc'\n",
    "B = 'def'\n",
    "\n",
    "# カンマやタブの前後に空白が入る\n",
    "print(A, ',', B)\n",
    "\n",
    "# カンマやタブの前後に空白を入れたくない場合はsepに空の文字列を指定\n",
    "print(A, ',', B, sep='')"
   ]
  },
  {
   "cell_type": "code",
   "execution_count": 1,
   "id": "c817f0fe-e026-45ca-adb9-16f046c0b1cc",
   "metadata": {},
   "outputs": [
    {
     "name": "stdin",
     "output_type": "stream",
     "text": [
      " 3 8 1 3\n"
     ]
    },
    {
     "name": "stdout",
     "output_type": "stream",
     "text": [
      "8 1 3\n"
     ]
    }
   ],
   "source": [
    "# 出力時、先頭に『*』を付けるとリストの要素を半角スペースで区切った文字列を出力できる\n",
    "# スライスで特定の文字だけ抜き出せる\n",
    "# →M[3]は3文字目、M[2:5]は2〜4文字目、M[:5]は0〜4文字目、M[2:]は2〜最終文字が出力される　※数え方は0スタート\n",
    "M = list(map(int, input().split()))\n",
    "print(*M[1:])"
   ]
  },
  {
   "cell_type": "code",
   "execution_count": null,
   "id": "63649915-b707-42ad-86cd-baacc47f3929",
   "metadata": {},
   "outputs": [],
   "source": [
    "# リストの中に特定の値があるか検索する\n",
    "N, Q = map(int, input().split())\n",
    "\n",
    "S = {}\n",
    "for i in range(N):\n",
    "    s = input()\n",
    "    if s not in S:\n",
    "        S[s] = i + 1\n",
    "\n",
    "for j in range(Q):\n",
    "    t = input()\n",
    "    if t in S:\n",
    "        print(S[t])\n",
    "    else:\n",
    "        print(-1)"
   ]
  },
  {
   "cell_type": "code",
   "execution_count": null,
   "id": "a493dfee-ca9b-46f1-a0f1-bc8dcf15b948",
   "metadata": {},
   "outputs": [],
   "source": [
    "# リストの中に特定の値があるか検索する(True or Falseで返す)\n",
    "N, Q = map(int, input().split())\n",
    "S = []\n",
    "\n",
    "for i in range(N):\n",
    "    S.append(input())\n",
    "\n",
    "for j in range(Q):\n",
    "    T = input()\n",
    "    result = T in S\n",
    "    if result == True:\n",
    "       print(S.index(T) + 1)\n",
    "    else:\n",
    "        print(-1)"
   ]
  },
  {
   "cell_type": "code",
   "execution_count": 4,
   "id": "6cd1504f-ef61-4eb7-bf4d-ad3ec0c076e5",
   "metadata": {},
   "outputs": [
    {
     "name": "stdin",
     "output_type": "stream",
     "text": [
      " 1 2 3\n",
      " 3 4 5\n"
     ]
    },
    {
     "name": "stdout",
     "output_type": "stream",
     "text": [
      "1 2 3 4 5\n"
     ]
    }
   ],
   "source": [
    "# 重複を削除し、リスト内を昇順に並べ替える\n",
    "# setでリスト内の重複を削除し、sortedで昇順に並べ替えている\n",
    "A = list(map(int, input().split()))\n",
    "B = list(map(int, input().split()))\n",
    "\n",
    "print(*sorted(set(A + B)))"
   ]
  },
  {
   "cell_type": "code",
   "execution_count": 5,
   "id": "cf620ed9-6e0a-4aa7-9fc4-f40bac5fe7ce",
   "metadata": {},
   "outputs": [
    {
     "name": "stdin",
     "output_type": "stream",
     "text": [
      " 5\n",
      " alice 97\n",
      " bob 25\n",
      " carol 57\n",
      " dave 46\n",
      " ellen 10\n",
      " 35 80\n"
     ]
    },
    {
     "name": "stdout",
     "output_type": "stream",
     "text": [
      "carol\n",
      "dave\n"
     ]
    }
   ],
   "source": [
    "# リストの中にリストが入っている場合、下記『for〜』のように要素を分けられる\n",
    "# 『if〜』は、式が重複していればandを使わなくても下記のように書ける\n",
    "N = int(input())\n",
    "A = [input().split() for i in range(N)]\n",
    "K, L = map(int, input().split())\n",
    "\n",
    "for name, score in A:\n",
    "    if K <= int(score) <= L:\n",
    "        print(name)"
   ]
  },
  {
   "cell_type": "code",
   "execution_count": 16,
   "id": "0c5339c8-c96e-4d70-9e3e-6a6725072e83",
   "metadata": {},
   "outputs": [
    {
     "name": "stdin",
     "output_type": "stream",
     "text": [
      " 1\n",
      " mike 20\n"
     ]
    },
    {
     "name": "stdout",
     "output_type": "stream",
     "text": [
      "mike 21\n"
     ]
    }
   ],
   "source": [
    "# 名前+年齢に1歳足して出力\n",
    "n = int(input())\n",
    "\n",
    "for i in range(n):\n",
    "    s = input().split()\n",
    "    print(s[0], int(s[1]) + 1)"
   ]
  },
  {
   "cell_type": "code",
   "execution_count": 7,
   "id": "fc14e0e6-e37a-4457-ab56-b802d7ee43a7",
   "metadata": {},
   "outputs": [
    {
     "name": "stdin",
     "output_type": "stream",
     "text": [
      " 1 0\n"
     ]
    },
    {
     "name": "stdout",
     "output_type": "stream",
     "text": [
      "0\n",
      "1\n",
      "False\n",
      "1\n",
      "True\n",
      "False\n",
      "False\n",
      "0 1\n"
     ]
    }
   ],
   "source": [
    "# 論理演算\n",
    "A, B = map(int, input().split())\n",
    "print(A & B) # 論理積(AND)\n",
    "print(A or B)  # 論理和(OR)\n",
    "print(not A) # 否定(NOT)\n",
    "print(A ^ B)   # 排他的論理和(XOR)\n",
    "print(not A or not B)  # NAND演算(『not (1 & 0)』でもOK)\n",
    "print(not A and not B) # NOR演算(『not (1 or 0)』でもOK)\n",
    "print(not (A ^ B))     # XNOR演算\n",
    "print(A & B, A ^ B)    # 半加算器"
   ]
  },
  {
   "cell_type": "code",
   "execution_count": 8,
   "id": "f1f46c33-572b-419b-aa4e-2fc6f6d41d3f",
   "metadata": {},
   "outputs": [
    {
     "name": "stdin",
     "output_type": "stream",
     "text": [
      " 0 1 1\n"
     ]
    },
    {
     "name": "stdout",
     "output_type": "stream",
     "text": [
      "1 0\n"
     ]
    }
   ],
   "source": [
    "# 全加算器\n",
    "A, B, C1 = map(int, input().split())\n",
    "\n",
    "C, S = A & B, A ^ B\n",
    "C2, S2 = S & C1, S ^ C1\n",
    "C3 = C or C2\n",
    "print(C3, S2)"
   ]
  },
  {
   "cell_type": "code",
   "execution_count": 12,
   "id": "2e114ef1-cbc5-4b8b-beaf-b4f8d0f1fe73",
   "metadata": {},
   "outputs": [
    {
     "name": "stdin",
     "output_type": "stream",
     "text": [
      " 0 1 1\n"
     ]
    },
    {
     "name": "stdout",
     "output_type": "stream",
     "text": [
      "1 0\n"
     ]
    }
   ],
   "source": [
    "# 全加算器(解答例)\n",
    "a, b, c1 = map(int, input().split())\n",
    "\n",
    "# 半加算器のプログラム\n",
    "def halfAdder(a, b):\n",
    "    c = a & b\n",
    "    s = a ^ b\n",
    "    return (c, s)\n",
    "\n",
    "cx, sy = halfAdder(a, b)\n",
    "cy, s = halfAdder(sy, c1)\n",
    "c2 = cx ^ cy\n",
    "\n",
    "print(c2, s)"
   ]
  },
  {
   "cell_type": "code",
   "execution_count": 13,
   "id": "66320b03-bb35-43f0-9c14-5e5736d5cce6",
   "metadata": {},
   "outputs": [
    {
     "name": "stdin",
     "output_type": "stream",
     "text": [
      " 3\n"
     ]
    },
    {
     "name": "stdout",
     "output_type": "stream",
     "text": [
      "0\n",
      "1\n",
      "1\n"
     ]
    }
   ],
   "source": [
    "# フィボナッチ数\n",
    "N = int(input())\n",
    "a, b = 0, 1\n",
    "\n",
    "for i in range(N):\n",
    "    print(a)\n",
    "    a, b = b, a + b"
   ]
  },
  {
   "cell_type": "code",
   "execution_count": 14,
   "id": "11ca0b78-dde2-4e8b-9a6a-7535978005db",
   "metadata": {},
   "outputs": [
    {
     "name": "stdin",
     "output_type": "stream",
     "text": [
      " 3\n",
      " 1\n",
      " 3\n",
      " 0\n"
     ]
    },
    {
     "name": "stdout",
     "output_type": "stream",
     "text": [
      "NO\n"
     ]
    }
   ],
   "source": [
    "# 0が含まれていないか判定\n",
    "# 『検索値 in リスト』だけでifを使用可(\"=True\"とかは不要)\n",
    "N = int(input())\n",
    "A = [int(input()) for i in range(N)]\n",
    "\n",
    "if 0 in A:\n",
    "    print(\"NO\")\n",
    "else:\n",
    "    print(\"YES\")"
   ]
  },
  {
   "cell_type": "code",
   "execution_count": 18,
   "id": "17eeb9aa-4faa-4329-bf64-94767ec69b90",
   "metadata": {},
   "outputs": [
    {
     "name": "stdin",
     "output_type": "stream",
     "text": [
      " 4\n",
      " 2 3\n",
      " 0 4\n",
      " 5 0\n",
      " 3 3\n"
     ]
    },
    {
     "name": "stdout",
     "output_type": "stream",
     "text": [
      "0 4\n",
      "3 3\n",
      "2 3\n",
      "5 0\n"
     ]
    }
   ],
   "source": [
    "# 配列の配列をソートする場合、基本的には『配列[0]の要素を最優先でソート、[0]が同じなら[1]をソート、[1]が同じなら[2]を…』というようにソートする\n",
    "N = int(input())\n",
    "kingin = [0] * N\n",
    "\n",
    "for i in range(N):\n",
    "    [a, b] = [int(j) for j in input().split()]\n",
    "    kingin[i] = [b, a]\n",
    "\n",
    "kingin.sort(reverse=True)\n",
    "\n",
    "for i in range(N):\n",
    "    [a, b] = kingin[i]\n",
    "    print(b, a)"
   ]
  },
  {
   "cell_type": "code",
   "execution_count": 17,
   "id": "6ba1f3de-2810-4112-a827-ecc2114a3014",
   "metadata": {},
   "outputs": [
    {
     "name": "stdin",
     "output_type": "stream",
     "text": [
      " 2 2 2\n",
      " 2 1\n",
      " 1 2\n"
     ]
    },
    {
     "name": "stdout",
     "output_type": "stream",
     "text": [
      "{2: 1, 1: 2}\n"
     ]
    },
    {
     "name": "stdin",
     "output_type": "stream",
     "text": [
      " 1 1\n",
      " 2 2\n"
     ]
    },
    {
     "name": "stdout",
     "output_type": "stream",
     "text": [
      "{1: 1, 2: 2}\n",
      "{1: 2, 2: 1}\n",
      "1 2\n",
      "2 1\n"
     ]
    }
   ],
   "source": [
    "# 辞書(Aグループのi番の人が頼んだ仕事はCグループのk番の人に行き着く)\n",
    "p, q, r = map(int, input().split())\n",
    "AB = {}\n",
    "BC = {}\n",
    "AC = {}\n",
    "\n",
    "# Aグループの人の番号=iと、その人が仕事を頼むBグループの人の番号=j\n",
    "for i in range(p):\n",
    "    [i, j] = [int(n) for n in input().split()]\n",
    "    AB[i] = j\n",
    "print(AB)\n",
    "    \n",
    "# Bグループの人の番号=jと、その人が仕事を頼むCグループの人の番号=k\n",
    "for i in range(q):\n",
    "    [j, k] = [int(n) for n in input().split()]\n",
    "    BC[j] = k\n",
    "print(BC)\n",
    "\n",
    "# Aグループのi番の人が頼んだ仕事はCグループのk番の人に行き着いた旨を辞書に追加\n",
    "for i in range(1, p + 1):\n",
    "    AC[i] = BC[AB[i]]\n",
    "print(AC)\n",
    "\n",
    "for i, k in AC.items():\n",
    "    print(i, k)"
   ]
  },
  {
   "cell_type": "code",
   "execution_count": 21,
   "id": "1d38c9f4-f543-4ff3-b598-95c6cd0376af",
   "metadata": {},
   "outputs": [
    {
     "name": "stdin",
     "output_type": "stream",
     "text": [
      " 7\n"
     ]
    },
    {
     "name": "stdout",
     "output_type": "stream",
     "text": [
      "4\n"
     ]
    }
   ],
   "source": [
    "# シミュレーション\n",
    "H = int(input())\n",
    "\n",
    "paiza = [0, 1, 1]\n",
    "monster = [0, 1, 1]\n",
    "\n",
    "dmg = 2\n",
    "n = 2\n",
    "\n",
    "while dmg < H:\n",
    "    paiza[0] = paiza[1]\n",
    "    paiza[1] = paiza[2]\n",
    "    monster[0] = monster[1]\n",
    "    monster[1] = monster[2]\n",
    "    \n",
    "    paiza[2] = monster[1] + monster[0]\n",
    "    monster[2] = paiza[1] * 2 + paiza[0]\n",
    "    \n",
    "    dmg += monster[2]\n",
    "    \n",
    "    n += 1\n",
    "\n",
    "print(n)"
   ]
  },
  {
   "cell_type": "code",
   "execution_count": null,
   "id": "7897b90b-55c0-408f-9695-dc4b1939431d",
   "metadata": {},
   "outputs": [],
   "source": []
  }
 ],
 "metadata": {
  "kernelspec": {
   "display_name": "Python 3 (ipykernel)",
   "language": "python",
   "name": "python3"
  },
  "language_info": {
   "codemirror_mode": {
    "name": "ipython",
    "version": 3
   },
   "file_extension": ".py",
   "mimetype": "text/x-python",
   "name": "python",
   "nbconvert_exporter": "python",
   "pygments_lexer": "ipython3",
   "version": "3.11.5"
  }
 },
 "nbformat": 4,
 "nbformat_minor": 5
}
