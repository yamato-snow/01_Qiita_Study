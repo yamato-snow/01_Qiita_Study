{
 "cells": [
  {
   "cell_type": "markdown",
   "id": "eddfb83b-61f3-40ed-9919-cd89db08af0e",
   "metadata": {},
   "source": [
    "# 全体像\n",
    "まずはじめに、Pythonにおけるデータ型の全体像を俯瞰しましょう。\n",
    "この章では、下図の整数型、文字列型、リスト型、辞書型に絞って学びます。\n",
    "![全体像](https://camo.qiitausercontent.com/e857396fb951f42202b81a8c176afafa87ec96bc/68747470733a2f2f616961636164656d792e6a702f6173736574732f696d616765732f646174615f747970652e706e67)\n",
    "https://onl.la/veGPR4D\n",
    "\n",
    "https://onl.la/SkC6dR2\n"
   ]
  },
  {
   "cell_type": "markdown",
   "id": "d4ee6434-067f-41f8-8292-53ecf034542b",
   "metadata": {},
   "source": [
    "## 変数と型\n",
    "\n",
    "プログラミング言語によっては、変数を宣言する際に、「型宣言（この変数にはこの型を格納するよという宣言）」を行う必要がある言語があります。\n",
    "\n",
    "例えば、他のプログラミング言語(Java言語やC言語など)は型宣言が必要になります。\n",
    "\n",
    "ですが、Pythonの変数には型宣言が必要ないため、変数にどのような型でも入れることができます。\n"
   ]
  },
  {
   "cell_type": "code",
   "execution_count": 22,
   "id": "faf96404-a97a-4e15-b191-3333cc98f29b",
   "metadata": {},
   "outputs": [
    {
     "name": "stdout",
     "output_type": "stream",
     "text": [
      "5\n",
      "Python\n"
     ]
    }
   ],
   "source": [
    "x = 5\n",
    "print(x) # 5が出力される。\n",
    "x = \"Python\" # 問題なく代入可能。\n",
    "print(x) # Pythonと出力される。"
   ]
  },
  {
   "cell_type": "markdown",
   "id": "b77bb4ad-3072-4b4b-ab1c-c640c14d15bd",
   "metadata": {},
   "source": [
    "## データ型\n",
    "これまでに、「文字列」や「数値」という値を見てきました。\n",
    "\n",
    "これらは「データ型」と呼ばれ、様々な種類があります。\n",
    "\n",
    "主なものは、整数型、文字列型、辞書型、リスト型です。\n",
    "\n",
    "## 数字（数値型）\n",
    "１）整数(int)\n",
    "\n",
    "２）小数・実数(float)\n",
    "\n",
    "３）複素数\n",
    "\n",
    "の3つあります。"
   ]
  },
  {
   "cell_type": "markdown",
   "id": "a371c3ad-a2eb-4002-ae0c-0c1abced3161",
   "metadata": {},
   "source": [
    "## 文字列型\n",
    "\n",
    "ダブルクォーテーション（\"と\"）またはシングルクォーテーション('と')で囲うと文字列になります。\n",
    "\n",
    "次のように、3種類の記述方法があります。"
   ]
  },
  {
   "cell_type": "code",
   "execution_count": 42,
   "id": "c4a61176-d1d3-4fb9-90b9-a55234ce572f",
   "metadata": {},
   "outputs": [],
   "source": [
    "# 1) シングルクオテーション\n",
    "str1 = 'Hello World'\n",
    "\n",
    "# 2) ダブルクオテーション\n",
    "str2 = \"Hello World\"\n",
    "\n",
    "# 3) トリプル・ダブルクオテーション\n",
    "str3 = \"\"\"Hello World\n",
    "Hello Python\"\"\""
   ]
  },
  {
   "cell_type": "markdown",
   "id": "46dfc0f3-bf76-4eb0-b4b2-a193f495cc23",
   "metadata": {},
   "source": [
    "Pythonでは文字列型を定義する上で、ダブルクォーテーション（\"と\"）とシングルクォーテーション('と')の明確な使い分けはありませんので、\n",
    "\n",
    "どちらか好きな方を使って文字列型を定義して頂けたらと思います。"
   ]
  },
  {
   "cell_type": "code",
   "execution_count": 27,
   "id": "4a00ffaa-097a-48d1-80e8-f600b58215b2",
   "metadata": {},
   "outputs": [],
   "source": [
    "x = '1' # 文字列型"
   ]
  },
  {
   "cell_type": "markdown",
   "id": "8ba735d5-9e31-4208-bf50-6638939786c4",
   "metadata": {},
   "source": [
    "さらに、文字列型では+と＊の2つを利用することが出来ますが、\n",
    "\n",
    "+は文字列同士で使う場合、結合という意味になり、複数の文字列を1つの文字列として表現できます。\n",
    "\n",
    "アスタリスク記号(＊)を使うと文字列を反復することが出来ます。\n",
    "\n",
    "実際にそれぞれ確認して見ましょう。"
   ]
  },
  {
   "cell_type": "code",
   "execution_count": 29,
   "id": "be760071-07e0-4c45-8aa1-ab0ca806de3f",
   "metadata": {},
   "outputs": [
    {
     "name": "stdout",
     "output_type": "stream",
     "text": [
      "hello world\n"
     ]
    }
   ],
   "source": [
    "# 結合\n",
    "a = \"hello \" # 結合後、見やすくするために、最後に半角スペースを入れています。\n",
    "b = \"world\"\n",
    "print(a + b) # hello world"
   ]
  },
  {
   "cell_type": "markdown",
   "id": "b154a1be-a4e9-4cde-b433-368931d26dd8",
   "metadata": {},
   "source": [
    "次に、*を使う例です。"
   ]
  },
  {
   "cell_type": "code",
   "execution_count": 31,
   "id": "5af09035-9b73-4e72-82a3-bae6be40634c",
   "metadata": {},
   "outputs": [
    {
     "name": "stdout",
     "output_type": "stream",
     "text": [
      "hellohellohello\n"
     ]
    }
   ],
   "source": [
    "# 反復\n",
    "a = \"hello\"\n",
    "print(a * 3) # hellohellohello"
   ]
  },
  {
   "cell_type": "markdown",
   "id": "bffcf38d-e9d2-420d-aa85-1df7acae06af",
   "metadata": {},
   "source": [
    "型変換(キャスト)\n",
    "下記のプログラムを記述して実際に、実行してみましょう。"
   ]
  },
  {
   "cell_type": "code",
   "execution_count": 33,
   "id": "81e316f3-6da3-4be4-ade8-f288589f2447",
   "metadata": {},
   "outputs": [
    {
     "name": "stdout",
     "output_type": "stream",
     "text": [
      "HelloWorld\n",
      "My name is Tom\n"
     ]
    },
    {
     "ename": "TypeError",
     "evalue": "can only concatenate str (not \"int\") to str",
     "output_type": "error",
     "traceback": [
      "\u001b[1;31m---------------------------------------------------------------------------\u001b[0m",
      "\u001b[1;31mTypeError\u001b[0m                                 Traceback (most recent call last)",
      "Cell \u001b[1;32mIn[33], line 8\u001b[0m\n\u001b[0;32m      5\u001b[0m age \u001b[38;5;241m=\u001b[39m \u001b[38;5;241m24\u001b[39m\n\u001b[0;32m      6\u001b[0m \u001b[38;5;66;03m# 以下は、データ型の異なる文字列型と数値型を連結してエラーになっているプログラムです。\u001b[39;00m\n\u001b[1;32m----> 8\u001b[0m \u001b[38;5;28mprint\u001b[39m(\u001b[38;5;124;43m\"\u001b[39;49m\u001b[38;5;124;43mMy name is \u001b[39;49m\u001b[38;5;124;43m\"\u001b[39;49m\u001b[43m \u001b[49m\u001b[38;5;241;43m+\u001b[39;49m\u001b[43m \u001b[49m\u001b[43mname\u001b[49m\u001b[43m \u001b[49m\u001b[38;5;241;43m+\u001b[39;49m\u001b[43m \u001b[49m\u001b[38;5;124;43m\"\u001b[39;49m\u001b[38;5;124;43mMy age is \u001b[39;49m\u001b[38;5;124;43m\"\u001b[39;49m\u001b[43m \u001b[49m\u001b[38;5;241;43m+\u001b[39;49m\u001b[43m \u001b[49m\u001b[43mage\u001b[49m) \u001b[38;5;66;03m# この行はエラーになります\u001b[39;00m\n\u001b[0;32m      9\u001b[0m \u001b[38;5;66;03m# TypeError: Can't convert 'int' object to str implicitl\u001b[39;00m\n",
      "\u001b[1;31mTypeError\u001b[0m: can only concatenate str (not \"int\") to str"
     ]
    }
   ],
   "source": [
    "print(\"Hello\" + \"World\") # +により文字列同士を連結\n",
    "name = \"Tom\"\n",
    "print(\"My name is \" + name)\n",
    "\n",
    "age = 24\n",
    "# 以下は、データ型の異なる文字列型と数値型を連結してエラーになっているプログラムです。\n",
    "\n",
    "print(\"My name is \" + name + \"My age is \" + age) # この行はエラーになります\n",
    "# TypeError: Can't convert 'int' object to str implicitl"
   ]
  },
  {
   "cell_type": "markdown",
   "id": "3a358ab2-0a66-4813-992f-803df5dc2602",
   "metadata": {},
   "source": [
    "すると、TypeError: Can't convert 'int' object to str implicitlyとエラーがでます。\n",
    "\n",
    "このように、データ型の異なる文字列型と数値型を連結した場合エラーになってしまいます。\n",
    "\n",
    "そこで、このエラーを回避するには、数値型を文字列型に変換することで、文字列同士の連結として扱われることになり、連結することができます。\n",
    "\n",
    "このようにデータ型を変えることを「型変換」または「キャスト」と呼びます。\n",
    "\n",
    "数値型を文字列型に変換するにはstr()を使います。"
   ]
  },
  {
   "cell_type": "code",
   "execution_count": 35,
   "id": "3895ede3-2b1e-46bc-9655-e1f5055faf3c",
   "metadata": {},
   "outputs": [
    {
     "name": "stdout",
     "output_type": "stream",
     "text": [
      "My name is TomMy age is 24\n",
      "1500\n"
     ]
    }
   ],
   "source": [
    "name = \"Tom\"\n",
    "age = 24\n",
    "print(\"My name is \" + name + \"My age is \" + str(age))\n",
    "\n",
    "# 先ほど、数値型を文字列型に変換しましたが、反対に文字列型を数値型に変換することもできます。\n",
    "# その場合「int」を用います。\n",
    "\n",
    "string_price = \"1000\"\n",
    "price = 500\n",
    "\n",
    "total_price = int(string_price) + price\n",
    "print(total_price) # 1500"
   ]
  },
  {
   "cell_type": "markdown",
   "id": "f12b4a97-97fc-4423-a768-1ebdc1caa02d",
   "metadata": {},
   "source": [
    "リストの追加\n",
    "append()を使うことで、listの末尾に要素を追加することができます。"
   ]
  },
  {
   "cell_type": "code",
   "execution_count": 37,
   "id": "543e472b-50ac-4485-8bd7-95f6a63d5fe3",
   "metadata": {},
   "outputs": [
    {
     "name": "stdout",
     "output_type": "stream",
     "text": [
      "['python']\n",
      "['python', 'php']\n"
     ]
    }
   ],
   "source": [
    "li = []\n",
    "li.append(\"python\")\n",
    "print(li) # ['python']\n",
    "li.append(\"php\")\n",
    "print(li) # ['python', 'php']"
   ]
  },
  {
   "cell_type": "markdown",
   "id": "0691b4c0-5912-4f4d-ba9b-8212ad862001",
   "metadata": {},
   "source": [
    "## 辞書型\n",
    "\n",
    "辞書型(ディクショナリー型）はKeyとValueのペアを保持するデータ型です。\n",
    "\n",
    "次は辞書型の構文になります。\n",
    "\n",
    "辞書名 = {\"キー\" : \"値\", ・・・} \n",
    "\n",
    "リスト型はインデックス番号が0から始まり0から順に値が格納されていましたが、辞書型は{}を使い囲います。\n",
    "\n",
    "その点は、辞書型と書き方は似ていますが、辞書型にはインデックス0から値が割り当てられていません。\n",
    "\n",
    "そのため、リストはインデックス番号で値にアクセスできるのに対し、辞書型では任意のキー文字列で値にアクセスすることができます。\n",
    "\n",
    "はじめに簡単なプログラムを見てみます。\n",
    "\n"
   ]
  },
  {
   "cell_type": "code",
   "execution_count": 40,
   "id": "286bd2f1-d388-45df-a6f7-d949ada548c8",
   "metadata": {},
   "outputs": [
    {
     "name": "stdout",
     "output_type": "stream",
     "text": [
      "tani\n",
      "{'name': 'tani', 'email': 'kazunori-t@cyberbra.in', 'gender': 'male'}\n"
     ]
    }
   ],
   "source": [
    "profile = {\"name\": \"tani\", \"email\": \"kazunori-t@cyberbra.in\" }\n",
    "print(profile[\"name\"]) # tani\n",
    "\n",
    "# 新しく要素を追加\n",
    "profile[\"gender\"] = \"male\"\n",
    "\n",
    "# 新しく要素を追加した辞書型(profile)を出力\n",
    "print(profile)"
   ]
  },
  {
   "cell_type": "markdown",
   "id": "86935cfd-46ed-4dae-9aba-e532b293d4c6",
   "metadata": {},
   "source": [
    "## リスト型と辞書型の違い\n",
    "\n",
    "ここまでリスト型と辞書型を学んできましたが、両者の違いは何でしょうか。\n",
    "\n",
    "それは要素のアクセスの仕方が異なることです。\n",
    "\n",
    "リスト型はインデックス(添え字)で要素にアクセスしましたが、辞書型はキー（文字列や数値）で要素にアクセスします。\n",
    "\n",
    "また、リスト型は[]を使いますが、辞書型は{}を使うという点でも異なります。\n",
    "\n",
    "## リスト型と辞書型の共通するところ\n",
    "\n",
    "それでは両者が共通する部分はなんでしょうか。\n",
    "\n",
    "共通する部分はリスト型も辞書型も、異なるデータ型(intやstr)などの要素の格納が可能であるという点です。\n",
    "\n",
    "また、要素の書き換えが可能です。\n"
   ]
  },
  {
   "cell_type": "code",
   "execution_count": null,
   "id": "a9465df7-2634-4fbe-853c-2412caac437c",
   "metadata": {},
   "outputs": [],
   "source": []
  }
 ],
 "metadata": {
  "kernelspec": {
   "display_name": "Python 3 (ipykernel)",
   "language": "python",
   "name": "python3"
  },
  "language_info": {
   "codemirror_mode": {
    "name": "ipython",
    "version": 3
   },
   "file_extension": ".py",
   "mimetype": "text/x-python",
   "name": "python",
   "nbconvert_exporter": "python",
   "pygments_lexer": "ipython3",
   "version": "3.11.5"
  }
 },
 "nbformat": 4,
 "nbformat_minor": 5
}
