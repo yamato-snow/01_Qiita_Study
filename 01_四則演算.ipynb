{
 "cells": [
  {
   "cell_type": "code",
   "execution_count": 24,
   "id": "1f6ab6be-d5a6-45ab-bcda-e4e9120a16b4",
   "metadata": {},
   "outputs": [
    {
     "name": "stdout",
     "output_type": "stream",
     "text": [
      "10\n",
      "15\n",
      "3\n",
      "5.0\n",
      "0\n",
      "5\n"
     ]
    }
   ],
   "source": [
    "# 数値\n",
    "print(10) # 数値はクォーテーションで囲まなくてOK\n",
    "print(10 + 5)\n",
    "print(5 - 2)\n",
    "print(10 / 2)\n",
    "print(10 % 5) # 余りを求める\n",
    "print((20 - 5) // 3) # スラッシュ2つで割り算の余りを切り捨てられる"
   ]
  },
  {
   "cell_type": "code",
   "execution_count": 25,
   "id": "a4613f03-91a2-4ae4-a79a-56da76d92d86",
   "metadata": {},
   "outputs": [
    {
     "name": "stdout",
     "output_type": "stream",
     "text": [
      "15\n",
      "10 + 5\n"
     ]
    }
   ],
   "source": [
    "# 文字列と数値の違い\n",
    "print(10 + 5) # クォーテーションがなければ数値\n",
    "print(\"10 + 5\") # 文字列はクォーテーションでもダブルクォーテーションでもOK"
   ]
  },
  {
   "cell_type": "code",
   "execution_count": 26,
   "id": "55543f0f-cfb5-4306-aed1-985e022030f6",
   "metadata": {},
   "outputs": [],
   "source": [
    "# 変数\n",
    "lang = \"Python\" # 変数に保持した値はプログラミングが終了するまで値を保持する"
   ]
  },
  {
   "cell_type": "code",
   "execution_count": 17,
   "id": "74cadf55-1106-49ef-a2bb-b772e398b25e",
   "metadata": {},
   "outputs": [
    {
     "name": "stdout",
     "output_type": "stream",
     "text": [
      "var\n",
      "Var\n"
     ]
    }
   ],
   "source": [
    "# 変数名は大文字と小文字が区別される\n",
    "var = \"var\"\n",
    "Var = \"Var\"\n",
    "print(var)\n",
    "print(Var)"
   ]
  },
  {
   "cell_type": "code",
   "execution_count": 18,
   "id": "2c75a064-53b7-4b77-8c3d-2b8a6af257d6",
   "metadata": {},
   "outputs": [],
   "source": [
    "# 変数名を2単語続ける場合は、アンダーバーで繋げる\n",
    "lowercase_underscore = \"lowercase_underscore\" # 推奨\n",
    "lowercaseunderscore = \"lowercase_underscore\" # 非推奨\n",
    "\n",
    "hello_word = \"Hello, World\" # 推奨\n",
    "helloword = \"Hello, World\" # 非推奨"
   ]
  },
  {
   "cell_type": "code",
   "execution_count": 22,
   "id": "f9652ff1-a213-4043-805b-836fd9437c50",
   "metadata": {},
   "outputs": [
    {
     "name": "stdout",
     "output_type": "stream",
     "text": [
      "221\n",
      "218\n",
      "660\n",
      "55.0\n",
      "0\n"
     ]
    }
   ],
   "source": [
    "x = 220 # 変数を使うと、同一の値を一気に変更できる\n",
    "print(x + 1)\n",
    "print(x - 2)\n",
    "print(x * 3)\n",
    "print(x / 4)\n",
    "print(x % 5)"
   ]
  },
  {
   "cell_type": "code",
   "execution_count": 23,
   "id": "54a929fb-dd0f-47ee-b439-23efd457da56",
   "metadata": {},
   "outputs": [],
   "source": [
    "# 定数\n",
    "# Pythonには定数を定義する構文がない為、定数とする場合は全て大文字で変数名を定義することが多い"
   ]
  },
  {
   "cell_type": "code",
   "execution_count": 31,
   "id": "a8bd8f30-95e8-4952-98b4-85f0a2125b4f",
   "metadata": {},
   "outputs": [
    {
     "data": {
      "text/plain": [
       "['False',\n",
       " 'None',\n",
       " 'True',\n",
       " 'and',\n",
       " 'as',\n",
       " 'assert',\n",
       " 'break',\n",
       " 'class',\n",
       " 'continue',\n",
       " 'def',\n",
       " 'del',\n",
       " 'elif',\n",
       " 'else',\n",
       " 'except',\n",
       " 'finally',\n",
       " 'for',\n",
       " 'from',\n",
       " 'global',\n",
       " 'if',\n",
       " 'import',\n",
       " 'in',\n",
       " 'is',\n",
       " 'lambda',\n",
       " 'nonlocal',\n",
       " 'not',\n",
       " 'or',\n",
       " 'pass',\n",
       " 'raise',\n",
       " 'return',\n",
       " 'try',\n",
       " 'while',\n",
       " 'with',\n",
       " 'yield']"
      ]
     },
     "execution_count": 31,
     "metadata": {},
     "output_type": "execute_result"
    }
   ],
   "source": [
    "# 予約語\n",
    "# 関数名や変数名に使用できない単語のこと\n",
    "[\"False\", \"None\", \"True\", \"and\", \"as\", \"assert\", \"break\", \"class\", \"continue\", \"def\", \"del\", \"elif\", \"else\", \"except\", \"finally\", \"for\", \"from\", \"global\", \"if\", \"import\", \"in\", \"is\", \"lambda\", \"nonlocal\", \"not\", \"or\", \"pass\", \"raise\", \"return\", \"try\", \"while\", \"with\", \"yield\"]"
   ]
  },
  {
   "cell_type": "code",
   "execution_count": 32,
   "id": "9b24b737-4813-456c-a194-efa078b1008e",
   "metadata": {},
   "outputs": [],
   "source": [
    "# 全体像\n",
    "# Bool型 = TrueとFalseの２種類の値を取るデータ型\n",
    "# コンテナ型 = 複数のオブジェクトをひとまとめにできる型(=メモリ上にデータを格納する容器)\n",
    "# シーケンス型 = リスト，文字列のような順番を持った複数データを扱う型(Pythonではリスト，タプル，レンジ，バイナリシーケンス，文字列などがある)\n",
    "# 集合型 = リスト型と似ているが、重複した値を格納できない，要素の順序を保持しない等の特徴がある。集合演算や種類を管理するのに適している\n",
    "# 辞書型 = 特定の要素を検索したり、追加や削除も簡単にできる"
   ]
  },
  {
   "cell_type": "code",
   "execution_count": null,
   "id": "e614e350-842a-4dc8-b875-59192941ecba",
   "metadata": {},
   "outputs": [],
   "source": []
  }
 ],
 "metadata": {
  "kernelspec": {
   "display_name": "Python 3 (ipykernel)",
   "language": "python",
   "name": "python3"
  },
  "language_info": {
   "codemirror_mode": {
    "name": "ipython",
    "version": 3
   },
   "file_extension": ".py",
   "mimetype": "text/x-python",
   "name": "python",
   "nbconvert_exporter": "python",
   "pygments_lexer": "ipython3",
   "version": "3.11.5"
  }
 },
 "nbformat": 4,
 "nbformat_minor": 5
}
