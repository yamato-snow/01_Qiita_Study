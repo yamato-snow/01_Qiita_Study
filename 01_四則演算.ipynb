{
 "cells": [
  {
   "cell_type": "markdown",
   "id": "14cb216f-2159-4b83-a7f7-89c1c174564e",
   "metadata": {},
   "source": [
    "## コメント\n",
    "\n",
    "https://qiita.com/AI_Academy/items/b97b2178b4d10abe0adb\n",
    "\n",
    "https://qiita.com/AI_Academy/items/b97b2178b4d10abe0adb#%E6%96%87%E5%AD%97%E5%88%97%E3%81%A8%E3%81%AF\n",
    "\n",
    "https://qiita.com/AI_Academy/items/b97b2178b4d10abe0adb#%E5%85%A8%E4%BD%93%E5%83%8F\n",
    "\n",
    "まで\n",
    "\n",
    "コードの中にはコメントを書くことが出来ます。\n",
    "\n",
    "行頭に「#」を書くことで行末までコメントとみなされます。\n",
    "\n",
    "コメントを書くことで、コードが実行される時に全て無視されるので、コードに関するメモなどとして使うことが出来ます。\n",
    "\n",
    "業務では、複数人でアプリケーションを作ることがほとんどです。\n",
    "\n",
    "そのため、常日頃から他人がコードを読むときに読みやすいようにコメントを残しておくことは大事です。\n",
    "\n",
    "なるべく、プログラム内には他人が読みやすいように、コメントを書く習慣をつけることをオススメ致します。\n"
   ]
  },
  {
   "cell_type": "code",
   "execution_count": 1,
   "id": "f718e591-f209-43ff-be0a-a464ec7ac743",
   "metadata": {},
   "outputs": [
    {
     "name": "stdout",
     "output_type": "stream",
     "text": [
      "Hello, Python\n"
     ]
    }
   ],
   "source": [
    "# この行はコメントです。この行は実行されません。\n",
    "print(\"Hello, Python\") "
   ]
  },
  {
   "cell_type": "markdown",
   "id": "d6ec88c0-5277-421a-ab5e-f1214c692063",
   "metadata": {},
   "source": [
    "## 文字列とは\n",
    "文字列はダブルクォーテーション「\"」または、シングルクォーテーション「'」で囲まれた文字は、プログラミングの世界で「文字列」と呼びます。\n",
    "\n",
    "文字列はシングルクォーテーション「'」、またはダブルクォーテーション「\"」で囲む必要があります。\n",
    "\n",
    "Python3ではどちらで囲んでも出力結果は同じです。\n",
    "\n",
    "また、文字列を出力する際に、「'」、「\"」で囲んでいない場合、コードが動かなくなります。\n",
    "\n",
    "余力がある方は、エラー(SyntaxErrror)を出して、コードが動かないようにしてみてください。\n",
    "\n",
    "ここでは、「'」や「\"」で囲まない場合にエラーが出て、動かないことを確認していただければより理解出来るかと思います。\n",
    "\n",
    "\n",
    "・シングルクォーテーション「'」、またはダブルクォーテーション「\"」の違い、使い分け\n",
    "\n",
    "・エラーコード（例えば、SyntaxError)の種類について"
   ]
  },
  {
   "cell_type": "markdown",
   "id": "e3d3cf95-e84d-4cd5-bf8d-e96ab93428e0",
   "metadata": {},
   "source": [
    "## 数値\n",
    "プログラミングでは、「数値」を扱うことも出来ます。\n",
    "\n",
    "文字列と違い、クォーテーションで囲む必要がありません。\n",
    "\n",
    "数字をクォーテーション及び、ダブルクォーテーションで囲むと文字列になるので注意です。\n",
    "\n",
    "詳しくは次章、「変数とデータ型」で詳しく説明致します。\n",
    "\n",
    "また、「+」、「-」、「/」、「%」のような記号を使うことで四則演算ができるようになります。\n",
    "\n",
    "四則演算が出来るということは、電卓と同様のプログラムを作ることが可能になります。"
   ]
  },
  {
   "cell_type": "code",
   "execution_count": 3,
   "id": "e61e9a8c-8bc1-4466-a4e9-f59d8a34f12b",
   "metadata": {},
   "outputs": [
    {
     "name": "stdout",
     "output_type": "stream",
     "text": [
      "10\n",
      "15\n",
      "3\n",
      "5.0\n",
      "5\n",
      "20\n",
      "100\n",
      "0\n",
      "5\n"
     ]
    }
   ],
   "source": [
    "print(10) # 数値はクォーテーションで囲む必要はありません。\n",
    "print(10 + 5) # 足している\n",
    "print(5 - 2)  # 引いている\n",
    "print(10 / 2)   # 割っているfloatになる\n",
    "print(10 // 2)   # 割っている(切り捨て)intになる\n",
    "print(10 * 2)   # 掛けている\n",
    "print(10 ** 2)   # 2乗\n",
    "print(10 % 5)   # あまりを求めている\n",
    "\n",
    "# 優先順位の変更\n",
    "# 通常は +と-よりも*や/の方が優先度が高いですが、()で囲むことで優先度を変えることができます。\n",
    "print((20 - 5) // 3)  # 5 "
   ]
  },
  {
   "cell_type": "markdown",
   "id": "672ad4ca-bc8b-42e6-a841-52c85393b834",
   "metadata": {},
   "source": [
    "## 文字列と数値の違い\n",
    "\n",
    "さて、以下のコードを実行するとどうなるでしょう。"
   ]
  },
  {
   "cell_type": "code",
   "execution_count": 5,
   "id": "91c13389-eb14-408d-a105-afeac1d5c813",
   "metadata": {},
   "outputs": [
    {
     "name": "stdout",
     "output_type": "stream",
     "text": [
      "15\n",
      "10 + 5\n"
     ]
    }
   ],
   "source": [
    "print(10 + 5) # 足し算できる\n",
    "print('10 + 5') # 文字列として出力する"
   ]
  },
  {
   "cell_type": "markdown",
   "id": "fa2c4909-7b24-4763-befa-87c4b3fb1d6a",
   "metadata": {},
   "source": [
    "1行目のprint()では、15が出力され、2では10 + 5が出力されたでしょうか？\n",
    "\n",
    "これは1では数値の足し算の結果がかえってきているのに対して、2では「10 + 5」という文字列になっています。\n",
    "\n",
    "「'」や「\"」で囲うと、文字列と解釈されそのまま「10 + 5」が出力されました。\n",
    "\n",
    "プログラミングでは、文字列と数値は全く異なるものとして扱われます。\n",
    "\n",
    "詳しくは次章、「変数とデータ型」で説明します。\n",
    "\n",
    "ここでは、数字に対してダブルクォーテーション及びシングルクォーテーションで囲むと、文字列として扱われるということを知っていただければ問題ありません。"
   ]
  },
  {
   "cell_type": "markdown",
   "id": "6cded937-69ee-4d4d-be45-98d9ff03b598",
   "metadata": {},
   "source": [
    "## 変数\n",
    "\n",
    "変数とは値に付ける名札です。\n",
    "\n",
    "ひとつの値に複数の名前を付けたり（複数の変数からひとつの値を参照）できます。\n",
    "\n",
    "また、変数は名前を付けて使います。この名前を変数名と言います。"
   ]
  },
  {
   "cell_type": "code",
   "execution_count": 6,
   "id": "0a7a8578-ce18-43cc-b961-b7784387bebf",
   "metadata": {},
   "outputs": [
    {
     "data": {
      "text/plain": [
       "'Python'"
      ]
     },
     "execution_count": 6,
     "metadata": {},
     "output_type": "execute_result"
    }
   ],
   "source": [
    "lang = \"Python\" # 変数langに文字列Pythonを代入 \n",
    "lang"
   ]
  },
  {
   "cell_type": "markdown",
   "id": "d89db51b-de09-444f-9e47-0f9ad5d9e600",
   "metadata": {},
   "source": [
    "変数の名前（lang）は自由に決める事ができます。\n",
    "\n",
    "代入という言葉が出てきましたが、代入とは左辺の変数に右辺の値を変数に入れることを意味します。\n",
    "\n",
    "またPythonは、変数名は大文字と小文字は区別されます。\n",
    "\n",
    "そして、変数に保持した値は、プログラムが終了するまで値を保持します。\n",
    "\n",
    "プログラムを終了することでメモリ上のデータも消去されるため、データを残しておきたい場合は、データベースやファイルにして保存する必要があります。"
   ]
  },
  {
   "cell_type": "code",
   "execution_count": 14,
   "id": "1b9d63f3-bb4c-4ced-9b8a-cf8153108a0a",
   "metadata": {},
   "outputs": [
    {
     "name": "stdout",
     "output_type": "stream",
     "text": [
      "var\n",
      "Var\n",
      "lowercase_underscore\n",
      "lowercase_underscore\n",
      "Hello, World\n",
      "Hello, World\n"
     ]
    }
   ],
   "source": [
    "var = \"var\"\n",
    "Var = \"Var\"\n",
    "print(var) # varと出力される\n",
    "print(Var) # Varと出力される\n",
    "\n",
    "# Pythonで変数名をつける際に２単語続ける場合\n",
    "lowercase_underscore = \"lowercase_underscore\" # 推奨\n",
    "lowercaseunderscore = \"lowercase_underscore\"  # 非推奨\n",
    "\n",
    "print(lowercase_underscore)\n",
    "print(lowercaseunderscore)\n",
    "\n",
    "hello_world = \"Hello, World\" # 推奨\n",
    "helloworld  = \"Hello, World\" # 非推奨\n",
    "\n",
    "print(hello_world)\n",
    "print(helloworld)\n",
    "\n",
    "\n",
    "# 上記のように変数名はすべて小文字で2つ以上の単語をつなげる場合は下線(_)を使うようにすることが推奨されています。\n",
    "# また非推奨の書き方で、変数を定義することもできます。しかしプログラムにはエラーは出ませんが、推奨されている方法を使いましょう。"
   ]
  },
  {
   "cell_type": "markdown",
   "id": "a3a40154-fb40-488b-9239-7876513642d0",
   "metadata": {},
   "source": [
    "## 変数を使わないプログラムと使ったプログラムの比較\n",
    "\n",
    "変数を使わないプログラムと使ったプログラムを比べてみてください。\n",
    "\n",
    "ここでは、変数がどれだけ便利なものなのかを知って頂きたいと思います。\n",
    "\n",
    "まずは、変数を使わない場合のプログラムを見てみましょう。"
   ]
  },
  {
   "cell_type": "code",
   "execution_count": 17,
   "id": "ee2a3f71-48b8-4c91-9225-6b3ebb74e350",
   "metadata": {},
   "outputs": [
    {
     "name": "stdout",
     "output_type": "stream",
     "text": [
      "16\n",
      "13\n",
      "45\n",
      "3375\n",
      "3.75\n",
      "3\n",
      "0\n"
     ]
    }
   ],
   "source": [
    "# 変数を使わないプログラムと使ったプログラムの比較\n",
    "print(15 + 1)\n",
    "print(15 - 2)\n",
    "print(15 * 3)\n",
    "print(15 ** 3)\n",
    "print(15 / 4)\n",
    "print(15 // 4)\n",
    "print(15 % 5)"
   ]
  },
  {
   "cell_type": "markdown",
   "id": "622920b3-3c53-48c8-8912-c3e0ea6cb8d7",
   "metadata": {},
   "source": [
    "では15を220に書き換えてください。\n",
    "\n",
    "もしこの場合、15と書かれた5つのprintの部分を全て220に書き換える必要が出てきます。\n",
    "\n",
    "5行だけならまだそこまで大変ではありませんが、例えば100行、1000行だとどうでしょうか？\n",
    "\n",
    "1つ1つ変更していくのはかなり骨の折れる作業になります。\n",
    "\n",
    "このような時こそ、変数が役立ちます。\n",
    "\n",
    "もしも最初から変数xというものが定義されていたら、\n",
    "\n",
    "x = 15というのを、x = 220に書き換えるだけで済みます。"
   ]
  },
  {
   "cell_type": "code",
   "execution_count": 19,
   "id": "da89829c-e5fa-4c2d-909c-926268005abe",
   "metadata": {},
   "outputs": [
    {
     "name": "stdout",
     "output_type": "stream",
     "text": [
      "221\n",
      "218\n",
      "660\n",
      "10648000\n",
      "55.0\n",
      "55\n",
      "0\n"
     ]
    }
   ],
   "source": [
    "x = 220\n",
    "print(x + 1)\n",
    "print(x - 2)\n",
    "print(x * 3)\n",
    "print(x ** 3)\n",
    "print(x / 4)\n",
    "print(x // 4)\n",
    "print(x % 5)"
   ]
  },
  {
   "cell_type": "markdown",
   "id": "c0d483b1-dfb6-4280-8aae-0e6a0147e7c6",
   "metadata": {},
   "source": [
    "変数を使うことで、先ほどは5行分の修正が必要だったものが、1箇所変えただけで終わります。\n",
    "\n",
    "変数は便利ですので、是非使っていきましょう。"
   ]
  },
  {
   "cell_type": "markdown",
   "id": "be89ff3c-c25f-4ce5-a455-c367a57b49b0",
   "metadata": {},
   "source": [
    "## 定数\n",
    "\n",
    "定数は値が変えられない値です。\n",
    "\n",
    "変数では値を後から変えられますが、定数は変えられません。\n",
    "\n",
    "ですが、Pythonには定数を定義する構文がないため、定数的な意図を持って定義する場合には、すべて大文字で変数名を定義することが多いです。\n",
    "\n",
    "大文字の変数に出会った場合には、値を書き換えないようにしたほうが無難です。\n",
    "\n",
    "Pythonの定数に関しては、Pythonのコーディング規約PEP8(公式)などにも説明されております。"
   ]
  },
  {
   "cell_type": "markdown",
   "id": "ee1e6693-eb9f-4af7-8383-4c4b178d8c3d",
   "metadata": {},
   "source": [
    "## 予約語\n",
    "\n",
    "関数名や変数名に使用できない単語を予約語と呼びます。\n",
    "\n",
    "予約語を用いてしまうと、構文エラー（SyntaxError)が起こってしまいます。\n",
    "\n",
    "Python3系では、おおよそ30個ほどあります。\n",
    "\n",
    "以下は全てPython3.6系での予約語ですので、それらは変数名などに使用できません。\n",
    "\n",
    "['False', 'None', 'True', 'and', 'as', 'assert', 'break', 'class', 'continue', 'def', 'del', 'elif', 'else', 'except', 'finally', 'for', 'from', 'global', 'if', 'import', 'in', 'is', 'lambda', 'nonlocal', 'not', 'or', 'pass', 'raise', 'return', 'try', 'while', 'with', 'yield']"
   ]
  },
  {
   "cell_type": "markdown",
   "id": "be73832a-8cae-4d73-9fe2-05675ad7baed",
   "metadata": {},
   "source": [
    "### 1. `False`, `True`, `None`\n",
    "- `False`, `True`: ブーリアン（真偽）値を表す。\n",
    "- `None`: 何もない、または未定義を意味する。\n",
    "\n",
    "### 2. `and`, `or`, `not`\n",
    "- 論理演算子。`and`は両方真であれば真、`or`は一方が真であれば真、`not`は真偽値を反転。\n",
    "\n",
    "### 3. `as`\n",
    "- エイリアス（別名）を作るため、主に`import`と一緒に使う。\n",
    "\n",
    "### 4. `assert`\n",
    "- 条件がTrueでないとエラーを出す。デバッグ用。\n",
    "\n",
    "### 5. `break`, `continue`\n",
    "- `break`: ループを抜け出す。\n",
    "- `continue`: ループの次のイテレーションに移動。\n",
    "\n",
    "### 6. `class`\n",
    "- クラスを定義する。\n",
    "\n",
    "### 7. `def`\n",
    "- 関数を定義する。\n",
    "\n",
    "### 8. `del`\n",
    "- オブジェクトを削除する。\n",
    "\n",
    "### 9. `elif`, `else`, `if`\n",
    "- 条件分岐を作る。\n",
    "\n",
    "### 10. `except`, `finally`, `raise`, `try`\n",
    "- 例外処理。\n",
    "\n",
    "### 11. `for`, `while`\n",
    "- ループ処理。\n",
    "\n",
    "### 12. `from`, `import`\n",
    "- モジュールやパッケージをインポート。\n",
    "\n",
    "### 13. `global`, `nonlocal`\n",
    "- グローバル変数、非ローカル変数を扱う。\n",
    "\n",
    "### 14. `in`, `is`\n",
    "- `in`: メンバーシップテスト。\n",
    "- `is`: オブジェクト同一性のテスト。\n",
    "\n",
    "### 15. `lambda`\n",
    "- 無名関数を作る。\n",
    "\n",
    "### 16. `pass`\n",
    "- 何もしない。プレースホルダーとして使う。\n",
    "\n",
    "### 17. `return`\n",
    "- 関数から値を返す。\n",
    "\n",
    "### 18. `with`\n",
    "- リソースの管理（ファイルなど）。\n",
    "\n",
    "### 19. `yield`\n",
    "- ジェネレータ関数で値を返す。\n",
    "\n",
    "以上がPythonの予約語とその基本的な使い方です。これらの単語は変数名や関数名には使えないので注意してください。"
   ]
  },
  {
   "cell_type": "code",
   "execution_count": null,
   "id": "01d3186d-89fd-4399-8c79-09de86654c65",
   "metadata": {},
   "outputs": [],
   "source": []
  }
 ],
 "metadata": {
  "kernelspec": {
   "display_name": "Python 3 (ipykernel)",
   "language": "python",
   "name": "python3"
  },
  "language_info": {
   "codemirror_mode": {
    "name": "ipython",
    "version": 3
   },
   "file_extension": ".py",
   "mimetype": "text/x-python",
   "name": "python",
   "nbconvert_exporter": "python",
   "pygments_lexer": "ipython3",
   "version": "3.11.5"
  }
 },
 "nbformat": 4,
 "nbformat_minor": 5
}
