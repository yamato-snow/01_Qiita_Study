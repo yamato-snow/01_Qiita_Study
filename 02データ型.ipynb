{
 "cells": [
  {
   "cell_type": "code",
   "execution_count": 5,
   "id": "320ace9e-01ec-4e91-9a4a-cc28d1299b38",
   "metadata": {},
   "outputs": [
    {
     "name": "stdout",
     "output_type": "stream",
     "text": [
      "5\n",
      "python\n"
     ]
    }
   ],
   "source": [
    "x = 5\n",
    "print(x)#5が出力される\n",
    "x = \"python\"\n",
    "print(x)#Pythonが出力される"
   ]
  },
  {
   "cell_type": "code",
   "execution_count": 9,
   "id": "f6e00873-ce7e-4aa8-ade4-a4168ea2bada",
   "metadata": {},
   "outputs": [
    {
     "name": "stdout",
     "output_type": "stream",
     "text": [
      "Hello World\n",
      "Hello World\n",
      "Hello World\n",
      "Hello Python\n"
     ]
    }
   ],
   "source": [
    "# 1) シングルクオテーション\n",
    "str1 = 'Hello World'\n",
    "\n",
    "# 2) ダブルクオテーション\n",
    "str2 = \"Hello World\"\n",
    "\n",
    "# 3) トリプル・ダブルクオテーション\n",
    "str3 = \"\"\"Hello World\n",
    "Hello Python\"\"\"\n",
    "\n",
    "print(str1)\n",
    "print(str2)\n",
    "print(str3)"
   ]
  },
  {
   "cell_type": "code",
   "execution_count": 11,
   "id": "7108b6d8-e3d1-4dab-a0f2-9ff435cf6e78",
   "metadata": {},
   "outputs": [
    {
     "name": "stdout",
     "output_type": "stream",
     "text": [
      "helloworld\n"
     ]
    }
   ],
   "source": [
    "#結合\n",
    "a = \"hello\"\n",
    "b =  \"world\"\n",
    "print(a+b)#hello world"
   ]
  },
  {
   "cell_type": "code",
   "execution_count": 12,
   "id": "dde1b770-d6f8-4d30-9931-a72ad6136346",
   "metadata": {},
   "outputs": [
    {
     "name": "stdout",
     "output_type": "stream",
     "text": [
      "hellohellohello\n"
     ]
    }
   ],
   "source": [
    "#反復\n",
    "a = \"hello\"\n",
    "print(a*3)"
   ]
  },
  {
   "cell_type": "code",
   "execution_count": 29,
   "id": "aac17bc3-dc29-48c1-8302-f0679c694f5d",
   "metadata": {},
   "outputs": [
    {
     "ename": "TypeError",
     "evalue": "'int' object is not callable",
     "output_type": "error",
     "traceback": [
      "\u001b[1;31m---------------------------------------------------------------------------\u001b[0m",
      "\u001b[1;31mTypeError\u001b[0m                                 Traceback (most recent call last)",
      "Cell \u001b[1;32mIn[29], line 1\u001b[0m\n\u001b[1;32m----> 1\u001b[0m \u001b[38;5;28;43mprint\u001b[39;49m\u001b[43m(\u001b[49m\u001b[38;5;124;43m\"\u001b[39;49m\u001b[38;5;124;43mhello\u001b[39;49m\u001b[38;5;124;43m\"\u001b[39;49m\u001b[43m \u001b[49m\u001b[38;5;241;43m+\u001b[39;49m\u001b[43m \u001b[49m\u001b[38;5;124;43m\"\u001b[39;49m\u001b[38;5;124;43mWorld\u001b[39;49m\u001b[38;5;124;43m\"\u001b[39;49m\u001b[43m)\u001b[49m\n\u001b[0;32m      2\u001b[0m name \u001b[38;5;241m=\u001b[39m \u001b[38;5;124m\"\u001b[39m\u001b[38;5;124mTom\u001b[39m\u001b[38;5;124m\"\u001b[39m\n\u001b[0;32m      3\u001b[0m \u001b[38;5;28mprint\u001b[39m(\u001b[38;5;124m\"\u001b[39m\u001b[38;5;124mMy name is\u001b[39m\u001b[38;5;124m\"\u001b[39m \u001b[38;5;241m+\u001b[39m name)\n",
      "\u001b[1;31mTypeError\u001b[0m: 'int' object is not callable"
     ]
    }
   ],
   "source": [
    "print(\"hello\" + \"World\")\n",
    "name = \"Tom\"\n",
    "print(\"My name is\" + name)\n",
    "\n",
    "age = 24\n",
    "#以下は、データ型の異なる文字列型えお数値型を連結してエラーになっているプログラムです。\n",
    "\n",
    "print(\"My name is\" + name +\"My age is\" + age)#この行はエラーになります。\n",
    "# TypeError: Can't convert 'int' object to str implicitly"
   ]
  },
  {
   "cell_type": "code",
   "execution_count": 14,
   "id": "ce5cf86b-d937-42ce-8d18-c4ea2ddd6581",
   "metadata": {},
   "outputs": [
    {
     "ename": "TypeError",
     "evalue": "'int' object is not callable",
     "output_type": "error",
     "traceback": [
      "\u001b[1;31m---------------------------------------------------------------------------\u001b[0m",
      "\u001b[1;31mTypeError\u001b[0m                                 Traceback (most recent call last)",
      "Cell \u001b[1;32mIn[14], line 6\u001b[0m\n\u001b[0;32m      4\u001b[0m name \u001b[38;5;241m=\u001b[39m \u001b[38;5;124m\"\u001b[39m\u001b[38;5;124mTom\u001b[39m\u001b[38;5;124m\"\u001b[39m\n\u001b[0;32m      5\u001b[0m age \u001b[38;5;241m=\u001b[39m \u001b[38;5;241m24\u001b[39m\n\u001b[1;32m----> 6\u001b[0m \u001b[38;5;28;43mprint\u001b[39;49m\u001b[43m(\u001b[49m\u001b[43mage\u001b[49m\u001b[43m)\u001b[49m\n\u001b[0;32m      8\u001b[0m \u001b[38;5;66;03m#print(\"My name is\" + name +\"My age is\" + str(age))\u001b[39;00m\n\u001b[0;32m      9\u001b[0m \n\u001b[0;32m     10\u001b[0m \u001b[38;5;66;03m#先ほど、数値型を文字列型の変換しましたが、反対に文字列型に変換することもできます。\u001b[39;00m\n\u001b[1;32m   (...)\u001b[0m\n\u001b[0;32m     16\u001b[0m \u001b[38;5;66;03m#total_print = int(string_print) + print\u001b[39;00m\n\u001b[0;32m     17\u001b[0m \u001b[38;5;66;03m#print(total_print)\u001b[39;00m\n",
      "\u001b[1;31mTypeError\u001b[0m: 'int' object is not callable"
     ]
    }
   ],
   "source": [
    "del name\n",
    "del age\n",
    "\n",
    "name = \"Tom\"\n",
    "age = 24\n",
    "print(age)\n",
    "\n",
    "#print(\"My name is\" + name +\"My age is\" + str(age))\n",
    "\n",
    "#先ほど、数値型を文字列型の変換しましたが、反対に文字列型に変換することもできます。\n",
    "#その場合「int」を用います\n",
    "\n",
    "#string_price = \"1000\"\n",
    "#print = 500\n",
    "\n",
    "#total_print = int(string_print) + print\n",
    "#print(total_print)"
   ]
  },
  {
   "cell_type": "code",
   "execution_count": null,
   "id": "c7691e5f-5636-4ac0-924b-b67af7dad50d",
   "metadata": {},
   "outputs": [],
   "source": []
  },
  {
   "cell_type": "code",
   "execution_count": null,
   "id": "02b86487-0357-4e38-9fe3-3f293354be14",
   "metadata": {},
   "outputs": [],
   "source": []
  },
  {
   "cell_type": "code",
   "execution_count": null,
   "id": "bdba36c1-7f66-49a2-a44e-b43f4c8418fe",
   "metadata": {},
   "outputs": [],
   "source": []
  }
 ],
 "metadata": {
  "kernelspec": {
   "display_name": "Python 3 (ipykernel)",
   "language": "python",
   "name": "python3"
  },
  "language_info": {
   "codemirror_mode": {
    "name": "ipython",
    "version": 3
   },
   "file_extension": ".py",
   "mimetype": "text/x-python",
   "name": "python",
   "nbconvert_exporter": "python",
   "pygments_lexer": "ipython3",
   "version": "3.11.5"
  }
 },
 "nbformat": 4,
 "nbformat_minor": 5
}
