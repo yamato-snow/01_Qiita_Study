{
 "cells": [
  {
   "cell_type": "code",
   "execution_count": 1,
   "id": "78d002a4-9975-43ad-9181-b03f5a4f2177",
   "metadata": {},
   "outputs": [],
   "source": [
    "# ライブラリ\n",
    "# ある程度まとまった汎用性の高い処理（関数・クラス・その他）を他のプログラムから読み込むことで、使うことを出来るようにしたファイル\n",
    "# Pythonでは、基本的にライブラリという表記があったら、下記で説明するモジュールのことだと思ってOK"
   ]
  },
  {
   "cell_type": "code",
   "execution_count": 2,
   "id": "8c387afd-5f34-4e6b-a49d-735acb84e975",
   "metadata": {},
   "outputs": [],
   "source": [
    "# モジュールとパッケージ\n",
    "# モジュール：Pythonのコードをまとめたファイルであり、他のプログラムから再利用できるようにしたファイルのこと(=ライブラリ)\n",
    "# パッケージ:__init__.pyと複数のモジュールがディレクトリに集まったもの。__init__.pyはパッケージディレクトリに置かれ、そのパッケージをインポートした際に実行される"
   ]
  },
  {
   "cell_type": "code",
   "execution_count": 4,
   "id": "bada901a-af32-4cd9-95b9-d84d3daecd67",
   "metadata": {},
   "outputs": [
    {
     "data": {
      "text/plain": [
       "0.5403023058681398"
      ]
     },
     "execution_count": 4,
     "metadata": {},
     "output_type": "execute_result"
    }
   ],
   "source": [
    "# モジュールのインポート\n",
    "# 『import 読み込みたいモジュール(他のPythonファイル名から拡張子の.pyを取り除いたもの)』で読み込む\n",
    "# 標準モジュール：Pythonをインストールした段階で利用できるモジュール(sysやosなど)\n",
    "# 複数のモジュールをインポートする場合、「,」でモジュール名を区切ってインポートできる\n",
    "import sys, os, math\n",
    "math.cos(1) # 例えばmathモジュールのcos関数を利用したい場合は、『モジュール名.関数名(引数）』で利用できる"
   ]
  },
  {
   "cell_type": "code",
   "execution_count": 16,
   "id": "8cbb2786-7d92-4665-bb4a-a0b18ca29737",
   "metadata": {},
   "outputs": [
    {
     "ename": "SyntaxError",
     "evalue": "invalid syntax (1503942987.py, line 16)",
     "output_type": "error",
     "traceback": [
      "\u001b[0;36m  Cell \u001b[0;32mIn[16], line 16\u001b[0;36m\u001b[0m\n\u001b[0;31m    python main.py\u001b[0m\n\u001b[0m           ^\u001b[0m\n\u001b[0;31mSyntaxError\u001b[0m\u001b[0;31m:\u001b[0m invalid syntax\n"
     ]
    }
   ],
   "source": [
    "# 独自で作成したモジュールをインポート\n",
    "# VSCodeで『main.py』と『fortune.py』のファイルを作成し、ターミナルで実行\n",
    "\n",
    "# main.py\n",
    "import fortune\n",
    "result = fortune.get_fortune()\n",
    "print(\"今日の運勢は... \", result)\n",
    "\n",
    "# fortune.py\n",
    "def get_fortune():\n",
    "    import random # randamではなく、randomなので注意です\n",
    "    results = ['大吉', '吉', '小吉', '凶', '大凶', '末吉']\n",
    "    return random.choice(results)\n",
    "\n",
    "# 実行\n",
    "python main.py"
   ]
  },
  {
   "cell_type": "code",
   "execution_count": 6,
   "id": "7d0a6c77-11f2-4e53-ac6a-e14a59725f83",
   "metadata": {},
   "outputs": [
    {
     "data": {
      "text/plain": [
       "0.5403023058681398"
      ]
     },
     "execution_count": 6,
     "metadata": {},
     "output_type": "execute_result"
    }
   ],
   "source": [
    "# fromとimport\n",
    "# 『from ファイル名(モジュール名) import *』で、ファイル名の指定なしに呼び出し可\n",
    "# 『from モジュール名 import 関数名, 関数名, …』で、モジュール名の記述を省略して関数名だけで使用できる\n",
    "from math import cos, sin, tan\n",
    "cos(1)"
   ]
  },
  {
   "cell_type": "code",
   "execution_count": 11,
   "id": "b68b4118-8108-40da-8306-4366e8c49bf6",
   "metadata": {},
   "outputs": [],
   "source": [
    "def get_fortune():\n",
    "    import random\n",
    "    results = ['大吉', '吉', '小吉', '凶', '大凶', '末吉']\n",
    "    return random.choice(results)\n",
    "\n",
    "# 上記にfromとimportを使うと、下記のように書ける\n",
    "\n",
    "def get_fortune():\n",
    "    from random import choice\n",
    "    results = ['大吉', '吉', '小吉', '凶', '大凶', '末吉']\n",
    "    return choice(results)"
   ]
  },
  {
   "cell_type": "code",
   "execution_count": 12,
   "id": "16d972eb-f218-4dc8-9cd2-6540a986cf01",
   "metadata": {},
   "outputs": [
    {
     "data": {
      "text/plain": [
       "0.8414709848078965"
      ]
     },
     "execution_count": 12,
     "metadata": {},
     "output_type": "execute_result"
    }
   ],
   "source": [
    "# 名前を指定せずにモジュール内の全てのメンバ(関数、定数、クラスなどのこと)をインポートする場合は、以下のように指定\n",
    "from math import *\n",
    "cos(1)\n",
    "sin(1)"
   ]
  },
  {
   "cell_type": "code",
   "execution_count": 14,
   "id": "08e44786-e352-4aae-8d68-0ee06e2d43cd",
   "metadata": {},
   "outputs": [
    {
     "name": "stdout",
     "output_type": "stream",
     "text": [
      "吉\n"
     ]
    }
   ],
   "source": [
    "# fortune.pyでrandomをimportしているのは関数内だが、関数外でもインポートできる\n",
    "from random import *\n",
    "\n",
    "def get_fortune():\n",
    "    results = ['大吉', '吉', '小吉', '凶', '大凶', '末吉']\n",
    "    return choice(results)\n",
    "\n",
    "print(get_fortune())"
   ]
  },
  {
   "cell_type": "code",
   "execution_count": 15,
   "id": "e319c964-8e0a-4f7a-8bfd-f2ac7e0fd3d0",
   "metadata": {},
   "outputs": [
    {
     "name": "stdout",
     "output_type": "stream",
     "text": [
      "今日の運勢は… 大吉\n"
     ]
    }
   ],
   "source": [
    "# 別名でのモジュールのインポート\n",
    "# asを用いることで、別名をつけることができる\n",
    "import fortune as ft\n",
    "\n",
    "result = ft.get_fortune()\n",
    "print(\"今日の運勢は…\", result)"
   ]
  },
  {
   "cell_type": "code",
   "execution_count": 17,
   "id": "774d8de2-8d48-4325-91c4-204f905e2e92",
   "metadata": {},
   "outputs": [
    {
     "name": "stdout",
     "output_type": "stream",
     "text": [
      "今日の運勢は… 大凶\n"
     ]
    }
   ],
   "source": [
    "# 必要なものだけをインポート\n",
    "# *だと全てをインポートするが、必要な部分だけをインポートすることも可\n",
    "from fortune import get_fortune\n",
    "\n",
    "result = get_fortune()\n",
    "print(\"今日の運勢は…\", result)"
   ]
  },
  {
   "cell_type": "code",
   "execution_count": 18,
   "id": "174c7b1c-6338-47bb-8a01-78d94acb1c0c",
   "metadata": {},
   "outputs": [
    {
     "name": "stdout",
     "output_type": "stream",
     "text": [
      "今日の運勢は… 大吉\n"
     ]
    }
   ],
   "source": [
    "# 別名をつけ、かつget_fortuneだけインポートする\n",
    "from fortune import get_fortune as gf\n",
    "\n",
    "result = gf()\n",
    "print(\"今日の運勢は…\", result)"
   ]
  },
  {
   "cell_type": "code",
   "execution_count": 19,
   "id": "ef9a466f-8600-4efd-b327-284fd3a54608",
   "metadata": {},
   "outputs": [
    {
     "name": "stdout",
     "output_type": "stream",
     "text": [
      "/Users/yoshino/.pyenv/versions/3.11.5/lib/python3.11/os.py\n"
     ]
    }
   ],
   "source": [
    "# ライブラリ・モジュールの場所を調べる\n",
    "# ライブラリの場所は、モジュールの file アトリビュートか path アトリビュートで調べることができる\n",
    "import os\n",
    "print( os.__file__ )"
   ]
  },
  {
   "cell_type": "code",
   "execution_count": null,
   "id": "e0b4cf52-9422-4ada-85b1-09e08c1e9bf9",
   "metadata": {},
   "outputs": [],
   "source": []
  }
 ],
 "metadata": {
  "kernelspec": {
   "display_name": "Python 3 (ipykernel)",
   "language": "python",
   "name": "python3"
  },
  "language_info": {
   "codemirror_mode": {
    "name": "ipython",
    "version": 3
   },
   "file_extension": ".py",
   "mimetype": "text/x-python",
   "name": "python",
   "nbconvert_exporter": "python",
   "pygments_lexer": "ipython3",
   "version": "3.11.5"
  }
 },
 "nbformat": 4,
 "nbformat_minor": 5
}
