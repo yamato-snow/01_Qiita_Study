{
 "cells": [
  {
   "cell_type": "markdown",
   "id": "4fbb132b-5127-4e0b-8458-c40ea42b8858",
   "metadata": {},
   "source": [
    "# ライブラリとモジュール"
   ]
  },
  {
   "cell_type": "markdown",
   "id": "226b17e2-a4f5-45f0-ab5c-064b373321d0",
   "metadata": {},
   "source": [
    "# おみくじアプリを作る前に\n",
    "\n",
    "お好きなテキストエディタとターミナル(コマンドプロンプト)を元に、自作したモジュールを読み込み利用してみます。\n",
    "\n",
    "そのため、Jupyter NotebookやGoogle Colabの場合、この章に書かれているプログラムだと動作しないため、次のようにして試して見てください。"
   ]
  },
  {
   "cell_type": "markdown",
   "id": "47e378ee-7671-45bb-9953-487e19e8fc16",
   "metadata": {},
   "source": [
    "* * *"
   ]
  },
  {
   "cell_type": "markdown",
   "id": "59cab1c7-6eba-45d9-afb3-c210147c21ff",
   "metadata": {},
   "source": [
    "また、下記リンクからColab上で動作させる方法もあげていますので確認してみてください。\n",
    "\n",
    "[YouTube動画 / Colabにて動作させる](https://youtu.be/gJS1krnczxE)"
   ]
  },
  {
   "cell_type": "markdown",
   "id": "dd961245-16cf-4c0e-a1e3-99dd60ec2106",
   "metadata": {},
   "source": [
    "### 1) お手元のPCでfortune.pyを作成。\n",
    "\n",
    "次に、Colabの左メニュー(>を押します)から、目次、コードスニペット、ファイルの3つが表示され、その中のファイルタブを選択する。"
   ]
  },
  {
   "cell_type": "markdown",
   "id": "d42f356d-e8dc-4b08-8797-bdfc8a58c63c",
   "metadata": {},
   "source": [
    "### 2) 1で開いたタブから、アップロードを押すと、手元のPCで作成したfortune.pyを選択出来るのでアップロードする。"
   ]
  },
  {
   "cell_type": "code",
   "execution_count": 5,
   "id": "ff1d6f1c-9613-47d6-8103-cc92c723fdf5",
   "metadata": {},
   "outputs": [],
   "source": [
    "# fortune.py\n",
    "def get_fortune():\n",
    "    import random # randamではなく、randomなので注意です\n",
    "    results = ['大吉', '吉', '小吉', '凶', '大凶', '末吉']\n",
    "    return random.choice(results)"
   ]
  },
  {
   "cell_type": "markdown",
   "id": "51170034-1f45-4804-ad93-d32146abbc97",
   "metadata": {},
   "source": [
    "### 3) その後Colab側で次のプログラムを実行。"
   ]
  },
  {
   "cell_type": "code",
   "execution_count": 6,
   "id": "de7365ec-bf62-44a4-8040-58f9405efd22",
   "metadata": {},
   "outputs": [
    {
     "name": "stdout",
     "output_type": "stream",
     "text": [
      "今日の運勢は．．． 大吉\n"
     ]
    }
   ],
   "source": [
    "import fortune\n",
    "result = fortune.get_fortune()\n",
    "print(\"今日の運勢は．．．\", result)"
   ]
  },
  {
   "cell_type": "markdown",
   "id": "1a6908b5-0422-40df-b668-d02681f41e82",
   "metadata": {},
   "source": [
    "## ライブラリ\n",
    "\n",
    "ライブラリとは、ある程度まとまった汎用性の高い処理（関数・クラス・その他）を他のプログラムから読み込むことで、使うことが出来るようにしたファイルです。\n",
    "\n",
    "Python内では基本的にimportできるものをライブラリと呼んだりします。\n",
    "\n",
    "なお、ライブラリは一般的な呼び名であり、Pythonでは、基本的にライブラリという表記があったら、下記で説明するモジュールのことだと思ってください。"
   ]
  },
  {
   "cell_type": "markdown",
   "id": "63c21719-50da-4ce2-b4d8-a7c0b6999d8c",
   "metadata": {},
   "source": [
    "## モジュールとパッケージ\n",
    "\n",
    "モジュールはPythonのコードをまとめたファイルであり、他のプログラムから再利用できるようにしたファイルのことを「モジュール｣と言います。\n",
    "\n",
    "それ単体では動作しませんが、importすることでモジュールが使えるようになります。\n",
    "\n",
    "パッケージとは__init__.pyと複数のモジュールがディレクトリに集まったものです。\n",
    "\n",
    "__init__.pyはパッケージディレクトリに置かれ、そのパッケージをインポートした際に実行されます。"
   ]
  },
  {
   "cell_type": "markdown",
   "id": "cd53854d-b78a-4429-9a28-05a227a50d8e",
   "metadata": {},
   "source": [
    "## モジュールのインポート\n",
    "\n",
    "import文の単純な使い方は次のようになります。\n",
    "\n",
    "import 読み込みたいモジュール\n",
    "\n",
    "読み込みたいモジュールの部分は、他のPythonファイルのファイル名から拡張子の.pyを取り除いたものです。\n",
    "\n",
    "例えば、sysモジュールを読み込みたい時は次のようにします。\n",
    "\n",
    "(sysモジュールは、Pythonをインストールした段階で利用できるモジュールの1つです。これを標準モジュールと呼び、他にもosモジュールなど様々あります。)"
   ]
  },
  {
   "cell_type": "code",
   "execution_count": 10,
   "id": "58f2dcd9-4eab-4885-93e5-1d41bd86e377",
   "metadata": {},
   "outputs": [],
   "source": [
    "import sys"
   ]
  },
  {
   "cell_type": "markdown",
   "id": "d6888234-54dd-4c5e-be11-04bf3e8f5c1d",
   "metadata": {},
   "source": [
    "複数のモジュールをインポートする場合、「,」でモジュール名を区切ってインポートできます。"
   ]
  },
  {
   "cell_type": "code",
   "execution_count": 11,
   "id": "6f69a81b-6bd9-4600-9e66-46e511263dcc",
   "metadata": {},
   "outputs": [],
   "source": [
    "import sys, os"
   ]
  },
  {
   "cell_type": "markdown",
   "id": "3f742c72-d5ae-4123-8f03-d15e351c71c0",
   "metadata": {},
   "source": [
    "例えばmathモジュールのcos関数を利用したい場合はモジュール名.関数名(引数）で利用できます。"
   ]
  },
  {
   "cell_type": "code",
   "execution_count": 12,
   "id": "b47f3013-355a-4b99-9f7e-3b145fdfde59",
   "metadata": {},
   "outputs": [
    {
     "data": {
      "text/plain": [
       "0.5403023058681398"
      ]
     },
     "execution_count": 12,
     "metadata": {},
     "output_type": "execute_result"
    }
   ],
   "source": [
    "import math\n",
    "math.cos(1)"
   ]
  },
  {
   "cell_type": "markdown",
   "id": "f5ef31ae-921c-44de-8916-100ce58169b8",
   "metadata": {},
   "source": [
    "## 独自で作成したモジュールをインポートする\n",
    "\n",
    "今回は運勢プログラム(占いモジュール)を作ります。\n",
    "\n",
    "まずmainプログラムを作成します。\n",
    "\n",
    "（ファイル名は自由ですがここではmain.pyとします。）"
   ]
  },
  {
   "cell_type": "code",
   "execution_count": 15,
   "id": "d284d062-9792-4b71-bd38-560575751c56",
   "metadata": {},
   "outputs": [
    {
     "name": "stdout",
     "output_type": "stream",
     "text": [
      "今日の運勢は...  小吉\n"
     ]
    }
   ],
   "source": [
    "# main.py\n",
    "import fortune\n",
    "result = fortune.get_fortune()\n",
    "print(\"今日の運勢は... \", result)"
   ]
  },
  {
   "cell_type": "markdown",
   "id": "ebb0a8d4-5146-4b2b-a467-e85d76687d94",
   "metadata": {},
   "source": [
    "では次にfortuneモジュールを作っていきます。\n",
    "\n",
    "下記プログラムをfortune.pyというファイル名で上の作成したmainプログラム(main.py)と同じ場所に保存してください。"
   ]
  },
  {
   "cell_type": "code",
   "execution_count": 17,
   "id": "225f73ec-2eea-4ed2-8812-c01708995eeb",
   "metadata": {},
   "outputs": [],
   "source": [
    "# fortune.py\n",
    "def get_fortune():\n",
    "    import random # randamではなく、randomなので注意です\n",
    "    results = ['大吉', '吉', '小吉', '凶', '大凶', '末吉']\n",
    "    return random.choice(results)"
   ]
  },
  {
   "cell_type": "markdown",
   "id": "dfbce4da-1054-4286-8b7f-ead2cbe1437a",
   "metadata": {},
   "source": [
    "それでは、main.pyとfortune.pyを同じフォルダに保存してあると思いますので、作成したmain.pyを実行してみましょう。\n",
    "\n",
    "実行するには、Macをお使いの方は、ターミナル、Windowsの方はコマンドプロンプトから、保存されたmain.pyを実行します。\n",
    "* * *\n",
    "python main.py\n",
    "* * *"
   ]
  },
  {
   "cell_type": "markdown",
   "id": "f86a4549-59ad-4615-9520-e071cd97c056",
   "metadata": {},
   "source": [
    "上記を実行する際に、そのままターミナルを起動して上記のコマンドを実行した場合に、\n",
    "\n",
    "(null): can't open file 'main.py': [Errno 2] No such file or directoryというエラーがでる場合があります。\n",
    "\n",
    "これは、main.pyというファイルが今いる階層に存在しないためです。\n",
    "\n",
    "実行する度に、出力結果が変われば問題なく動作しています。"
   ]
  },
  {
   "cell_type": "markdown",
   "id": "bc9769dd-a542-4ddb-a74c-c1a24e4bab14",
   "metadata": {},
   "source": [
    "## fromとimport\n",
    "\n",
    "from ファイル名(モジュール名) import *でファイル名の指定なしに呼び出しが可能になります。"
   ]
  },
  {
   "cell_type": "markdown",
   "id": "6235b11c-ccf1-442f-ba0d-a882124dd569",
   "metadata": {},
   "source": [
    "from モジュール名 import *\n",
    "\n",
    "モジュールの関数などを利用する際に、モジュール名.の記述を省略して関数名だけで使用したい場合は以下になります。\n",
    "\n",
    "from モジュール名 import 関数名, 関数名, ...\n",
    "\n",
    "上記の構文を元に次のようにプログラムを書くことが出来ます。"
   ]
  },
  {
   "cell_type": "code",
   "execution_count": 18,
   "id": "e10a3e68-28f4-437c-b53d-7da2708b6754",
   "metadata": {},
   "outputs": [
    {
     "data": {
      "text/plain": [
       "0.5403023058681398"
      ]
     },
     "execution_count": 18,
     "metadata": {},
     "output_type": "execute_result"
    }
   ],
   "source": [
    "from math import cos, sin, tan\n",
    "cos(1)"
   ]
  },
  {
   "cell_type": "markdown",
   "id": "bbd19771-982c-407c-9af6-acdc6d9af003",
   "metadata": {},
   "source": [
    "先ほど、fortune.pyでrandom.choice(results)と記述しましたが、\n",
    "\n",
    "fortune.pyはfromを使い以下のように書き換えることができます。"
   ]
  },
  {
   "cell_type": "code",
   "execution_count": 19,
   "id": "ecd2c9f6-bccd-4b30-9387-8ab7d10900c8",
   "metadata": {},
   "outputs": [],
   "source": [
    "# fortune.py\n",
    "def get_fortune():\n",
    "    from random import choice\n",
    "    results = ['大吉', '吉', '小吉', '凶', '大凶', '末吉']\n",
    "    return choice(results)"
   ]
  },
  {
   "cell_type": "markdown",
   "id": "50f2f710-9929-4658-b968-ce28e3fd3e29",
   "metadata": {},
   "source": [
    "また、名前を指定せずにモジュール内のすべてのメンバ(関数、定数、クラスなどのこと)をインポートする場合は、以下のように指定します。\n",
    "\n",
    "# from モジュール名 import *\n",
    "~~~\n",
    "from math import *\n",
    "cos(1)\n",
    "sin(1)\n",
    "~~~"
   ]
  },
  {
   "cell_type": "markdown",
   "id": "35115309-f7c3-4d9f-9b3a-53aa2b01a6d2",
   "metadata": {},
   "source": [
    "fortune.pyでrandomをサンプルでimportしているのは関数内ですが、\n",
    "\n",
    "関数外でもインポートできます。"
   ]
  },
  {
   "cell_type": "code",
   "execution_count": 21,
   "id": "ed097828-0be1-4d9c-b5c3-ef8cf9f0692e",
   "metadata": {},
   "outputs": [
    {
     "name": "stdout",
     "output_type": "stream",
     "text": [
      "末吉\n"
     ]
    },
    {
     "data": {
      "text/plain": [
       "0.8414709848078965"
      ]
     },
     "execution_count": 21,
     "metadata": {},
     "output_type": "execute_result"
    }
   ],
   "source": [
    "# fortune.py\n",
    "from random import *\n",
    "\n",
    "def get_fortune():\n",
    "    results = ['大吉', '吉', '小吉', '凶', '大凶', '末吉']\n",
    "    return choice(results)\n",
    "\n",
    "print(get_fortune())\n",
    "sin(1)"
   ]
  },
  {
   "cell_type": "markdown",
   "id": "fc689aa8-2096-4cf9-b98f-ac2f074204bb",
   "metadata": {},
   "source": [
    "## 別名でのモジュールのインポート"
   ]
  },
  {
   "cell_type": "code",
   "execution_count": 23,
   "id": "3b02bcc6-93d6-4d0c-85d5-b78055c107b4",
   "metadata": {},
   "outputs": [
    {
     "name": "stdout",
     "output_type": "stream",
     "text": [
      "今日の運勢は...  小吉\n"
     ]
    }
   ],
   "source": [
    "# main.py\n",
    "import fortune\n",
    "\n",
    "result = fortune.get_fortune()\n",
    "print(\"今日の運勢は... \", result)"
   ]
  },
  {
   "cell_type": "markdown",
   "id": "c4465e41-cb77-460c-95f5-1c5c5f43cb1e",
   "metadata": {},
   "source": [
    "import fortuneと記述していましたが、asを用いることで、別名をつけることができます。\n",
    "\n",
    "以下が別名をつけたサンプルです。"
   ]
  },
  {
   "cell_type": "code",
   "execution_count": 24,
   "id": "7e0b66f0-2bbe-4c68-bb77-451ac65324ea",
   "metadata": {},
   "outputs": [
    {
     "name": "stdout",
     "output_type": "stream",
     "text": [
      "今日の運勢は...  末吉\n"
     ]
    }
   ],
   "source": [
    "import fortune as ft\n",
    "\n",
    "result = ft.get_fortune()\n",
    "print(\"今日の運勢は... \", result)"
   ]
  },
  {
   "cell_type": "markdown",
   "id": "facb0a3e-61ae-4a02-b049-d548612fca5b",
   "metadata": {},
   "source": [
    "別名をつけたことでft.get_fortune()と呼び出すことが出来るようになりました。"
   ]
  },
  {
   "cell_type": "markdown",
   "id": "50adf31e-0492-41af-bc78-ddb36d15fec8",
   "metadata": {},
   "source": [
    "## 必要なものだけをインポートする\n",
    "\n",
    "*で全てインポートしましたが、必要な部品だけもインポートできます。"
   ]
  },
  {
   "cell_type": "code",
   "execution_count": 25,
   "id": "93419106-cb79-4631-b562-691df274c1a3",
   "metadata": {},
   "outputs": [
    {
     "name": "stdout",
     "output_type": "stream",
     "text": [
      "今日の運勢は...  吉\n"
     ]
    }
   ],
   "source": [
    "from fortune import get_fortune\n",
    "\n",
    "result = get_fortune()\n",
    "print(\"今日の運勢は... \", result)"
   ]
  },
  {
   "cell_type": "markdown",
   "id": "3f79215d-e514-4618-b997-63dd4a30765b",
   "metadata": {},
   "source": [
    "また別名をつけ、かつget_fortuneだけインポートするサンプルです。"
   ]
  },
  {
   "cell_type": "code",
   "execution_count": 26,
   "id": "87bea9ae-8c9b-442e-bc5e-d674e6f8bd3e",
   "metadata": {},
   "outputs": [
    {
     "name": "stdout",
     "output_type": "stream",
     "text": [
      "今日の運勢は...  大吉\n"
     ]
    }
   ],
   "source": [
    "from fortune import get_fortune as gf\n",
    "\n",
    "result = gf()\n",
    "print(\"今日の運勢は... \", result)"
   ]
  },
  {
   "cell_type": "markdown",
   "id": "0d7c7d54-9d1e-4ba1-8947-a8214f0c6650",
   "metadata": {},
   "source": [
    "## ライブラリ・モジュールの場所を調べる\n",
    "\n",
    "ライブラリの場所は、モジュールの file アトリビュートか path アトリビュートで調べることができます。\n",
    "\n",
    "例えば次のようにすることで調べられます。"
   ]
  },
  {
   "cell_type": "code",
   "execution_count": 28,
   "id": "ee77fc8e-0290-44bc-8fbb-a5796860c4e5",
   "metadata": {},
   "outputs": [
    {
     "name": "stdout",
     "output_type": "stream",
     "text": [
      "C:\\Users\\yamat\\.pyenv\\pyenv-win\\versions\\3.11.5\\Lib\\os.py\n"
     ]
    }
   ],
   "source": [
    "import os\n",
    "print( os.__file__ )"
   ]
  },
  {
   "cell_type": "markdown",
   "id": "77b5b270-58c3-4529-aa80-05aa422125e4",
   "metadata": {},
   "source": [
    "## おみくじアプリを実行してみる。\n",
    "\n",
    "Macの方は、ターミナル、Windowsの方はコマンドプロンプトを起動し、先ほど作成したmain.pyを次のmain.pyがあるフォルダに移動し、実行して見ましょう。\n",
    "\n",
    "* * *\n",
    "python main.py\n",
    "* * *"
   ]
  },
  {
   "cell_type": "markdown",
   "id": "842d59b4-998a-4e9a-b470-d8fa129dde0f",
   "metadata": {},
   "source": [
    "実行すると、\n",
    "* * *\n",
    "今日の運勢は... ○○です。\n",
    "* * *\n",
    "というように、○○には、ランダムで実行毎に運勢の結果が変わっているのがわかるかと思います。\n",
    "\n",
    "もしこの章でおみくじアプリが実行できなかった場合は下記テキストをご参考ください。\n",
    "\n",
    "コマンドプロンプトで動作するおみくじアプリを作ってみよう！"
   ]
  },
  {
   "cell_type": "code",
   "execution_count": null,
   "id": "5ca1207f-4671-4916-882f-18c1f8dd7a46",
   "metadata": {},
   "outputs": [],
   "source": []
  }
 ],
 "metadata": {
  "kernelspec": {
   "display_name": "Python 3 (ipykernel)",
   "language": "python",
   "name": "python3"
  },
  "language_info": {
   "codemirror_mode": {
    "name": "ipython",
    "version": 3
   },
   "file_extension": ".py",
   "mimetype": "text/x-python",
   "name": "python",
   "nbconvert_exporter": "python",
   "pygments_lexer": "ipython3",
   "version": "3.11.5"
  }
 },
 "nbformat": 4,
 "nbformat_minor": 5
}
