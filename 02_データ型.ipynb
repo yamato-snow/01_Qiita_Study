{
 "cells": [
  {
   "cell_type": "code",
   "execution_count": 4,
   "id": "bee71c37-3520-461b-8018-0a7cbfb13394",
   "metadata": {},
   "outputs": [
    {
     "name": "stdout",
     "output_type": "stream",
     "text": [
      "\n",
      "    まずはじめに、Pythonにおけるデータ型の全体像を俯瞰しましょう。\n",
      "\n",
      "    この章では、下図の整数型、文字列型、リスト型、辞書型に絞って学びます。\n",
      "\n",
      "    https://qiita.com/AI_Academy/items/b97b2178b4d10abe0adb#%E5%85%A8%E4%BD%93%E5%83%8F\n",
      "\n",
      "    https://qiita.com/AI_Academy/items/b97b2178b4d10abe0adb#%E3%83%AA%E3%82%B9%E3%83%88%E5%9E%8B%E3%81%A8%E8%BE%9E%E6%9B%B8%E5%9E%8B%E3%81%AE%E5%85%B1%E9%80%9A%E3%81%99%E3%82%8B%E3%81%A8%E3%81%93%E3%82%8D\n",
      "    \n"
     ]
    }
   ],
   "source": [
    "# 全体像\n",
    "print(\n",
    "    \"\"\"\n",
    "    まずはじめに、Pythonにおけるデータ型の全体像を俯瞰しましょう。\\n\n",
    "    この章では、下図の整数型、文字列型、リスト型、辞書型に絞って学びます。\\n\n",
    "    https://qiita.com/AI_Academy/items/b97b2178b4d10abe0adb#%E5%85%A8%E4%BD%93%E5%83%8F\\n\n",
    "    https://qiita.com/AI_Academy/items/b97b2178b4d10abe0adb#%E3%83%AA%E3%82%B9%E3%83%88%E5%9E%8B%E3%81%A8%E8%BE%9E%E6%9B%B8%E5%9E%8B%E3%81%AE%E5%85%B1%E9%80%9A%E3%81%99%E3%82%8B%E3%81%A8%E3%81%93%E3%82%8D\n",
    "    \"\"\"\n",
    ")"
   ]
  },
  {
   "cell_type": "code",
   "execution_count": 2,
   "id": "cfe5096c-3f5b-46a9-8ff3-bfb78574e187",
   "metadata": {},
   "outputs": [
    {
     "name": "stdout",
     "output_type": "stream",
     "text": [
      "My name is TomMy age is 24\n",
      "1500\n"
     ]
    }
   ],
   "source": [
    "name = \"Tom\"\n",
    "age = 24\n",
    "print(\"My name is \" + name + \"My age is \" + str(age))\n",
    "\n",
    "# 先ほど、数値型を文字列型に変換しましたが、反対に文字列型を数値型に変換することもできます。\n",
    "# その場合「int」を用います。\n",
    "\n",
    "string_price = \"1000\"\n",
    "price = 500\n",
    "\n",
    "total_price = int(string_price) + price\n",
    "print(total_price) # 1500"
   ]
  },
  {
   "cell_type": "code",
   "execution_count": null,
   "id": "1cab4bda-cc74-48e0-9b15-24508b0b2b6c",
   "metadata": {},
   "outputs": [],
   "source": []
  }
 ],
 "metadata": {
  "kernelspec": {
   "display_name": "Python 3 (ipykernel)",
   "language": "python",
   "name": "python3"
  },
  "language_info": {
   "codemirror_mode": {
    "name": "ipython",
    "version": 3
   },
   "file_extension": ".py",
   "mimetype": "text/x-python",
   "name": "python",
   "nbconvert_exporter": "python",
   "pygments_lexer": "ipython3",
   "version": "3.11.5"
  }
 },
 "nbformat": 4,
 "nbformat_minor": 5
}
