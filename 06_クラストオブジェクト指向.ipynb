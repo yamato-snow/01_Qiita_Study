{
 "cells": [
  {
   "cell_type": "markdown",
   "id": "b1ec306f-51d0-4985-af81-d4934673449c",
   "metadata": {},
   "source": [
    "# はじめに\n",
    "\n",
    "[はじめに](https://qiita.com/AI_Academy/items/b97b2178b4d10abe0adb#%E3%81%AF%E3%81%98%E3%82%81%E3%81%AB-1)\n",
    "\r",
    "[\n",
    "メソッドのオーバーライ](https://qiita.com/AI_Academy/items/b97b2178b4d10abe0adb#%E3%83%A1%E3%82%BD%E3%83%83%E3%83%89%E3%81%AE%E3%82%AA%E3%83%BC%E3%83%90%E3%83%A9%E3%82%A4%E3%83%89)ド\n",
    "\n",
    "Pythonはオブジェクト指向言語と呼ばれております。\n",
    "\n",
    "この章ではこのオブジェクト指向言語の理解には欠かせない、『**クラス**』の基本に関して説明します。\n",
    "\n",
    "Pythonに限らず、オブジェクト指向言語には、クラスを使うことが出来ます。\n",
    "\n",
    "\n",
    "**オブジェクト指向は理解がしにくいものですので、**\n",
    "\n",
    "**このテキストだけで全てを理解しようとせず、こういうものなんだなという程度の理解で構いませんので、自分のペースで学習を続けてください。**\n",
    "\n",
    "### 追加参考サイト\n",
    "\n",
    "[Zeen｜Pythonのオブジェクト指向プログラミングを完全理解 (1)](https://zenn.dev/kaitolucifer/articles/f7d9ea4ef0dc19)\n",
    "\n",
    "[Zeen｜Pythonのオブジェクト指向プログラミングを完全理解 (2)](https://zenn.dev/kaitolucifer/articles/6e2a1e2896de3b)\n",
    "\n",
    "[Qiita｜Pythonのオブジェクト指向プログラミングを完全理解](https://qiita.com/kaitolucifer/items/926ed9bc08426ad8e835)\n",
    "\n",
    "[Pythonのオブジェクト指向を理解しよう](https://itc.tokyo/python/python-object-orientation/)"
   ]
  },
  {
   "cell_type": "markdown",
   "id": "eaaaa6f9-dc9a-4d28-a463-f228300d94dd",
   "metadata": {},
   "source": [
    "## はじめに\n",
    "\n",
    "Pythonはオブジェクト指向言語と呼ばれております。\n",
    "\n",
    "この章ではこのオブジェクト指向言語の理解には欠かせない、『クラス』の基本に関して説明します。\n",
    "\n",
    "Pythonに限らず、オブジェクト指向言語には、クラスを使うことが出来ます。\n",
    "\n",
    "オブジェクト指向は理解がしにくいものですので、\n",
    "\n",
    "このテキストだけで全てを理解しようとせず、こういうものなんだなという程度の理解で構いませんので、自分のペースで学習を続けてください。"
   ]
  },
  {
   "cell_type": "markdown",
   "id": "3aa17d22-ed9a-4b7f-b09a-64421df0f66a",
   "metadata": {},
   "source": [
    "## 重要な用語\n",
    "\n",
    "今回この章の中では、以下の**10つの重要な用語**が登場します。\n",
    "\n",
    "これらは、Pythonに限らずオブジェクト指向言語(Javaなど）には全て持ち合わせています。\n",
    "                          \n",
    "用語の意味がわからなくなったら、1つ1つそれを説明しているセクションに戻り、復習をしてみてください。\n",
    "\n",
    "1. **オブジェクト指向**\n",
    "2. **クラス**\n",
    "3. **オブジェクト**\n",
    "4. **コンストラクタ**\n",
    "5. **インスタンス**\n",
    "6. **メソッド**\n",
    "7. **継承**\n",
    "8. **多重継承**\n",
    "9. **オーバーライド**\n",
    "10. **親クラスと子クラス**"
   ]
  },
  {
   "cell_type": "markdown",
   "id": "e8ef1267-0d1c-4d3f-93e2-09d62cfea240",
   "metadata": {},
   "source": [
    "## オブジェクト指向\n",
    "\n",
    "**オブジェクト指向とはプログラミングのスタイル・手法**のことで、プログラミングパラダイムと呼ばれる1つです。\n",
    "\n",
    "プログラミングパラダイムには、オブジェクト指向(オブジェクト指向プログラミング)以外にも、関数型プログラミング、**手続き型プログラミング**があります。\n",
    "\n",
    "手続き型プログラミングでは、連続した手続きを記述し、上から下へと流れ、変数などの状態が変化しながらコードを書いていきます。\n",
    "\n",
    "例えば、手続き型とは次のようなものを言います。"
   ]
  },
  {
   "cell_type": "code",
   "execution_count": 5,
   "id": "7fe7f602-468a-4b39-b3dd-7d745d9efcd5",
   "metadata": {},
   "outputs": [
    {
     "name": "stdout",
     "output_type": "stream",
     "text": [
      "30\n"
     ]
    }
   ],
   "source": [
    "a = 10\n",
    "b = 20\n",
    "y = a + b\n",
    "print(y) # 20"
   ]
  },
  {
   "cell_type": "markdown",
   "id": "c3804528-faaa-4758-bffc-07643b0d60ea",
   "metadata": {},
   "source": [
    "しかし、手続き型プログラミングには、すべてのコードがグローバル変数なため、プログラムが多くなるにつれ様々な問題が出てきます。\n",
    "\n",
    "例えば、ある関数でグローバル変数を変更し、別で書いた関数でそのグローバル変数を上書きするなどです。\n",
    "\n",
    "こうすると手続き型プログラミングの場合、次第にプログラムを管理することが困難になってきます。\n",
    "\n",
    "その問題を解決するきっかけにオブジェクト指向プログラミングが登場しています。\n",
    "\n",
    "オブジェクト指向は上記の問題を解決するだけでなく、開発の効率や保守性を上げることが出来ます。\n",
    "\n",
    "オブジェクト指向を活用可能なプログラミング言語は、PythonやJava、C++といった言語が挙げられます。\n",
    "\n",
    "今回は、Pythonを使いオブジェクト指向の基礎となるクラスから説明していきます。"
   ]
  },
  {
   "cell_type": "markdown",
   "id": "dfd1b014-70dd-4607-b4a5-3b572b629905",
   "metadata": {},
   "source": [
    "## クラス\n",
    "以前、intやstrなどのデータ型を見てきましたが、クラスとはデータ構造を作る仕組みで、クラスを使うと新しいデータ型を作ることができます。\n",
    "\n",
    "よくクラスは、オブジェクトを作る設計書と説明されます。\n",
    "\n",
    "クラスとインスタンスの関係のイメージ図です。\n",
    "\n",
    "クラス（データ構造を作る仕組みで設計図）→インスタンス化（たこ焼きを焼く）によりインスタンス（オブジェクト）を作成します。\n",
    "\n",
    "![イメージ図](https://camo.qiitausercontent.com/63824a96faa8509d655a113ef6375782ef67a1d3/68747470733a2f2f616961636164656d792e6a702f6173736574732f696d616765735f746573742f31385f31366438616666363331312e706e67)"
   ]
  },
  {
   "cell_type": "markdown",
   "id": "0dd8f970-a00f-4b7b-821f-87d556d90a4d",
   "metadata": {},
   "source": [
    "* * *"
   ]
  },
  {
   "cell_type": "markdown",
   "id": "fa944fec-1bad-40a7-8ab7-b9480b0a102d",
   "metadata": {},
   "source": [
    "インスタンス化というのはクラスからインスタンス（オブジェクト）を作ることです。\n",
    "\n",
    "オブジェクトに関して次のセクションにて説明致します。\n",
    "\n",
    "では早速実際にクラスを作ってみましょう。"
   ]
  },
  {
   "cell_type": "markdown",
   "id": "7c0cd7c3-7b43-457d-a928-3c996358adce",
   "metadata": {},
   "source": [
    "* * *"
   ]
  },
  {
   "cell_type": "markdown",
   "id": "44ce2a36-9ee4-4fd3-b154-5d73c7cceeca",
   "metadata": {},
   "source": [
    "クラスを作るとき，クラス名はCamelCase（キャメルケース）「単語の頭文字を大文字にして接続する書式」で作るようにしてください。\n",
    "\n",
    "また、関数やこの章で登場するメソッドの場合は、スネークケース(小文字の単語同士をアンダースコアで繋ぐ形式）を使います。\n",
    "                                \n",
    "（余談 ですが、小文字のみでアンダースコアなしのことをlowerケースと呼びます。）"
   ]
  },
  {
   "cell_type": "code",
   "execution_count": 12,
   "id": "7733cd92-b4d4-4c5c-ac5a-cb4ca8a422f3",
   "metadata": {},
   "outputs": [
    {
     "name": "stdout",
     "output_type": "stream",
     "text": [
      "A\n",
      "B\n"
     ]
    }
   ],
   "source": [
    "# Sampleクラスを作ります。（保存するファイル名は任意の名前で可能です。）\n",
    "class SampleClass: # クラス名の最初の文字は大文字で、また複数の単語の頭文字は大文字にします\n",
    "    # クラス内ではスペースを4つ開けてインデントしてください。クラスの中には変数やメソッド（クラスの中にある関数をメソッド）を定義できます。\n",
    "     '''sample class '''\n",
    "\n",
    "sample = SampleClass() \n",
    "# インスタンス クラスを使うには、関数の呼び出しのように、クラス名()することでインスタンス化します。\n",
    "# こうすることでクラスを使うことができます。sampleにSampleClassのインスタンスが格納されました。クラスからつくられたこのデータをインスタンスと呼びます。\n",
    "\n",
    "sample.name = \"A\"\n",
    "sample2 = SampleClass() # このSample型から、いくつでもデータを作ることができるのでsample2を作りましょう。\n",
    "\n",
    "sample2.name = \"B\" # sample2に対してさまざなな属性を作ることができる。\n",
    "\n",
    "print(sample.name) # sampleの名前はA\n",
    "print(sample2.name) # sample2の名前はB"
   ]
  },
  {
   "cell_type": "markdown",
   "id": "4999b1b5-3cb9-48c2-b0ac-8123ce33aadf",
   "metadata": {},
   "source": [
    "* * *"
   ]
  },
  {
   "cell_type": "markdown",
   "id": "a17b5041-4e83-4aa2-ae71-8dd64ee15464",
   "metadata": {},
   "source": [
    "空のクラス（中身のないクラス）を作るには次のように書きます。"
   ]
  },
  {
   "cell_type": "code",
   "execution_count": 13,
   "id": "7300fec5-842c-421f-a005-45033dd60003",
   "metadata": {},
   "outputs": [],
   "source": [
    "class SampleClass:\n",
    "    pass # passを使うことで空のクラス(や関数)を作ることが出来ます。\n",
    "\n",
    "sample = SampleClass()\n",
    "sample.name = \"Sample\""
   ]
  },
  {
   "cell_type": "markdown",
   "id": "7f33d0fe-2a1c-497c-bfa6-1829c6dba923",
   "metadata": {},
   "source": [
    "## オブジェクト\n",
    "\n",
    "オブジェクトとはデータ（属性）とメソッド（クラスに定義された関数）を持ったものです。\n",
    "\n",
    "そして、Pythonの値は全てオブジェクトであり、オブジェクトには実行で出来る関数（メソッド）が定義されています。"
   ]
  },
  {
   "cell_type": "markdown",
   "id": "2f52cf04-18d5-4ad3-aeb7-47c9195fedd5",
   "metadata": {},
   "source": [
    "## 初期化メソッド（コンストラクタ）\n",
    "\n",
    "コンストラクタは対象のクラスのインスタンスを初期化するために利用します。\n",
    "\n",
    "※Pythonでは、厳密にはコンストラクタではなく、コンストラクタから呼び出される初期化メソッドになります。\n",
    "\n",
    "インスタンスを作る時に初期値を与えたい時にコンストラクタを使うと便利です。\n",
    "\n",
    "クラスには__init__という特殊なメソッドを書くことができます。\n",
    "\n",
    "これが初期化を行うメソッドでコンストラクタと呼び、クラスのインスタンスが作成される際に一度だけ呼ばれるメソッドです。\n",
    "\n",
    "また、**クラスが内包するデータを属性**と呼びます。\n",
    "\n",
    "実際に、プログラムを見ていきましょう。"
   ]
  },
  {
   "cell_type": "markdown",
   "id": "8c4cd584-9822-415f-9c61-51e077043cd3",
   "metadata": {},
   "source": [
    "* * *"
   ]
  },
  {
   "cell_type": "markdown",
   "id": "b4e40e1c-ddb5-45fc-8ba6-c3c2030f85d0",
   "metadata": {},
   "source": [
    "（今回はUserクラスを作っていきます。）"
   ]
  },
  {
   "cell_type": "code",
   "execution_count": 17,
   "id": "ed9a1c5c-aaa6-4d58-9b21-691467f7994b",
   "metadata": {},
   "outputs": [
    {
     "name": "stdout",
     "output_type": "stream",
     "text": [
      "コンストラクタが呼ばれました\n"
     ]
    }
   ],
   "source": [
    "class User:\n",
    "    def __init__(self, name): # インスタンス化されて渡ってくる値を受ける変数を定義します\n",
    "        # インスタンス変数（属性の初期化）\n",
    "        self.name = name\n",
    "        print(\"コンストラクタが呼ばれました\")\n",
    "\n",
    "    def hello(self):\n",
    "        print(\"Hello \" + self.name)\n",
    "\n",
    "user = User(\"Sample User\") # userというインスタンスを生成しています。"
   ]
  },
  {
   "cell_type": "markdown",
   "id": "f6889d52-81d7-4693-920e-5bcadba2d809",
   "metadata": {},
   "source": [
    "Userクラスのコンストラクタはnameという引数を取り、その引数で変数であるself.name（この変数のことをインスタンス変数と呼びます）を初期化しています。\n",
    "\n",
    "インスタンス変数は、個々のインスタンスに格納される変数のことです。\n",
    "\n",
    "ここではnameがインスタンス変数です。\n",
    "\n",
    "helloメソッド内で、selfの後に属性名を書いていますが、このように書くことで、インスタンス変数の作成及びアクセスができます。"
   ]
  },
  {
   "cell_type": "code",
   "execution_count": 18,
   "id": "82e72779-2d30-4a85-8be0-e16f763dfcaf",
   "metadata": {},
   "outputs": [
    {
     "name": "stdout",
     "output_type": "stream",
     "text": [
      "コンストラクタが呼ばれました\n",
      "コンストラクタが呼ばれました\n",
      "Hello Sample User\n",
      "Hello python\n"
     ]
    }
   ],
   "source": [
    "user = User(\"Sample User\")\n",
    "py = User(\"python\")\n",
    "\n",
    "user.hello()\n",
    "py.hello()"
   ]
  },
  {
   "cell_type": "markdown",
   "id": "c0ef93c0-9274-40e2-b8bf-505517e52e2d",
   "metadata": {},
   "source": [
    "## メソッド\n",
    "\n",
    "メソッドとはクラスに定義された関数のことです。\n",
    "\n",
    "前回、空のSampleClassを定義しましたが、今回はメソッドを持つ、SampleClassを作ります。"
   ]
  },
  {
   "cell_type": "code",
   "execution_count": 19,
   "id": "83b51546-516e-4dec-91e3-b29299e85336",
   "metadata": {},
   "outputs": [
    {
     "name": "stdout",
     "output_type": "stream",
     "text": [
      "hello, Python\n",
      "hello, AI\n"
     ]
    }
   ],
   "source": [
    "class SampleClass:\n",
    "    # メソッド メソッドには1つ目の引数selfを必ずつけてください。selfというのはクラスのインスタンス自身を指しています\n",
    "    def set_name(self, name):\n",
    "        self.name = name \n",
    "        # 受け取った値をSampleClasasのインスタンスに格納する必要があります。\n",
    "        # そのためにself.name = nameとします。self自体がSampleClassのインスタンスをさしますので、nameと言うインスタンス変数を用意して引数nameを代入します。\n",
    "\n",
    "    def hello(self):\n",
    "        print(\"hello, {0}\".format(self.name))\n",
    "\n",
    "\n",
    "sample = SampleClass()\n",
    "sample2 = SampleClass()\n",
    "sample.set_name(\"Python\") # selfは自分自身を示すものなので、nameに当たるPythonだけの引数だけで問題ありません。\n",
    "sample2.set_name(\"AI\")\n",
    "sample.hello()\n",
    "sample2.hello()"
   ]
  },
  {
   "cell_type": "markdown",
   "id": "1399fcac-8e5e-45a0-8a3a-9f0ec493be81",
   "metadata": {},
   "source": [
    "## 継承\n",
    "\n",
    "継承は既存のクラスをもとに新しいクラスを作る仕組みです。\n",
    "\n",
    "継承を利用することで既存のクラスの拡張が効率良く行なうことが可能になり、またプログラムの保守性も上がります。\n",
    "\n",
    "User（親クラス・スーパークラス・基底クラス）-> SuperUser（子クラス・サブクラス・派生クラス）"
   ]
  },
  {
   "cell_type": "markdown",
   "id": "3f8135a1-fae6-4e13-a0e9-c93f3f2e5f08",
   "metadata": {},
   "source": [
    "これから定義する子クラスSuperUserクラスは、親クラスの機能が備わっているため、子クラスを定義する際には新しく追加したい機能だけを定義するだけで済みます。\n",
    "\n",
    "継承することで既存のクラスを再利用し、新たなクラスを作成することができます。\n",
    "\n",
    "では実際に見ていきましょう。"
   ]
  },
  {
   "cell_type": "code",
   "execution_count": null,
   "id": "24d2697c-bcdf-4cb3-a2c7-779269222735",
   "metadata": {},
   "outputs": [],
   "source": [
    "class User:\n",
    "    def __init__(self, name):\n",
    "        self.name = name\n",
    "\n",
    "    def hello(self):\n",
    "        print(\"Hello \" + self.name)\n",
    "\n",
    "class SuperUser(User): # ユーザークラスを継承するには、()の中にUserクラスを書けばoKです。\n",
    "    def __init__(self, name, age):\n",
    "        # super()を使うことで親クラスのメソッドを呼び出すことができます。\n",
    "        super().__init__(name) # こクラスから親クラスのコンストラクタを呼び出す\n",
    "        self.age = age\n",
    "\n",
    "    # メソッドのオーバーライド\n",
    "    def hello(self):\n",
    "        print(\"SuperHello\" + self.name)\n",
    "\n",
    "        # またこクラスのメソッドの中で、例えばオーバライドした\n",
    "        # メソッド内で、super()を使うことで親クラスUserのメソッドを呼び出すこともできます。\n",
    "\n",
    "        super().hello()\n",
    "\n",
    "t = SuperUser(\"tani\", 100)\n",
    "t.hello()"
   ]
  },
  {
   "cell_type": "markdown",
   "id": "f5a15ea2-eac8-4535-8821-37a2f8445ee4",
   "metadata": {},
   "source": [
    "## 多重継承\n",
    "\n",
    "多重継承とは、複数の親クラスから継承することです。\n",
    "\n",
    "下記の例では、Base1とBase2の2つが親クラス(基底クラス）でその2つから継承されていることを意味します。\n",
    "\n",
    "Pythonは多重継承をサポートしています。\n",
    "\n",
    "複数の基底クラスを持つクラス定義は次のような構文になります。\n",
    "~~~\n",
    "class SampleClassName(Base1, Base2):\n",
    "    ・・・・\n",
    "    ・・・・\n",
    "    # 上記のBase1を継承した後にBase2を継承します。\n",
    "~~~"
   ]
  },
  {
   "cell_type": "markdown",
   "id": "6a9af345-1593-433e-8e40-38e55847a2b6",
   "metadata": {},
   "source": [
    "## メソッドのオーバライド\n",
    "\n",
    "メソッドを独自の機能で上書きすることをオーバーライド(over ride)と言います。\n",
    "\n",
    "下記のDerivedクラス内のsampleメソッドがBaseクラスのsampleメソッドをオーバーライドすることで上書きされています。\n",
    "\n",
    "今回sampleメソッドのみオーバーライドしましたが、__init()__を含むあらゆるメソッドをオーバーライド出来ます。"
   ]
  },
  {
   "cell_type": "code",
   "execution_count": 24,
   "id": "564ee7df-8eb4-424f-af22-c94a919a4d78",
   "metadata": {},
   "outputs": [
    {
     "name": "stdout",
     "output_type": "stream",
     "text": [
      "Derived.sample()が呼ばれました\n",
      "Baseクラスtestメソッドが呼ばれました\n"
     ]
    }
   ],
   "source": [
    "# 基底クラス\n",
    "class Base:\n",
    "    def sample(self):\n",
    "        print(\"Base.sample()が呼ばれました\")\n",
    "\n",
    "    def test(self):\n",
    "        print(\"Baseクラスtestメソッドが呼ばれました\")\n",
    "\n",
    "# 派生クラス\n",
    "class Derived(Base):\n",
    "    def sample(self): # Baseクラスのsampleメソッドをオーバーライド\n",
    "        print(\"Derived.sample()が呼ばれました\")\n",
    "        self.test() # Baseクラスのtestメソッドを呼び出し\n",
    "\n",
    "d = Derived()\n",
    "d.sample()"
   ]
  },
  {
   "cell_type": "markdown",
   "id": "e11c93a8-0b85-4898-8979-865be2869eaf",
   "metadata": {},
   "source": [
    "元のBaseクラスは、親クラスもしくはスーパークラス（もしくは基底クラス）と呼ばれます。\n",
    "\n",
    "新しくできたDerivedクラスは子クラス、サブクラス、派生クラスなどと呼ばれます。"
   ]
  },
  {
   "cell_type": "markdown",
   "id": "0fc0eb23-29c8-4e00-99f1-53f7eeee45d7",
   "metadata": {},
   "source": [
    "## まとめ\n",
    "\n",
    "この記事では、Pythonとは何か、Pythonで出来ること、変数とデータ型、if文やfor文、モジュールやクラスなどを学びました。\n",
    "\n",
    "どれも基本的な内容ですので、しっかり押さえましょう。\n",
    "\n",
    "※この記事では、冒頭で説明した通り、AI AcademyのPython文法速習編とPython プログラミング入門編の内容をベースに一部修正を加えたものです。"
   ]
  },
  {
   "cell_type": "code",
   "execution_count": null,
   "id": "673c2e28-4a2b-4477-9f37-630393f52b22",
   "metadata": {},
   "outputs": [],
   "source": []
  }
 ],
 "metadata": {
  "kernelspec": {
   "display_name": "Python 3 (ipykernel)",
   "language": "python",
   "name": "python3"
  },
  "language_info": {
   "codemirror_mode": {
    "name": "ipython",
    "version": 3
   },
   "file_extension": ".py",
   "mimetype": "text/x-python",
   "name": "python",
   "nbconvert_exporter": "python",
   "pygments_lexer": "ipython3",
   "version": "3.11.5"
  }
 },
 "nbformat": 4,
 "nbformat_minor": 5
}
