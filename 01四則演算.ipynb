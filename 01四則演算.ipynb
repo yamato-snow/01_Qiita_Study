{
 "cells": [
  {
   "cell_type": "code",
   "execution_count": 7,
   "id": "6f75d74f-87ca-4266-a56d-7c86b40b8e81",
   "metadata": {},
   "outputs": [
    {
     "name": "stdout",
     "output_type": "stream",
     "text": [
      "10\n",
      "15\n",
      "3\n",
      "18\n",
      "5.0\n",
      "0\n",
      "5\n"
     ]
    }
   ],
   "source": [
    "print(10) #数値はクォーテーションで囲む必要はありません\n",
    "print(10 + 5) #足している\n",
    "print(5 - 2) #引いている\n",
    "print(3*6)#かけている\n",
    "print(10/2) #割っている\n",
    "print(10 % 5) #あまりを求めている\n",
    "\n",
    "#優先順位の変更\n",
    "#通常は +と-よりも*/の方が優先度が高いですが、()で囲むことで優先どを変えることが出来ます。\n",
    "print((20 - 5)//3) "
   ]
  },
  {
   "cell_type": "code",
   "execution_count": 5,
   "id": "d2c3a4b0-e2ec-492e-96d0-48666fc81122",
   "metadata": {},
   "outputs": [
    {
     "name": "stdout",
     "output_type": "stream",
     "text": [
      "15\n",
      "10+5\n"
     ]
    }
   ],
   "source": [
    "print(10+5)\n",
    "print(\"10+5\")"
   ]
  },
  {
   "cell_type": "code",
   "execution_count": 10,
   "id": "30da9278-1040-4d13-98c3-de8b60ed6022",
   "metadata": {},
   "outputs": [
    {
     "name": "stdout",
     "output_type": "stream",
     "text": [
      "var\n",
      "Var\n"
     ]
    }
   ],
   "source": [
    "lang = \"Python\"#変数langに文字列にpythonを代入\n",
    "\n",
    "var=\"var\"\n",
    "Var=\"Var\"\n",
    "print(var)#varと出力される\n",
    "print(Var)#Varと出力される\n",
    "\n",
    "#Pythonで変数名をつける際に２単位続ける場合\n",
    "lowercase_undersore = \"lowercase_undersore\"#推奨\n",
    "lowercaseundersore = \"lowercase_undersore\"#非推奨\n",
    "\n",
    "hello_world = \"Hello,World\"#推奨\n",
    "hellwold = \"Hell,world\"#非推奨\n",
    "\n",
    "#上記のように変数はすべて小文字で２つ以上の単語をつなげる場合は(_)を使うようにすることが推奨されています。\n",
    "#また非推奨の書き方で、変数を定義すすこともできます。しかしプログラミムにはエラーは出ませんが、推奨されている方法を使いましょう。"
   ]
  },
  {
   "cell_type": "code",
   "execution_count": 11,
   "id": "402b4346-5e15-4859-8872-57b0f33e4330",
   "metadata": {},
   "outputs": [
    {
     "name": "stdout",
     "output_type": "stream",
     "text": [
      "16\n",
      "13\n",
      "45\n",
      "3.75\n",
      "0\n"
     ]
    }
   ],
   "source": [
    "print(15 + 1)\n",
    "print(15 - 2)\n",
    "print(15 * 3)\n",
    "print(15 / 4)\n",
    "print(15 % 5)"
   ]
  },
  {
   "cell_type": "code",
   "execution_count": 12,
   "id": "04f32977-75c7-440a-8fb2-f6e02043cff8",
   "metadata": {},
   "outputs": [
    {
     "name": "stdout",
     "output_type": "stream",
     "text": [
      "221\n",
      "218\n",
      "660\n",
      "55.0\n",
      "0\n"
     ]
    }
   ],
   "source": [
    "x=220\n",
    "print(x +1)\n",
    "print(x - 2)\n",
    "print(x * 3)\n",
    "print(x / 4)\n",
    "print(x % 5)"
   ]
  },
  {
   "cell_type": "code",
   "execution_count": null,
   "id": "8c29c28c-f163-4cfc-bf7e-11cb0f886263",
   "metadata": {},
   "outputs": [],
   "source": []
  }
 ],
 "metadata": {
  "kernelspec": {
   "display_name": "Python 3 (ipykernel)",
   "language": "python",
   "name": "python3"
  },
  "language_info": {
   "codemirror_mode": {
    "name": "ipython",
    "version": 3
   },
   "file_extension": ".py",
   "mimetype": "text/x-python",
   "name": "python",
   "nbconvert_exporter": "python",
   "pygments_lexer": "ipython3",
   "version": "3.11.5"
  }
 },
 "nbformat": 4,
 "nbformat_minor": 5
}
