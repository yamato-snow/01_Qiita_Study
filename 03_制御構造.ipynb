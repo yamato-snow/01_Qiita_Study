{
 "cells": [
  {
   "cell_type": "code",
   "execution_count": 1,
   "id": "415c61d2-503b-4a8e-839f-8aed85bd553a",
   "metadata": {},
   "outputs": [],
   "source": [
    "# 制御構造\n",
    "\n",
    "# コードブロックとインデント\n",
    "# 末尾に:が出たらインデントする(スペース4つorTabキー)"
   ]
  },
  {
   "cell_type": "code",
   "execution_count": 3,
   "id": "653a982d-6dcc-465f-97c5-dd058bbea7be",
   "metadata": {},
   "outputs": [
    {
     "name": "stdout",
     "output_type": "stream",
     "text": [
      "合格やで！\n",
      "満点\n"
     ]
    }
   ],
   "source": [
    "# 条件分岐(if文)\n",
    "# >= 左の方が大きいか等しい\n",
    "# <= 右の方が大きいか等しい\n",
    "# == 左右が等しい\n",
    "# != 左右が等しくない\n",
    "\n",
    "score = 80\n",
    "if score > 78:\n",
    "    print(\"合格やで！\")\n",
    "else:\n",
    "    print(\"不合格やで！\")\n",
    "\n",
    "score = 100\n",
    "if score == 100:\n",
    "    print(\"満点\")\n",
    "elif score > 85:\n",
    "    print(\"合格やで！\")\n",
    "else:\n",
    "    print(\"不合格やで！\")"
   ]
  },
  {
   "cell_type": "code",
   "execution_count": 5,
   "id": "38cfcf70-5ec5-4c6c-a79f-38aa8a1e6d56",
   "metadata": {},
   "outputs": [
    {
     "name": "stdout",
     "output_type": "stream",
     "text": [
      "apple\n",
      "banana\n",
      "melon\n"
     ]
    }
   ],
   "source": [
    "# ループ\n",
    "# for ループ内変数 in リスト名:\n",
    "#     実行する処理\n",
    "for i in [\"apple\", \"banana\", \"melon\"]:\n",
    "    print(i)"
   ]
  },
  {
   "cell_type": "code",
   "execution_count": 6,
   "id": "bf48fa88-06e8-4e3c-bbd1-f926e43860b0",
   "metadata": {},
   "outputs": [
    {
     "name": "stdout",
     "output_type": "stream",
     "text": [
      "0\n",
      "1\n",
      "2\n",
      "3\n",
      "4\n",
      "5\n",
      "6\n",
      "7\n",
      "8\n",
      "9\n"
     ]
    }
   ],
   "source": [
    "# for文で一定回数の繰り返し処理を行うにはrange()関数を使用\n",
    "# range(x): 0からx-1までの連番のリストを返す\n",
    "# range(x,y): xからy-1までの連番のリストを返す\n",
    "for i in range(10):\n",
    "    print(i)"
   ]
  },
  {
   "cell_type": "code",
   "execution_count": 7,
   "id": "00190ae0-b045-42f3-a53f-ebd8a61331c5",
   "metadata": {},
   "outputs": [
    {
     "name": "stdout",
     "output_type": "stream",
     "text": [
      "1\n",
      "2\n",
      "3\n",
      "4\n"
     ]
    }
   ],
   "source": [
    "for i in range(1,5):\n",
    "    print(i)"
   ]
  },
  {
   "cell_type": "code",
   "execution_count": 11,
   "id": "6d2b05f9-184c-4a71-967d-9e58a801eba3",
   "metadata": {},
   "outputs": [
    {
     "name": "stdout",
     "output_type": "stream",
     "text": [
      "20\n",
      "40\n",
      "60\n",
      "88\n"
     ]
    }
   ],
   "source": [
    "data = [20, 40, 60, 88]\n",
    "for d in data:\n",
    "    print(d)"
   ]
  },
  {
   "cell_type": "code",
   "execution_count": 12,
   "id": "bc0e2567-423f-4baf-9643-47a60809b0cb",
   "metadata": {},
   "outputs": [
    {
     "name": "stdout",
     "output_type": "stream",
     "text": [
      "208\n"
     ]
    }
   ],
   "source": [
    "sum_d = 0\n",
    "for d in data:\n",
    "    sum_d += d # sum_d = sum_d + dを省略した書き方\n",
    "print(sum_d) # dataの値を足した数(20+40+60+88=208)が出る"
   ]
  },
  {
   "cell_type": "code",
   "execution_count": 15,
   "id": "67e8a5a0-4c74-4810-82f8-e8f93746bbd1",
   "metadata": {},
   "outputs": [
    {
     "name": "stdout",
     "output_type": "stream",
     "text": [
      "208\n"
     ]
    }
   ],
   "source": [
    "# for文、While文のループではelseを使える\n",
    "# ループが終了する時にelseの中が処理される(1回だけ処理される)\n",
    "sum_d = 0\n",
    "for d in data:\n",
    "    sum_d += d\n",
    "else:\n",
    "    print(sum_d)"
   ]
  },
  {
   "cell_type": "code",
   "execution_count": 16,
   "id": "3bb1b169-3a45-4ba5-986b-5f0e5421ebe3",
   "metadata": {},
   "outputs": [
    {
     "name": "stdout",
     "output_type": "stream",
     "text": [
      "0\n",
      "1\n",
      "2\n",
      "4\n",
      "5\n",
      "6\n",
      "7\n",
      "8\n",
      "9\n"
     ]
    }
   ],
   "source": [
    "# continue 1回スキップ\n",
    "for i in range(10):\n",
    "    if i == 3:\n",
    "        continue\n",
    "    print(i)"
   ]
  },
  {
   "cell_type": "code",
   "execution_count": 17,
   "id": "a3d2f5c5-291a-4a6e-ae88-ae9aaa3883d9",
   "metadata": {},
   "outputs": [
    {
     "name": "stdout",
     "output_type": "stream",
     "text": [
      "0\n",
      "1\n",
      "2\n"
     ]
    }
   ],
   "source": [
    "# break 処理を終了\n",
    "for i in range(10):\n",
    "    if i == 3:\n",
    "        break\n",
    "    print(i)"
   ]
  },
  {
   "cell_type": "code",
   "execution_count": 19,
   "id": "6396aba0-ea2b-45e6-afcc-f115ae2a0bcd",
   "metadata": {},
   "outputs": [
    {
     "name": "stdout",
     "output_type": "stream",
     "text": [
      "found\n"
     ]
    }
   ],
   "source": [
    "#for文でelseを使う際にbreakを使うと、elseの処理は実行されない\n",
    "data = [1, 2, 3, 4, 5, \"f\"]\n",
    "for x in data:\n",
    "    if x == \"f\":\n",
    "        print(\"found\")\n",
    "        break\n",
    "else:\n",
    "    print(\"not found\")"
   ]
  },
  {
   "cell_type": "code",
   "execution_count": 20,
   "id": "5fa7c10d-40a2-4fa5-ba5d-513e26df2369",
   "metadata": {},
   "outputs": [
    {
     "name": "stdout",
     "output_type": "stream",
     "text": [
      "h\n",
      "e\n",
      "l\n",
      "l\n",
      "o\n"
     ]
    }
   ],
   "source": [
    "# pythonのforはiterator（イテレータ)と呼ばれる仕組みで、タプルや、文字列、辞書などもkeyとして使える\n",
    "for char in \"hello\":\n",
    "    print(char)"
   ]
  },
  {
   "cell_type": "code",
   "execution_count": 22,
   "id": "e62f8d89-2035-4f84-a00c-59bcfea9e8ed",
   "metadata": {},
   "outputs": [
    {
     "name": "stdout",
     "output_type": "stream",
     "text": [
      "0 apple\n",
      "1 banana\n",
      "2 melon\n"
     ]
    }
   ],
   "source": [
    "# リストの要素を順に処理しつつ、インデックス番号も知りたい場合は「enumerate()」を使う\n",
    "for index, name in enumerate([\"apple\", \"banana\", \"melon\"]):\n",
    "    print(index, name)"
   ]
  },
  {
   "cell_type": "code",
   "execution_count": 23,
   "id": "c04af0bd-f84f-4ee9-9520-8c2b99767c25",
   "metadata": {},
   "outputs": [
    {
     "name": "stdout",
     "output_type": "stream",
     "text": [
      "[0, 1, 2, 3, 4, 5, 6, 7, 8, 9, 10, 11, 12, 13, 14, 15, 16, 17, 18, 19, 20, 21, 22, 23, 24, 25, 26, 27, 28, 29, 30, 31, 32, 33, 34, 35, 36, 37, 38, 39, 40, 41, 42, 43, 44, 45, 46, 47, 48, 49, 50, 51, 52, 53, 54, 55, 56, 57, 58, 59, 60, 61, 62, 63, 64, 65, 66, 67, 68, 69, 70, 71, 72, 73, 74, 75, 76, 77, 78, 79, 80, 81, 82, 83, 84, 85, 86, 87, 88, 89, 90, 91, 92, 93, 94, 95, 96, 97, 98, 99, 100]\n"
     ]
    }
   ],
   "source": [
    "# list()とrange()を組み合わせると、次のような1~100までの要素を持ったリストを簡潔に記述可\n",
    "print(list(range(101)))"
   ]
  },
  {
   "cell_type": "code",
   "execution_count": 25,
   "id": "5dac87b0-aab0-4360-85e4-9002afd5eefb",
   "metadata": {},
   "outputs": [
    {
     "name": "stdout",
     "output_type": "stream",
     "text": [
      "key: tani value: 21\n",
      "key: kazu value: 22\n",
      "key: python value: 100\n"
     ]
    }
   ],
   "source": [
    "# 辞書型のデータをループ\n",
    "data = {\"tani\": 21, \"kazu\": 22, \"python\": 100}\n",
    "for key, value in data.items():\n",
    "    print(\"key: {} value: {}\".format(key, value))"
   ]
  },
  {
   "cell_type": "code",
   "execution_count": 1,
   "id": "d9b785cb-9e30-4682-97c3-63a93eefef3d",
   "metadata": {},
   "outputs": [
    {
     "name": "stdout",
     "output_type": "stream",
     "text": [
      "0\n",
      "1\n",
      "2\n",
      "3\n",
      "4\n",
      "5\n",
      "6\n",
      "7\n",
      "8\n",
      "9\n"
     ]
    }
   ],
   "source": [
    "# while文 特定条件を満たすまでループを繰り返す\n",
    "# 無限ループに入ったらCtrl+Cで終了する\n",
    "n = 0\n",
    "while n < 10:\n",
    "    print(n)\n",
    "    n += 1"
   ]
  },
  {
   "cell_type": "code",
   "execution_count": null,
   "id": "6ee22711-8907-42fd-baf6-a971cd5dbc56",
   "metadata": {},
   "outputs": [],
   "source": [
    "# 故意に無限ループにする場合\n",
    "# while True:\n",
    "#     print(\"無限ループ\")"
   ]
  },
  {
   "cell_type": "code",
   "execution_count": 5,
   "id": "6a5604b7-a52d-4c08-aadd-e16670562143",
   "metadata": {},
   "outputs": [
    {
     "name": "stdout",
     "output_type": "stream",
     "text": [
      "[1, 4, 9, 16, 25, 36, 49, 64, 81, 100]\n"
     ]
    }
   ],
   "source": [
    "# リスト内包表記(List Comprehensions)は、既存のリストやジェネレータから新しいリストを作る\n",
    "# 既存のリストから取り出した要素に対し処理をするだけでなく、条件に応じた場合にだけ新しいリストに追加したい場合にも使える\n",
    "# 内包表記のメリットは、処理を簡潔に書け、新しいリストなどへの追加メソッドの呼び出しにかかるコストを軽減できる\n",
    "result = [x**2 for x in range(1,11)] # 1から10までの数値をそれぞれ2乗した数値のリストを作る\n",
    "print(result)"
   ]
  },
  {
   "cell_type": "code",
   "execution_count": 3,
   "id": "729d9b9e-d8ce-46db-a32c-5ba807f42510",
   "metadata": {},
   "outputs": [
    {
     "name": "stdout",
     "output_type": "stream",
     "text": [
      "[1, 4, 9, 16, 25, 36, 49, 64, 81, 100]\n"
     ]
    }
   ],
   "source": [
    "# 上記を通常のループで表示した場合\n",
    "result = []\n",
    "for i in range(1,11):\n",
    "    result.append(i**2)\n",
    "\n",
    "print(result)"
   ]
  },
  {
   "cell_type": "code",
   "execution_count": 6,
   "id": "4eb90ee1-afff-4b60-b53d-31f7718ed033",
   "metadata": {},
   "outputs": [
    {
     "name": "stdout",
     "output_type": "stream",
     "text": [
      "{1, 4, 9, 16, 25}\n"
     ]
    }
   ],
   "source": [
    "# その他内包表記\n",
    "# セットと辞書内包表記の場合、生成する値によっては出力される値の順番が保持されない場合があるため注意\n",
    "s = {x**2 for x in range(1,6)}\n",
    "print(s)"
   ]
  },
  {
   "cell_type": "code",
   "execution_count": 7,
   "id": "48f59d4e-8686-4871-8de0-fd30afe3ece4",
   "metadata": {},
   "outputs": [
    {
     "name": "stdout",
     "output_type": "stream",
     "text": [
      "{2: 1, 4: 4, 6: 9, 8: 16, 10: 25, 12: 36, 14: 49, 16: 64, 18: 81, 20: 100}\n"
     ]
    }
   ],
   "source": [
    "# 辞書内包表記の書き方は、キーと値をコロン「:」で区切る\n",
    "d = {x*2:x**2 for x in range(1,11)}\n",
    "print(d)"
   ]
  },
  {
   "cell_type": "code",
   "execution_count": 9,
   "id": "5c88d78b-8be6-4ae4-b0b1-e34d31ffe8b7",
   "metadata": {},
   "outputs": [
    {
     "name": "stdout",
     "output_type": "stream",
     "text": [
      "<generator object <genexpr> at 0x10b69fd30>\n",
      "(0, 1, 2, 3, 4)\n"
     ]
    }
   ],
   "source": [
    "# tuple内包表記は下記のように記述するとgenerator（ジェネレータ）になる\n",
    "# 「タプル」とは、複数のデータを一直線に並べた「コレクション」タイプのデータ型\n",
    "# ()で定義すると、タプル内包表記にはならないため注意\n",
    "# tupleはセット型と辞書型とは違いgeneratorが返ってきて、list()でキャストすると内包表記できる\n",
    "# tupleにする際には、tuple()でキャストする\n",
    "t = (x for x in range(5))\n",
    "print(t)\n",
    "\n",
    "t = tuple([x for x in range(5)])\n",
    "print(t)"
   ]
  },
  {
   "cell_type": "code",
   "execution_count": 11,
   "id": "5dbc37ff-0d53-4f9a-8f68-b3c6dc0a84cb",
   "metadata": {},
   "outputs": [
    {
     "name": "stdout",
     "output_type": "stream",
     "text": [
      "名前を入力してね\n"
     ]
    },
    {
     "name": "stdin",
     "output_type": "stream",
     "text": [
      " よっしー\n"
     ]
    },
    {
     "name": "stdout",
     "output_type": "stream",
     "text": [
      "あなたの名前はよっしーです\n"
     ]
    }
   ],
   "source": [
    "# 標準入力\n",
    "# input()でユーザからの入力を受け取ることができる\n",
    "# input()で受け取った値は文字列になる為、数値にしたい場合はint()等でキャストする\n",
    "print(\"名前を入力してね\")\n",
    "name = input()\n",
    "print(\"あなたの名前は\"+name+\"です\")"
   ]
  },
  {
   "cell_type": "code",
   "execution_count": null,
   "id": "44d6b6d2-a030-4c05-b4a8-086dc01b8751",
   "metadata": {},
   "outputs": [],
   "source": []
  }
 ],
 "metadata": {
  "kernelspec": {
   "display_name": "Python 3 (ipykernel)",
   "language": "python",
   "name": "python3"
  },
  "language_info": {
   "codemirror_mode": {
    "name": "ipython",
    "version": 3
   },
   "file_extension": ".py",
   "mimetype": "text/x-python",
   "name": "python",
   "nbconvert_exporter": "python",
   "pygments_lexer": "ipython3",
   "version": "3.11.5"
  }
 },
 "nbformat": 4,
 "nbformat_minor": 5
}
