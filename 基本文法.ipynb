{
 "cells": [
  {
   "cell_type": "code",
   "execution_count": 3,
   "id": "9b121cda-6e76-4e70-9b9a-352453c98198",
   "metadata": {},
   "outputs": [
    {
     "name": "stdout",
     "output_type": "stream",
     "text": [
      "\n",
      "コードの中にはコメントを書くことが出来ます。\n",
      "\n",
      "行頭に「#」を書くことで行末までコメントとみなされます。\n",
      "\n",
      "コメントを書くことで、コードが実行される時に全て無視されるので、コードに関するメモなどとして使うことが出来ます。\n",
      "\n",
      "業務では、複数人でアプリケーションを作ることがほとんどです。\n",
      "\n",
      "そのため、常日頃から他人がコードを読むときに読みやすいようにコメントを残しておくことは大事です。\n",
      "\n",
      "なるべく、プログラム内には他人が読みやすいように、コメントを書く習慣をつけることをオススメ致します。\n",
      "\n",
      "\n"
     ]
    }
   ],
   "source": [
    "# コメント\n",
    "print(\"\"\"\n",
    "コードの中にはコメントを書くことが出来ます。\\n\n",
    "行頭に「#」を書くことで行末までコメントとみなされます。\\n\n",
    "コメントを書くことで、コードが実行される時に全て無視されるので、コードに関するメモなどとして使うことが出来ます。\\n\n",
    "業務では、複数人でアプリケーションを作ることがほとんどです。\\n\n",
    "そのため、常日頃から他人がコードを読むときに読みやすいようにコメントを残しておくことは大事です。\\n\n",
    "なるべく、プログラム内には他人が読みやすいように、コメントを書く習慣をつけることをオススメ致します。\\n\n",
    "\"\"\")"
   ]
  },
  {
   "cell_type": "code",
   "execution_count": 4,
   "id": "f718e591-f209-43ff-be0a-a464ec7ac743",
   "metadata": {},
   "outputs": [
    {
     "name": "stdout",
     "output_type": "stream",
     "text": [
      "Hello, Python\n"
     ]
    }
   ],
   "source": [
    "# この行はコメントです。この行は実行されません。\n",
    "print(\"Hello, Python\") "
   ]
  },
  {
   "cell_type": "code",
   "execution_count": null,
   "id": "e61e9a8c-8bc1-4466-a4e9-f59d8a34f12b",
   "metadata": {},
   "outputs": [],
   "source": []
  }
 ],
 "metadata": {
  "kernelspec": {
   "display_name": "Python 3 (ipykernel)",
   "language": "python",
   "name": "python3"
  },
  "language_info": {
   "codemirror_mode": {
    "name": "ipython",
    "version": 3
   },
   "file_extension": ".py",
   "mimetype": "text/x-python",
   "name": "python",
   "nbconvert_exporter": "python",
   "pygments_lexer": "ipython3",
   "version": "3.11.5"
  }
 },
 "nbformat": 4,
 "nbformat_minor": 5
}
